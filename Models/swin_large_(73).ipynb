{
 "cells": [
  {
   "cell_type": "code",
   "execution_count": 1,
   "id": "6b70ebfc-50c0-4a86-8c4f-d9043e906b06",
   "metadata": {},
   "outputs": [],
   "source": [
    "!pip install -q git+https://github.com/qubvel/classification_models\n",
    "# !pip install --no-cache-dir --upgrade --force-reinstall git+https://github.com/shaoanlu/swin-transformer-tf \n",
    "# %cd Swin-Transformer"
   ]
  },
  {
   "cell_type": "code",
   "execution_count": 2,
   "id": "bf1499cc-7171-41e5-be42-89b5086545fa",
   "metadata": {},
   "outputs": [
    {
     "name": "stdout",
     "output_type": "stream",
     "text": [
      "Looking in indexes: https://pypi.org/simple, https://pypi.ngc.nvidia.com\n",
      "Requirement already satisfied: pandas in ./miniconda3/envs/TF219/lib/python3.10/site-packages (2.2.3)\n",
      "Requirement already satisfied: seaborn in ./miniconda3/envs/TF219/lib/python3.10/site-packages (0.13.2)\n",
      "Requirement already satisfied: imbalanced-learn in ./miniconda3/envs/TF219/lib/python3.10/site-packages (0.13.0)\n",
      "Requirement already satisfied: matplotlib in ./miniconda3/envs/TF219/lib/python3.10/site-packages (3.10.1)\n",
      "Requirement already satisfied: scikit-learn in ./miniconda3/envs/TF219/lib/python3.10/site-packages (1.6.1)\n",
      "Requirement already satisfied: scipy in ./miniconda3/envs/TF219/lib/python3.10/site-packages (1.15.2)\n",
      "Requirement already satisfied: numpy in ./miniconda3/envs/TF219/lib/python3.10/site-packages (2.1.3)\n",
      "Requirement already satisfied: typeguard==4.0.1 in ./miniconda3/envs/TF219/lib/python3.10/site-packages (4.0.1)\n",
      "Requirement already satisfied: torch in ./miniconda3/envs/TF219/lib/python3.10/site-packages (2.6.0)\n",
      "Requirement already satisfied: torchvision in ./miniconda3/envs/TF219/lib/python3.10/site-packages (0.21.0)\n",
      "Requirement already satisfied: transformers in ./miniconda3/envs/TF219/lib/python3.10/site-packages (4.49.0)\n",
      "Requirement already satisfied: timm in ./miniconda3/envs/TF219/lib/python3.10/site-packages (0.4.12)\n",
      "Requirement already satisfied: opencv-python in ./miniconda3/envs/TF219/lib/python3.10/site-packages (4.11.0.86)\n",
      "Requirement already satisfied: typing-extensions>=4.7.0 in ./miniconda3/envs/TF219/lib/python3.10/site-packages (from typeguard==4.0.1) (4.12.2)\n",
      "Requirement already satisfied: python-dateutil>=2.8.2 in ./miniconda3/envs/TF219/lib/python3.10/site-packages (from pandas) (2.9.0.post0)\n",
      "Requirement already satisfied: pytz>=2020.1 in ./miniconda3/envs/TF219/lib/python3.10/site-packages (from pandas) (2025.1)\n",
      "Requirement already satisfied: tzdata>=2022.7 in ./miniconda3/envs/TF219/lib/python3.10/site-packages (from pandas) (2025.1)\n",
      "Requirement already satisfied: sklearn-compat<1,>=0.1 in ./miniconda3/envs/TF219/lib/python3.10/site-packages (from imbalanced-learn) (0.1.3)\n",
      "Requirement already satisfied: joblib<2,>=1.1.1 in ./miniconda3/envs/TF219/lib/python3.10/site-packages (from imbalanced-learn) (1.4.2)\n",
      "Requirement already satisfied: threadpoolctl<4,>=2.0.0 in ./miniconda3/envs/TF219/lib/python3.10/site-packages (from imbalanced-learn) (3.6.0)\n",
      "Requirement already satisfied: contourpy>=1.0.1 in ./miniconda3/envs/TF219/lib/python3.10/site-packages (from matplotlib) (1.3.1)\n",
      "Requirement already satisfied: cycler>=0.10 in ./miniconda3/envs/TF219/lib/python3.10/site-packages (from matplotlib) (0.12.1)\n",
      "Requirement already satisfied: fonttools>=4.22.0 in ./miniconda3/envs/TF219/lib/python3.10/site-packages (from matplotlib) (4.56.0)\n",
      "Requirement already satisfied: kiwisolver>=1.3.1 in ./miniconda3/envs/TF219/lib/python3.10/site-packages (from matplotlib) (1.4.8)\n",
      "Requirement already satisfied: packaging>=20.0 in ./miniconda3/envs/TF219/lib/python3.10/site-packages (from matplotlib) (24.2)\n",
      "Requirement already satisfied: pillow>=8 in ./miniconda3/envs/TF219/lib/python3.10/site-packages (from matplotlib) (11.1.0)\n",
      "Requirement already satisfied: pyparsing>=2.3.1 in ./miniconda3/envs/TF219/lib/python3.10/site-packages (from matplotlib) (3.2.1)\n",
      "Requirement already satisfied: filelock in ./miniconda3/envs/TF219/lib/python3.10/site-packages (from torch) (3.17.0)\n",
      "Requirement already satisfied: networkx in ./miniconda3/envs/TF219/lib/python3.10/site-packages (from torch) (3.4.2)\n",
      "Requirement already satisfied: jinja2 in ./miniconda3/envs/TF219/lib/python3.10/site-packages (from torch) (3.1.6)\n",
      "Requirement already satisfied: fsspec in ./miniconda3/envs/TF219/lib/python3.10/site-packages (from torch) (2025.3.0)\n",
      "Requirement already satisfied: nvidia-cuda-nvrtc-cu12==12.4.127 in ./miniconda3/envs/TF219/lib/python3.10/site-packages (from torch) (12.4.127)\n",
      "Requirement already satisfied: nvidia-cuda-runtime-cu12==12.4.127 in ./miniconda3/envs/TF219/lib/python3.10/site-packages (from torch) (12.4.127)\n",
      "Requirement already satisfied: nvidia-cuda-cupti-cu12==12.4.127 in ./miniconda3/envs/TF219/lib/python3.10/site-packages (from torch) (12.4.127)\n",
      "Requirement already satisfied: nvidia-cudnn-cu12==9.1.0.70 in ./miniconda3/envs/TF219/lib/python3.10/site-packages (from torch) (9.1.0.70)\n",
      "Requirement already satisfied: nvidia-cublas-cu12==12.4.5.8 in ./miniconda3/envs/TF219/lib/python3.10/site-packages (from torch) (12.4.5.8)\n",
      "Requirement already satisfied: nvidia-cufft-cu12==11.2.1.3 in ./miniconda3/envs/TF219/lib/python3.10/site-packages (from torch) (11.2.1.3)\n",
      "Requirement already satisfied: nvidia-curand-cu12==10.3.5.147 in ./miniconda3/envs/TF219/lib/python3.10/site-packages (from torch) (10.3.5.147)\n",
      "Requirement already satisfied: nvidia-cusolver-cu12==11.6.1.9 in ./miniconda3/envs/TF219/lib/python3.10/site-packages (from torch) (11.6.1.9)\n",
      "Requirement already satisfied: nvidia-cusparse-cu12==12.3.1.170 in ./miniconda3/envs/TF219/lib/python3.10/site-packages (from torch) (12.3.1.170)\n",
      "Requirement already satisfied: nvidia-cusparselt-cu12==0.6.2 in ./miniconda3/envs/TF219/lib/python3.10/site-packages (from torch) (0.6.2)\n",
      "Requirement already satisfied: nvidia-nccl-cu12==2.21.5 in ./miniconda3/envs/TF219/lib/python3.10/site-packages (from torch) (2.21.5)\n",
      "Requirement already satisfied: nvidia-nvtx-cu12==12.4.127 in ./miniconda3/envs/TF219/lib/python3.10/site-packages (from torch) (12.4.127)\n",
      "Requirement already satisfied: nvidia-nvjitlink-cu12==12.4.127 in ./miniconda3/envs/TF219/lib/python3.10/site-packages (from torch) (12.4.127)\n",
      "Requirement already satisfied: triton==3.2.0 in ./miniconda3/envs/TF219/lib/python3.10/site-packages (from torch) (3.2.0)\n",
      "Requirement already satisfied: sympy==1.13.1 in ./miniconda3/envs/TF219/lib/python3.10/site-packages (from torch) (1.13.1)\n",
      "Requirement already satisfied: mpmath<1.4,>=1.1.0 in ./miniconda3/envs/TF219/lib/python3.10/site-packages (from sympy==1.13.1->torch) (1.3.0)\n",
      "Requirement already satisfied: huggingface-hub<1.0,>=0.26.0 in ./miniconda3/envs/TF219/lib/python3.10/site-packages (from transformers) (0.29.3)\n",
      "Requirement already satisfied: pyyaml>=5.1 in ./miniconda3/envs/TF219/lib/python3.10/site-packages (from transformers) (6.0.2)\n",
      "Requirement already satisfied: regex!=2019.12.17 in ./miniconda3/envs/TF219/lib/python3.10/site-packages (from transformers) (2024.11.6)\n",
      "Requirement already satisfied: requests in ./miniconda3/envs/TF219/lib/python3.10/site-packages (from transformers) (2.32.3)\n",
      "Requirement already satisfied: tokenizers<0.22,>=0.21 in ./miniconda3/envs/TF219/lib/python3.10/site-packages (from transformers) (0.21.1)\n",
      "Requirement already satisfied: safetensors>=0.4.1 in ./miniconda3/envs/TF219/lib/python3.10/site-packages (from transformers) (0.5.3)\n",
      "Requirement already satisfied: tqdm>=4.27 in ./miniconda3/envs/TF219/lib/python3.10/site-packages (from transformers) (4.67.1)\n",
      "Requirement already satisfied: six>=1.5 in ./miniconda3/envs/TF219/lib/python3.10/site-packages (from python-dateutil>=2.8.2->pandas) (1.17.0)\n",
      "Requirement already satisfied: MarkupSafe>=2.0 in ./miniconda3/envs/TF219/lib/python3.10/site-packages (from jinja2->torch) (3.0.2)\n",
      "Requirement already satisfied: charset-normalizer<4,>=2 in ./miniconda3/envs/TF219/lib/python3.10/site-packages (from requests->transformers) (3.4.1)\n",
      "Requirement already satisfied: idna<4,>=2.5 in ./miniconda3/envs/TF219/lib/python3.10/site-packages (from requests->transformers) (3.10)\n",
      "Requirement already satisfied: urllib3<3,>=1.21.1 in ./miniconda3/envs/TF219/lib/python3.10/site-packages (from requests->transformers) (2.3.0)\n",
      "Requirement already satisfied: certifi>=2017.4.17 in ./miniconda3/envs/TF219/lib/python3.10/site-packages (from requests->transformers) (2025.1.31)\n"
     ]
    }
   ],
   "source": [
    "!SETUPTOOLS_USE_DISTUTILS=1 pip install pandas seaborn imbalanced-learn matplotlib scikit-learn scipy numpy typeguard==4.0.1 torch torchvision transformers timm opencv-python\n",
    "# !pandas --version"
   ]
  },
  {
   "cell_type": "code",
   "execution_count": 3,
   "id": "45993253-0e62-46a8-bc69-dcbe99d1249a",
   "metadata": {},
   "outputs": [],
   "source": [
    "# !pip install --quiet torch torchvision transformers timm opencv-python"
   ]
  },
  {
   "cell_type": "code",
   "execution_count": 4,
   "id": "45f7ab72-fa72-4a3c-8e8a-643645901a65",
   "metadata": {},
   "outputs": [
    {
     "name": "stdout",
     "output_type": "stream",
     "text": [
      "Python 3.10.16\n"
     ]
    }
   ],
   "source": [
    "# !pip install tensorflow==2.5.0\n",
    "!python --version"
   ]
  },
  {
   "cell_type": "code",
   "execution_count": 5,
   "id": "3933c1ef-2c66-4806-9e3f-0774fef8714f",
   "metadata": {},
   "outputs": [
    {
     "name": "stderr",
     "output_type": "stream",
     "text": [
      "2025-03-17 17:53:10.708700: E external/local_xla/xla/stream_executor/cuda/cuda_fft.cc:467] Unable to register cuFFT factory: Attempting to register factory for plugin cuFFT when one has already been registered\n",
      "WARNING: All log messages before absl::InitializeLog() is called are written to STDERR\n",
      "E0000 00:00:1742248390.774540 4006018 cuda_dnn.cc:8579] Unable to register cuDNN factory: Attempting to register factory for plugin cuDNN when one has already been registered\n",
      "E0000 00:00:1742248390.793267 4006018 cuda_blas.cc:1407] Unable to register cuBLAS factory: Attempting to register factory for plugin cuBLAS when one has already been registered\n",
      "W0000 00:00:1742248390.923248 4006018 computation_placer.cc:177] computation placer already registered. Please check linkage and avoid linking the same target more than once.\n",
      "W0000 00:00:1742248390.923271 4006018 computation_placer.cc:177] computation placer already registered. Please check linkage and avoid linking the same target more than once.\n",
      "W0000 00:00:1742248390.923273 4006018 computation_placer.cc:177] computation placer already registered. Please check linkage and avoid linking the same target more than once.\n",
      "W0000 00:00:1742248390.923274 4006018 computation_placer.cc:177] computation placer already registered. Please check linkage and avoid linking the same target more than once.\n",
      "2025-03-17 17:53:10.939625: I tensorflow/core/platform/cpu_feature_guard.cc:210] This TensorFlow binary is optimized to use available CPU instructions in performance-critical operations.\n",
      "To enable the following instructions: AVX2 FMA, in other operations, rebuild TensorFlow with the appropriate compiler flags.\n"
     ]
    },
    {
     "name": "stdout",
     "output_type": "stream",
     "text": [
      "2.19.0\n"
     ]
    }
   ],
   "source": [
    "import tensorflow as tf\n",
    "print(tf.__version__)  # Should print 2.9"
   ]
  },
  {
   "cell_type": "code",
   "execution_count": 6,
   "id": "bcf6f4ef-7ad1-491b-9cb8-420ca363f313",
   "metadata": {},
   "outputs": [
    {
     "name": "stdout",
     "output_type": "stream",
     "text": [
      "Looking in indexes: https://pypi.org/simple, https://pypi.ngc.nvidia.com\n",
      "Requirement already satisfied: tfimm in ./miniconda3/envs/TF219/lib/python3.10/site-packages (0.2.14)\n",
      "Requirement already satisfied: markdown<4.0.0,>=3.3.6 in ./miniconda3/envs/TF219/lib/python3.10/site-packages (from tfimm) (3.7)\n",
      "Requirement already satisfied: numpy in ./miniconda3/envs/TF219/lib/python3.10/site-packages (from tfimm) (2.1.3)\n",
      "Requirement already satisfied: tensorflow<3.0,>=2.8 in ./miniconda3/envs/TF219/lib/python3.10/site-packages (from tfimm) (2.19.0)\n",
      "Requirement already satisfied: absl-py>=1.0.0 in ./miniconda3/envs/TF219/lib/python3.10/site-packages (from tensorflow<3.0,>=2.8->tfimm) (2.1.0)\n",
      "Requirement already satisfied: astunparse>=1.6.0 in ./miniconda3/envs/TF219/lib/python3.10/site-packages (from tensorflow<3.0,>=2.8->tfimm) (1.6.3)\n",
      "Requirement already satisfied: flatbuffers>=24.3.25 in ./miniconda3/envs/TF219/lib/python3.10/site-packages (from tensorflow<3.0,>=2.8->tfimm) (25.2.10)\n",
      "Requirement already satisfied: gast!=0.5.0,!=0.5.1,!=0.5.2,>=0.2.1 in ./miniconda3/envs/TF219/lib/python3.10/site-packages (from tensorflow<3.0,>=2.8->tfimm) (0.6.0)\n",
      "Requirement already satisfied: google-pasta>=0.1.1 in ./miniconda3/envs/TF219/lib/python3.10/site-packages (from tensorflow<3.0,>=2.8->tfimm) (0.2.0)\n",
      "Requirement already satisfied: libclang>=13.0.0 in ./miniconda3/envs/TF219/lib/python3.10/site-packages (from tensorflow<3.0,>=2.8->tfimm) (18.1.1)\n",
      "Requirement already satisfied: opt-einsum>=2.3.2 in ./miniconda3/envs/TF219/lib/python3.10/site-packages (from tensorflow<3.0,>=2.8->tfimm) (3.4.0)\n",
      "Requirement already satisfied: packaging in ./miniconda3/envs/TF219/lib/python3.10/site-packages (from tensorflow<3.0,>=2.8->tfimm) (24.2)\n",
      "Requirement already satisfied: protobuf!=4.21.0,!=4.21.1,!=4.21.2,!=4.21.3,!=4.21.4,!=4.21.5,<6.0.0dev,>=3.20.3 in ./miniconda3/envs/TF219/lib/python3.10/site-packages (from tensorflow<3.0,>=2.8->tfimm) (5.29.3)\n",
      "Requirement already satisfied: requests<3,>=2.21.0 in ./miniconda3/envs/TF219/lib/python3.10/site-packages (from tensorflow<3.0,>=2.8->tfimm) (2.32.3)\n",
      "Requirement already satisfied: setuptools in ./miniconda3/envs/TF219/lib/python3.10/site-packages (from tensorflow<3.0,>=2.8->tfimm) (75.8.0)\n",
      "Requirement already satisfied: six>=1.12.0 in ./miniconda3/envs/TF219/lib/python3.10/site-packages (from tensorflow<3.0,>=2.8->tfimm) (1.17.0)\n",
      "Requirement already satisfied: termcolor>=1.1.0 in ./miniconda3/envs/TF219/lib/python3.10/site-packages (from tensorflow<3.0,>=2.8->tfimm) (2.5.0)\n",
      "Requirement already satisfied: typing-extensions>=3.6.6 in ./miniconda3/envs/TF219/lib/python3.10/site-packages (from tensorflow<3.0,>=2.8->tfimm) (4.12.2)\n",
      "Requirement already satisfied: wrapt>=1.11.0 in ./miniconda3/envs/TF219/lib/python3.10/site-packages (from tensorflow<3.0,>=2.8->tfimm) (1.17.2)\n",
      "Requirement already satisfied: grpcio<2.0,>=1.24.3 in ./miniconda3/envs/TF219/lib/python3.10/site-packages (from tensorflow<3.0,>=2.8->tfimm) (1.71.0)\n",
      "Requirement already satisfied: tensorboard~=2.19.0 in ./miniconda3/envs/TF219/lib/python3.10/site-packages (from tensorflow<3.0,>=2.8->tfimm) (2.19.0)\n",
      "Requirement already satisfied: keras>=3.5.0 in ./miniconda3/envs/TF219/lib/python3.10/site-packages (from tensorflow<3.0,>=2.8->tfimm) (3.9.0)\n",
      "Requirement already satisfied: h5py>=3.11.0 in ./miniconda3/envs/TF219/lib/python3.10/site-packages (from tensorflow<3.0,>=2.8->tfimm) (3.13.0)\n",
      "Requirement already satisfied: ml-dtypes<1.0.0,>=0.5.1 in ./miniconda3/envs/TF219/lib/python3.10/site-packages (from tensorflow<3.0,>=2.8->tfimm) (0.5.1)\n",
      "Requirement already satisfied: tensorflow-io-gcs-filesystem>=0.23.1 in ./miniconda3/envs/TF219/lib/python3.10/site-packages (from tensorflow<3.0,>=2.8->tfimm) (0.37.1)\n",
      "Requirement already satisfied: wheel<1.0,>=0.23.0 in ./miniconda3/envs/TF219/lib/python3.10/site-packages (from astunparse>=1.6.0->tensorflow<3.0,>=2.8->tfimm) (0.45.1)\n",
      "Requirement already satisfied: rich in ./miniconda3/envs/TF219/lib/python3.10/site-packages (from keras>=3.5.0->tensorflow<3.0,>=2.8->tfimm) (13.9.4)\n",
      "Requirement already satisfied: namex in ./miniconda3/envs/TF219/lib/python3.10/site-packages (from keras>=3.5.0->tensorflow<3.0,>=2.8->tfimm) (0.0.8)\n",
      "Requirement already satisfied: optree in ./miniconda3/envs/TF219/lib/python3.10/site-packages (from keras>=3.5.0->tensorflow<3.0,>=2.8->tfimm) (0.14.1)\n",
      "Requirement already satisfied: charset-normalizer<4,>=2 in ./miniconda3/envs/TF219/lib/python3.10/site-packages (from requests<3,>=2.21.0->tensorflow<3.0,>=2.8->tfimm) (3.4.1)\n",
      "Requirement already satisfied: idna<4,>=2.5 in ./miniconda3/envs/TF219/lib/python3.10/site-packages (from requests<3,>=2.21.0->tensorflow<3.0,>=2.8->tfimm) (3.10)\n",
      "Requirement already satisfied: urllib3<3,>=1.21.1 in ./miniconda3/envs/TF219/lib/python3.10/site-packages (from requests<3,>=2.21.0->tensorflow<3.0,>=2.8->tfimm) (2.3.0)\n",
      "Requirement already satisfied: certifi>=2017.4.17 in ./miniconda3/envs/TF219/lib/python3.10/site-packages (from requests<3,>=2.21.0->tensorflow<3.0,>=2.8->tfimm) (2025.1.31)\n",
      "Requirement already satisfied: tensorboard-data-server<0.8.0,>=0.7.0 in ./miniconda3/envs/TF219/lib/python3.10/site-packages (from tensorboard~=2.19.0->tensorflow<3.0,>=2.8->tfimm) (0.7.2)\n",
      "Requirement already satisfied: werkzeug>=1.0.1 in ./miniconda3/envs/TF219/lib/python3.10/site-packages (from tensorboard~=2.19.0->tensorflow<3.0,>=2.8->tfimm) (3.1.3)\n",
      "Requirement already satisfied: MarkupSafe>=2.1.1 in ./miniconda3/envs/TF219/lib/python3.10/site-packages (from werkzeug>=1.0.1->tensorboard~=2.19.0->tensorflow<3.0,>=2.8->tfimm) (3.0.2)\n",
      "Requirement already satisfied: markdown-it-py>=2.2.0 in ./miniconda3/envs/TF219/lib/python3.10/site-packages (from rich->keras>=3.5.0->tensorflow<3.0,>=2.8->tfimm) (3.0.0)\n",
      "Requirement already satisfied: pygments<3.0.0,>=2.13.0 in ./miniconda3/envs/TF219/lib/python3.10/site-packages (from rich->keras>=3.5.0->tensorflow<3.0,>=2.8->tfimm) (2.19.1)\n",
      "Requirement already satisfied: mdurl~=0.1 in ./miniconda3/envs/TF219/lib/python3.10/site-packages (from markdown-it-py>=2.2.0->rich->keras>=3.5.0->tensorflow<3.0,>=2.8->tfimm) (0.1.2)\n"
     ]
    }
   ],
   "source": [
    "!pip install tfimm"
   ]
  },
  {
   "cell_type": "code",
   "execution_count": 7,
   "id": "40583c39-79b5-47e6-a815-6fe19f1b2ba1",
   "metadata": {},
   "outputs": [],
   "source": [
    "from tfimm import create_model\n",
    "# print(tfimm.list_models(pretrained=\"timm\"))"
   ]
  },
  {
   "cell_type": "code",
   "execution_count": 8,
   "id": "e5b70ea1-65c6-4bdd-a77d-5bab31c2cccd",
   "metadata": {},
   "outputs": [
    {
     "name": "stdout",
     "output_type": "stream",
     "text": [
      " TensorFlow Version: 2.19.0\n",
      " Keras Version: 3.9.0\n",
      " NumPy Version: 2.1.3\n",
      " SciPy Version: 1.15.2\n",
      " Pandas Version: 2.2.3\n",
      " Matplotlib Version: 3.10.1\n",
      " Seaborn Version: 0.13.2\n",
      " Scikit-Learn Version: 1.6.1\n"
     ]
    }
   ],
   "source": [
    "import tensorflow as tf\n",
    "import numpy as np\n",
    "import keras\n",
    "import scipy\n",
    "import pandas as pd\n",
    "import torch\n",
    "import matplotlib.pyplot as plt\n",
    "import seaborn as sns\n",
    "import sklearn\n",
    "\n",
    "print(\" TensorFlow Version:\", tf.__version__)  # Should print 2.9\n",
    "print(\" Keras Version:\", keras.__version__)  # Should print 2.9\n",
    "print(\" NumPy Version:\", np.__version__)  # Should print 1.21.6\n",
    "print(\" SciPy Version:\", scipy.__version__)  # Should print 1.6.3\n",
    "print(\" Pandas Version:\", pd.__version__)  # Should print 1.3.3\n",
    "print(\" Matplotlib Version:\", plt.matplotlib.__version__)  # Should print 3.4.3\n",
    "print(\" Seaborn Version:\", sns.__version__)  # Should print 0.11.2\n",
    "print(\" Scikit-Learn Version:\", sklearn.__version__)  # Should print 0.24.2"
   ]
  },
  {
   "cell_type": "code",
   "execution_count": 9,
   "id": "4977fbcb-476c-4539-a7ce-935f5456d911",
   "metadata": {},
   "outputs": [],
   "source": [
    "import os\n",
    "import math\n",
    "import numpy as np\n",
    "import pandas as pd\n",
    "import matplotlib.pyplot as plt\n",
    "import seaborn as sns\n",
    "import tensorflow as tf\n",
    "from imblearn.over_sampling import RandomOverSampler\n",
    "from sklearn.model_selection import train_test_split\n",
    "from sklearn.preprocessing import LabelEncoder\n",
    "from tensorflow.keras.preprocessing.image import ImageDataGenerator\n",
    "from tensorflow.keras.models import Sequential\n",
    "from tensorflow.keras.layers import GlobalAveragePooling2D, Dense\n",
    "from tensorflow.keras.models import Model\n",
    "# from tensorflow.keras.applications import EfficientNetB4\n",
    "import keras_tuner as kt\n",
    "from tensorflow.keras.optimizers import AdamW, SGD\n",
    "from tensorflow.keras.layers import Conv2D, MaxPooling2D, Flatten, Dense, Dropout\n",
    "from tensorflow.keras.callbacks import EarlyStopping, ReduceLROnPlateau\n",
    "# from classification_models.tfkeras import Classifiers"
   ]
  },
  {
   "cell_type": "code",
   "execution_count": 10,
   "id": "75cf7f88-d7f7-4542-8581-a6b3f4e20b3a",
   "metadata": {},
   "outputs": [
    {
     "name": "stdout",
     "output_type": "stream",
     "text": [
      "Available GPUs: [PhysicalDevice(name='/physical_device:GPU:0', device_type='GPU')]\n"
     ]
    }
   ],
   "source": [
    "import tensorflow as tf\n",
    "print(\"Available GPUs:\", tf.config.list_physical_devices('GPU'))"
   ]
  },
  {
   "cell_type": "code",
   "execution_count": 11,
   "id": "4ee5c77c-84fd-444a-8d27-24a4296760d2",
   "metadata": {},
   "outputs": [],
   "source": [
    "# !pip install -q wandb\n",
    "# import wandb\n",
    "# wandb.login(key=\"***\")"
   ]
  },
  {
   "cell_type": "code",
   "execution_count": 12,
   "id": "d6e96a3e-071f-408d-80a2-1725f845df51",
   "metadata": {},
   "outputs": [],
   "source": [
    "import os\n",
    "\n",
    "# Use home directory \n",
    "base_dir = \"/train/train\"\n",
    "base_test_dir = \"/test/test\"\n",
    "train_csv_path = \"/train.csv\"\n",
    "test_csv_path = \"/test.csv\""
   ]
  },
  {
   "cell_type": "code",
   "execution_count": 13,
   "id": "6633ad30-500c-4ed8-8749-2e2dc1af3473",
   "metadata": {},
   "outputs": [],
   "source": [
    "# Loading the Data \n",
    "train_df = pd.read_csv(train_csv_path)\n",
    "test_df = pd.read_csv(test_csv_path)\n",
    "\n",
    "# Add .jpg extension to md5hash column to reference the file_name\n",
    "train_df['md5hash'] = train_df['md5hash'].astype(str) + '.jpg'\n",
    "test_df['md5hash'] = test_df['md5hash'].astype(str) + '.jpg'\n",
    "\n",
    "# Combine label and md5hash to form the correct path\n",
    "train_df['file_path'] = train_df['label'] + '/' + train_df['md5hash']"
   ]
  },
  {
   "cell_type": "code",
   "execution_count": 14,
   "id": "4616c156-d565-459f-907f-f4af7807fba0",
   "metadata": {},
   "outputs": [
    {
     "name": "stdout",
     "output_type": "stream",
     "text": [
      "\n",
      "Total Missing Files: 0\n",
      "\n",
      "Total Existing Files: 2860\n",
      "✅ First 5 Existing Files for Reference:\n",
      "['train/train/prurigo-nodularis/fd06d13de341cc75ad679916c5d7e6a6.jpg', '/train/train/basal-cell-carcinoma-morpheiform/a4bb4e5206c4e89a303f470576fc5253.jpg', 'train/train/keloid/c94ce27e389f96bda998e7c3fa5c4a2e.jpg', '/train/train/basal-cell-carcinoma/ebcf2b50dd943c700d4e2b586fcd4425.jpg', '/train/train/prurigo-nodularis/c77d6c895f05fea73a8f3704307036c0.jpg']\n",
      "\n",
      "Train Data Sample:\n",
      "                                md5hash  fitzpatrick_scale  \\\n",
      "0  fd06d13de341cc75ad679916c5d7e6a6.jpg                  4   \n",
      "1  a4bb4e5206c4e89a303f470576fc5253.jpg                  1   \n",
      "2  c94ce27e389f96bda998e7c3fa5c4a2e.jpg                  5   \n",
      "3  ebcf2b50dd943c700d4e2b586fcd4425.jpg                  3   \n",
      "4  c77d6c895f05fea73a8f3704307036c0.jpg                  1   \n",
      "\n",
      "   fitzpatrick_centaur                             label nine_partition_label  \\\n",
      "0                    4                 prurigo-nodularis     benign-epidermal   \n",
      "1                    1  basal-cell-carcinoma-morpheiform  malignant-epidermal   \n",
      "2                    5                            keloid         inflammatory   \n",
      "3                    3              basal-cell-carcinoma  malignant-epidermal   \n",
      "4                    1                 prurigo-nodularis     benign-epidermal   \n",
      "\n",
      "  three_partition_label            qc  ddi_scale  \\\n",
      "0                benign           NaN         34   \n",
      "1             malignant           NaN         12   \n",
      "2        non-neoplastic  1 Diagnostic         56   \n",
      "3             malignant           NaN         34   \n",
      "4                benign           NaN         12   \n",
      "\n",
      "                                           file_path  \n",
      "0  prurigo-nodularis/fd06d13de341cc75ad679916c5d7...  \n",
      "1  basal-cell-carcinoma-morpheiform/a4bb4e5206c4e...  \n",
      "2        keloid/c94ce27e389f96bda998e7c3fa5c4a2e.jpg  \n",
      "3  basal-cell-carcinoma/ebcf2b50dd943c700d4e2b586...  \n",
      "4  prurigo-nodularis/c77d6c895f05fea73a8f37043070...  \n",
      "\n",
      "Test Data Sample:\n",
      "                                md5hash  fitzpatrick_scale  \\\n",
      "0  0844ae634f0e6e7ef1f73c2aeecbae0e.jpg                  2   \n",
      "1  3b290d262098f761d719aa07cf36c040.jpg                  4   \n",
      "2  cf561d08ac46d0fda678bff6621005ee.jpg                  2   \n",
      "3  e6371069be05c6b0a95b4b3f1bacc9a5.jpg                  4   \n",
      "4  f76cddb37265f97508f159078dcc7e7c.jpg                  5   \n",
      "\n",
      "   fitzpatrick_centaur   qc  ddi_scale  \n",
      "0                    2  NaN         12  \n",
      "1                    3  NaN         34  \n",
      "2                    3  NaN         12  \n",
      "3                    3  NaN         34  \n",
      "4                    5  NaN         56  \n"
     ]
    }
   ],
   "source": [
    "# Function to check if image files exist\n",
    "def check_image_paths(df, base_dir):\n",
    "    missing_files = []\n",
    "    existing_files = []\n",
    "    \n",
    "    for file_path in df['file_path']:\n",
    "        full_path = os.path.join(base_dir, file_path)\n",
    "        if not os.path.exists(full_path):\n",
    "            missing_files.append(full_path)\n",
    "        else:\n",
    "            existing_files.append(full_path)\n",
    "    \n",
    "    # Print results\n",
    "    print(f\"\\nTotal Missing Files: {len(missing_files)}\")\n",
    "    if missing_files:\n",
    "        print(\"⚠️ First 5 Missing Files for Reference:\")\n",
    "        print(missing_files[:5])\n",
    "\n",
    "    print(f\"\\nTotal Existing Files: {len(existing_files)}\")\n",
    "    if existing_files:\n",
    "        print(\"✅ First 5 Existing Files for Reference:\")\n",
    "        print(existing_files[:5])\n",
    "\n",
    "    return missing_files\n",
    "\n",
    "# Run the file existence check\n",
    "missing_train_files = check_image_paths(train_df, base_dir)\n",
    "\n",
    "# Print sample data\n",
    "print(\"\\nTrain Data Sample:\")\n",
    "print(train_df.head())\n",
    "\n",
    "print(\"\\nTest Data Sample:\")\n",
    "print(test_df.head())"
   ]
  },
  {
   "cell_type": "code",
   "execution_count": 15,
   "id": "e0c6a8b1-efeb-4c17-8562-92ac1632c934",
   "metadata": {},
   "outputs": [
    {
     "data": {
      "image/png": "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",
      "text/plain": [
       "<Figure size 1200x600 with 1 Axes>"
      ]
     },
     "metadata": {},
     "output_type": "display_data"
    }
   ],
   "source": [
    "plt.figure(figsize=(12, 6))\n",
    "sns.countplot(y=train_df['label'], order=train_df['label'].value_counts().index)\n",
    "\n",
    "plt.xlabel(\"Number of Images\")\n",
    "plt.ylabel(\"Class Labels\")\n",
    "plt.title(\"Label Distribution in Training Data\")\n",
    "plt.grid(axis='x', linestyle='--', alpha=0.7)\n",
    "plt.show()"
   ]
  },
  {
   "cell_type": "code",
   "execution_count": 16,
   "id": "c00372b5-dcc2-41d6-9278-3c2e8ff15d36",
   "metadata": {},
   "outputs": [
    {
     "name": "stdout",
     "output_type": "stream",
     "text": [
      "label\n",
      "squamous-cell-carcinoma               407\n",
      "basal-cell-carcinoma                  328\n",
      "folliculitis                          239\n",
      "acne-vulgaris                         234\n",
      "melanoma                              181\n",
      "eczema                                143\n",
      "acne                                  128\n",
      "mycosis-fungoides                     127\n",
      "actinic-keratosis                     122\n",
      "prurigo-nodularis                     119\n",
      "kaposi-sarcoma                        109\n",
      "keloid                                109\n",
      "dermatomyositis                       106\n",
      "superficial-spreading-melanoma-ssm     83\n",
      "pyogenic-granuloma                     79\n",
      "malignant-melanoma                     78\n",
      "epidermal-nevus                        64\n",
      "dyshidrotic-eczema                     58\n",
      "dermatofibroma                         55\n",
      "seborrheic-keratosis                   48\n",
      "basal-cell-carcinoma-morpheiform       43\n",
      "Name: count, dtype: int64\n",
      "Underrepresented classes: ['superficial-spreading-melanoma-ssm', 'pyogenic-granuloma', 'malignant-melanoma', 'epidermal-nevus', 'dyshidrotic-eczema', 'dermatofibroma', 'seborrheic-keratosis', 'basal-cell-carcinoma-morpheiform']\n"
     ]
    }
   ],
   "source": [
    "# Calculate counts per class\n",
    "class_counts = train_df['label'].value_counts()\n",
    "print(class_counts)\n",
    "\n",
    "# Define a threshold (e.g. classes with fewer than 100 samples are underrepresented)\n",
    "threshold = 100\n",
    "underrepresented_classes = class_counts[class_counts < threshold].index.tolist()\n",
    "\n",
    "print(\"Underrepresented classes:\", underrepresented_classes)"
   ]
  },
  {
   "cell_type": "code",
   "execution_count": 17,
   "id": "faf749ee-3fe4-4a91-b38e-5585de85cb41",
   "metadata": {},
   "outputs": [
    {
     "name": "stdout",
     "output_type": "stream",
     "text": [
      "🔍 Duplicate Images Found: 0\n"
     ]
    }
   ],
   "source": [
    "duplicate_counts = train_df['md5hash'].duplicated().sum()\n",
    "\n",
    "print(f\"🔍 Duplicate Images Found: {duplicate_counts}\")\n",
    "if duplicate_counts > 0:\n",
    "    print(train_df[train_df['md5hash'].duplicated(keep=False)].head(10))"
   ]
  },
  {
   "cell_type": "code",
   "execution_count": 18,
   "id": "c91ad6b0-65c8-4346-beac-b816a5770b22",
   "metadata": {},
   "outputs": [
    {
     "name": "stdout",
     "output_type": "stream",
     "text": [
      "🔍 Missing Values per Column:\n",
      " qc    2770\n",
      "dtype: int64\n"
     ]
    }
   ],
   "source": [
    "# Check for missing values in each column\n",
    "missing_values = train_df.isnull().sum()\n",
    "\n",
    "print(\"🔍 Missing Values per Column:\\n\", missing_values[missing_values > 0])"
   ]
  },
  {
   "cell_type": "code",
   "execution_count": 19,
   "id": "12b31b30-26ff-4bc4-a53e-707ecfeb267e",
   "metadata": {},
   "outputs": [
    {
     "name": "stdout",
     "output_type": "stream",
     "text": [
      "\n",
      "🔍 Total Missing Images: 0\n"
     ]
    }
   ],
   "source": [
    "# Check if image files exist\n",
    "missing_files = []\n",
    "for file_path in train_df['file_path']:\n",
    "    full_path = os.path.join(base_dir, file_path)\n",
    "    if not os.path.exists(full_path):\n",
    "        missing_files.append(full_path)\n",
    "\n",
    "# Print results\n",
    "print(f\"\\n🔍 Total Missing Images: {len(missing_files)}\")\n",
    "if missing_files:\n",
    "    print(\"⚠️ First 5 Missing Images for Reference:\")\n",
    "    print(missing_files[:5])"
   ]
  },
  {
   "cell_type": "code",
   "execution_count": 20,
   "id": "444049ce-7211-4be7-803d-475117a88b1a",
   "metadata": {},
   "outputs": [],
   "source": [
    "# Encode categorical labels\n",
    "label_encoder_nine = LabelEncoder()\n",
    "label_encoder_three = LabelEncoder()\n",
    "\n",
    "train_df['nine_partition_label_encoded'] = label_encoder_nine.fit_transform(train_df['nine_partition_label'])\n",
    "train_df['three_partition_label_encoded'] = label_encoder_three.fit_transform(train_df['three_partition_label'])\n",
    "\n",
    "# Update X_train to include these features\n",
    "X_train = train_df[['md5hash', 'fitzpatrick_scale', 'fitzpatrick_centaur', 'nine_partition_label_encoded', 'three_partition_label_encoded', 'file_path', 'qc']]  # Rebuild X_train after encoding y_train = train_df['label']\n",
    "y_train = train_df['label']"
   ]
  },
  {
   "cell_type": "code",
   "execution_count": 21,
   "id": "dbb1112b-5808-4f25-a95e-e1f3a4a902ef",
   "metadata": {},
   "outputs": [
    {
     "name": "stdout",
     "output_type": "stream",
     "text": [
      "Columns in test_df: Index(['md5hash', 'fitzpatrick_scale', 'fitzpatrick_centaur', 'qc',\n",
      "       'ddi_scale'],\n",
      "      dtype='object')\n"
     ]
    },
    {
     "data": {
      "text/plain": [
       "ddi_scale  nine_partition_label        \n",
       "-1         benign-dermal                     3\n",
       "           benign-epidermal                  4\n",
       "           inflammatory                     31\n",
       "           malignant-cutaneous-lymphoma      4\n",
       "           malignant-dermal                  2\n",
       "           malignant-epidermal              45\n",
       "           malignant-melanoma               19\n",
       " 12        benign-dermal                    86\n",
       "           benign-epidermal                104\n",
       "           inflammatory                    536\n",
       "           malignant-cutaneous-lymphoma     64\n",
       "           malignant-dermal                 28\n",
       "           malignant-epidermal             477\n",
       "           malignant-melanoma              197\n",
       " 34        benign-dermal                    42\n",
       "           benign-epidermal                 87\n",
       "           inflammatory                    331\n",
       "           malignant-cutaneous-lymphoma     48\n",
       "           malignant-dermal                 50\n",
       "           malignant-epidermal             301\n",
       "           malignant-melanoma               96\n",
       " 56        benign-dermal                     3\n",
       "           benign-epidermal                 36\n",
       "           inflammatory                    119\n",
       "           malignant-cutaneous-lymphoma     11\n",
       "           malignant-dermal                 29\n",
       "           malignant-epidermal              77\n",
       "           malignant-melanoma               30\n",
       "dtype: int64"
      ]
     },
     "execution_count": 21,
     "metadata": {},
     "output_type": "execute_result"
    }
   ],
   "source": [
    "print(\"Columns in test_df:\", test_df.columns)\n",
    "train_df.groupby(['ddi_scale', 'nine_partition_label']).size()"
   ]
  },
  {
   "cell_type": "code",
   "execution_count": 22,
   "id": "b8abf49b-a9d7-44c7-96f1-379d49d419db",
   "metadata": {},
   "outputs": [
    {
     "data": {
      "text/html": [
       "<div>\n",
       "<style scoped>\n",
       "    .dataframe tbody tr th:only-of-type {\n",
       "        vertical-align: middle;\n",
       "    }\n",
       "\n",
       "    .dataframe tbody tr th {\n",
       "        vertical-align: top;\n",
       "    }\n",
       "\n",
       "    .dataframe thead th {\n",
       "        text-align: right;\n",
       "    }\n",
       "</style>\n",
       "<table border=\"1\" class=\"dataframe\">\n",
       "  <thead>\n",
       "    <tr style=\"text-align: right;\">\n",
       "      <th></th>\n",
       "      <th>md5hash</th>\n",
       "      <th>fitzpatrick_scale</th>\n",
       "      <th>fitzpatrick_centaur</th>\n",
       "      <th>nine_partition_label_encoded</th>\n",
       "      <th>three_partition_label_encoded</th>\n",
       "      <th>file_path</th>\n",
       "      <th>qc</th>\n",
       "    </tr>\n",
       "  </thead>\n",
       "  <tbody>\n",
       "    <tr>\n",
       "      <th>0</th>\n",
       "      <td>fd06d13de341cc75ad679916c5d7e6a6.jpg</td>\n",
       "      <td>4</td>\n",
       "      <td>4</td>\n",
       "      <td>1</td>\n",
       "      <td>0</td>\n",
       "      <td>prurigo-nodularis/fd06d13de341cc75ad679916c5d7...</td>\n",
       "      <td>NaN</td>\n",
       "    </tr>\n",
       "    <tr>\n",
       "      <th>1</th>\n",
       "      <td>a4bb4e5206c4e89a303f470576fc5253.jpg</td>\n",
       "      <td>1</td>\n",
       "      <td>1</td>\n",
       "      <td>5</td>\n",
       "      <td>1</td>\n",
       "      <td>basal-cell-carcinoma-morpheiform/a4bb4e5206c4e...</td>\n",
       "      <td>NaN</td>\n",
       "    </tr>\n",
       "    <tr>\n",
       "      <th>2</th>\n",
       "      <td>c94ce27e389f96bda998e7c3fa5c4a2e.jpg</td>\n",
       "      <td>5</td>\n",
       "      <td>5</td>\n",
       "      <td>2</td>\n",
       "      <td>2</td>\n",
       "      <td>keloid/c94ce27e389f96bda998e7c3fa5c4a2e.jpg</td>\n",
       "      <td>1 Diagnostic</td>\n",
       "    </tr>\n",
       "    <tr>\n",
       "      <th>3</th>\n",
       "      <td>ebcf2b50dd943c700d4e2b586fcd4425.jpg</td>\n",
       "      <td>3</td>\n",
       "      <td>3</td>\n",
       "      <td>5</td>\n",
       "      <td>1</td>\n",
       "      <td>basal-cell-carcinoma/ebcf2b50dd943c700d4e2b586...</td>\n",
       "      <td>NaN</td>\n",
       "    </tr>\n",
       "    <tr>\n",
       "      <th>4</th>\n",
       "      <td>c77d6c895f05fea73a8f3704307036c0.jpg</td>\n",
       "      <td>1</td>\n",
       "      <td>1</td>\n",
       "      <td>1</td>\n",
       "      <td>0</td>\n",
       "      <td>prurigo-nodularis/c77d6c895f05fea73a8f37043070...</td>\n",
       "      <td>NaN</td>\n",
       "    </tr>\n",
       "  </tbody>\n",
       "</table>\n",
       "</div>"
      ],
      "text/plain": [
       "                                md5hash  fitzpatrick_scale  \\\n",
       "0  fd06d13de341cc75ad679916c5d7e6a6.jpg                  4   \n",
       "1  a4bb4e5206c4e89a303f470576fc5253.jpg                  1   \n",
       "2  c94ce27e389f96bda998e7c3fa5c4a2e.jpg                  5   \n",
       "3  ebcf2b50dd943c700d4e2b586fcd4425.jpg                  3   \n",
       "4  c77d6c895f05fea73a8f3704307036c0.jpg                  1   \n",
       "\n",
       "   fitzpatrick_centaur  nine_partition_label_encoded  \\\n",
       "0                    4                             1   \n",
       "1                    1                             5   \n",
       "2                    5                             2   \n",
       "3                    3                             5   \n",
       "4                    1                             1   \n",
       "\n",
       "   three_partition_label_encoded  \\\n",
       "0                              0   \n",
       "1                              1   \n",
       "2                              2   \n",
       "3                              1   \n",
       "4                              0   \n",
       "\n",
       "                                           file_path            qc  \n",
       "0  prurigo-nodularis/fd06d13de341cc75ad679916c5d7...           NaN  \n",
       "1  basal-cell-carcinoma-morpheiform/a4bb4e5206c4e...           NaN  \n",
       "2        keloid/c94ce27e389f96bda998e7c3fa5c4a2e.jpg  1 Diagnostic  \n",
       "3  basal-cell-carcinoma/ebcf2b50dd943c700d4e2b586...           NaN  \n",
       "4  prurigo-nodularis/c77d6c895f05fea73a8f37043070...           NaN  "
      ]
     },
     "execution_count": 22,
     "metadata": {},
     "output_type": "execute_result"
    }
   ],
   "source": [
    "X_train.head()"
   ]
  },
  {
   "cell_type": "code",
   "execution_count": 23,
   "id": "8636d9d1-f6c4-4e1e-98cc-82a2e5803969",
   "metadata": {},
   "outputs": [
    {
     "name": "stdout",
     "output_type": "stream",
     "text": [
      "🔍 QC Column Data Type: object\n"
     ]
    },
    {
     "data": {
      "image/png": "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",
      "text/plain": [
       "<Figure size 800x500 with 1 Axes>"
      ]
     },
     "metadata": {},
     "output_type": "display_data"
    }
   ],
   "source": [
    "# Check `qc` column type\n",
    "print(\"🔍 QC Column Data Type:\", X_train['qc'].dtype)\n",
    "\n",
    "# Plot distribution of existing `qc` values (ignoring NaNs)\n",
    "plt.figure(figsize=(8, 5))\n",
    "sns.histplot(X_train['qc'].dropna(), bins=20, kde=True)\n",
    "plt.title(\"Distribution of QC Column (Without NaNs)\")\n",
    "plt.xlabel(\"QC Values\")\n",
    "plt.ylabel(\"Frequency\")\n",
    "plt.grid()\n",
    "plt.show()"
   ]
  },
  {
   "cell_type": "code",
   "execution_count": 24,
   "id": "5a85805a-7354-4e7a-ba63-5327ca1eea49",
   "metadata": {},
   "outputs": [
    {
     "name": "stdout",
     "output_type": "stream",
     "text": [
      "✅ Unique QC Numeric Values: [nan  1.  3.  5.  4.  2.]\n"
     ]
    },
    {
     "name": "stderr",
     "output_type": "stream",
     "text": [
      "/tmp/ipykernel_4006018/4240665246.py:9: SettingWithCopyWarning: \n",
      "A value is trying to be set on a copy of a slice from a DataFrame.\n",
      "Try using .loc[row_indexer,col_indexer] = value instead\n",
      "\n",
      "See the caveats in the documentation: https://pandas.pydata.org/pandas-docs/stable/user_guide/indexing.html#returning-a-view-versus-a-copy\n",
      "  X_train['qc_numeric'] = train_df['qc'].apply(extract_qc_number)\n"
     ]
    }
   ],
   "source": [
    "def extract_qc_number(qc_value):\n",
    "    if pd.isnull(qc_value) or qc_value in [\"N/A\", \"invalid\", \"\"]:\n",
    "        return None  # Handle NaN, empty strings, or specific invalid values\n",
    "    try:\n",
    "        return int(str(qc_value).split()[0])  # Extract numeric part safely\n",
    "    except (ValueError, IndexError, AttributeError):\n",
    "        return None  # Return None for unparseable values\n",
    "\n",
    "X_train['qc_numeric'] = train_df['qc'].apply(extract_qc_number)\n",
    "\n",
    "# Print unique values to verify conversion\n",
    "print(\"✅ Unique QC Numeric Values:\", X_train['qc_numeric'].unique())"
   ]
  },
  {
   "cell_type": "code",
   "execution_count": 25,
   "id": "746e908a-121e-4a90-9375-3dbf4f59ba24",
   "metadata": {},
   "outputs": [
    {
     "data": {
      "text/plain": [
       "array([nan,  1.,  3.,  5.,  4.,  2.])"
      ]
     },
     "execution_count": 25,
     "metadata": {},
     "output_type": "execute_result"
    }
   ],
   "source": [
    "X_train['qc_numeric'].unique()"
   ]
  },
  {
   "cell_type": "code",
   "execution_count": 26,
   "id": "a7ab5655-c4fd-4401-87a3-55b09dca33cd",
   "metadata": {},
   "outputs": [
    {
     "name": "stderr",
     "output_type": "stream",
     "text": [
      "/tmp/ipykernel_4006018/2965071692.py:22: SettingWithCopyWarning: \n",
      "A value is trying to be set on a copy of a slice from a DataFrame.\n",
      "Try using .loc[row_indexer,col_indexer] = value instead\n",
      "\n",
      "See the caveats in the documentation: https://pandas.pydata.org/pandas-docs/stable/user_guide/indexing.html#returning-a-view-versus-a-copy\n",
      "  X_train['sample_weight'] = X_train['qc_numeric'].apply(qc_to_weight)\n"
     ]
    }
   ],
   "source": [
    "def qc_to_weight(qc_value):\n",
    "    \"\"\"Assigns sample weights based on QC value.\"\"\"\n",
    "    if pd.isnull(qc_value):\n",
    "        # Missing QC\n",
    "        return 0.2\n",
    "    elif qc_value == 1:\n",
    "        # Diagnostic\n",
    "        return 1.0\n",
    "    elif qc_value == 5:\n",
    "        # Potentially diagnostic\n",
    "        return 0.8\n",
    "    elif qc_value in [2, 4]:\n",
    "        # Characteristic\n",
    "        return 0.4\n",
    "    elif qc_value == 3:\n",
    "        # Wrongly labeled\n",
    "        return 0.0\n",
    "    else:\n",
    "        # Fallback case if there's an unexpected QC value\n",
    "        return 0.0\n",
    "# Applying the function to create a sample_weight column:\n",
    "X_train['sample_weight'] = X_train['qc_numeric'].apply(qc_to_weight)"
   ]
  },
  {
   "cell_type": "code",
   "execution_count": 27,
   "id": "21dd6149-19d3-4722-92eb-fddefa5b876b",
   "metadata": {},
   "outputs": [
    {
     "name": "stdout",
     "output_type": "stream",
     "text": [
      "sample_weight\n",
      "0.2    2770\n",
      "1.0      76\n",
      "0.8       7\n",
      "0.0       4\n",
      "0.4       3\n",
      "Name: count, dtype: int64\n"
     ]
    }
   ],
   "source": [
    "print(X_train['sample_weight'].value_counts())"
   ]
  },
  {
   "cell_type": "code",
   "execution_count": 28,
   "id": "1a315300-1042-4cbc-957f-b9d8f4552f7a",
   "metadata": {},
   "outputs": [
    {
     "data": {
      "image/png": "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",
      "text/plain": [
       "<Figure size 600x400 with 1 Axes>"
      ]
     },
     "metadata": {},
     "output_type": "display_data"
    },
    {
     "data": {
      "image/png": "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",
      "text/plain": [
       "<Figure size 600x400 with 1 Axes>"
      ]
     },
     "metadata": {},
     "output_type": "display_data"
    }
   ],
   "source": [
    "# Visualize the numeric QC distribution\n",
    "plt.figure(figsize=(6,4))\n",
    "sns.countplot(x='qc', data=X_train)\n",
    "plt.title(\"Distribution of Numeric QC Values\")\n",
    "plt.show()\n",
    "\n",
    "# Visualize sample_weight distribution\n",
    "plt.figure(figsize=(6,4))\n",
    "sns.countplot(x='sample_weight', data=X_train)\n",
    "plt.title(\"Distribution of Sample Weights\")\n",
    "plt.show()"
   ]
  },
  {
   "cell_type": "code",
   "execution_count": 29,
   "id": "9e476196-635c-4eb9-9732-8d010bb62b79",
   "metadata": {},
   "outputs": [
    {
     "name": "stdout",
     "output_type": "stream",
     "text": [
      "                                md5hash  fitzpatrick_scale  \\\n",
      "0  fd06d13de341cc75ad679916c5d7e6a6.jpg                  4   \n",
      "1  a4bb4e5206c4e89a303f470576fc5253.jpg                  1   \n",
      "2  c94ce27e389f96bda998e7c3fa5c4a2e.jpg                  5   \n",
      "3  ebcf2b50dd943c700d4e2b586fcd4425.jpg                  3   \n",
      "4  c77d6c895f05fea73a8f3704307036c0.jpg                  1   \n",
      "\n",
      "   fitzpatrick_centaur  nine_partition_label_encoded  \\\n",
      "0                    4                             1   \n",
      "1                    1                             5   \n",
      "2                    5                             2   \n",
      "3                    3                             5   \n",
      "4                    1                             1   \n",
      "\n",
      "   three_partition_label_encoded  \\\n",
      "0                              0   \n",
      "1                              1   \n",
      "2                              2   \n",
      "3                              1   \n",
      "4                              0   \n",
      "\n",
      "                                           file_path  qc_numeric  \\\n",
      "0  prurigo-nodularis/fd06d13de341cc75ad679916c5d7...         NaN   \n",
      "1  basal-cell-carcinoma-morpheiform/a4bb4e5206c4e...         NaN   \n",
      "2        keloid/c94ce27e389f96bda998e7c3fa5c4a2e.jpg         1.0   \n",
      "3  basal-cell-carcinoma/ebcf2b50dd943c700d4e2b586...         NaN   \n",
      "4  prurigo-nodularis/c77d6c895f05fea73a8f37043070...         NaN   \n",
      "\n",
      "   sample_weight  \n",
      "0            0.2  \n",
      "1            0.2  \n",
      "2            1.0  \n",
      "3            0.2  \n",
      "4            0.2  \n"
     ]
    },
    {
     "name": "stderr",
     "output_type": "stream",
     "text": [
      "/tmp/ipykernel_4006018/1814624481.py:1: SettingWithCopyWarning: \n",
      "A value is trying to be set on a copy of a slice from a DataFrame\n",
      "\n",
      "See the caveats in the documentation: https://pandas.pydata.org/pandas-docs/stable/user_guide/indexing.html#returning-a-view-versus-a-copy\n",
      "  X_train.drop('qc', axis=1, inplace=True)\n"
     ]
    }
   ],
   "source": [
    "X_train.drop('qc', axis=1, inplace=True)\n",
    "print(X_train.head())"
   ]
  },
  {
   "cell_type": "code",
   "execution_count": 30,
   "id": "7fa2941c-b809-4962-9e01-979c7a844e3e",
   "metadata": {},
   "outputs": [
    {
     "name": "stdout",
     "output_type": "stream",
     "text": [
      "🔍 QC Column Data Type: float64\n"
     ]
    },
    {
     "data": {
      "image/png": "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",
      "text/plain": [
       "<Figure size 800x500 with 1 Axes>"
      ]
     },
     "metadata": {},
     "output_type": "display_data"
    }
   ],
   "source": [
    "# Check `sample_weight` column type\n",
    "print(\"🔍 QC Column Data Type:\", X_train['sample_weight'].dtype)\n",
    "\n",
    "# Plot distribution of existing `qc` values (ignoring NaNs)\n",
    "plt.figure(figsize=(8, 5))\n",
    "sns.histplot(X_train['sample_weight'].dropna(), bins=20, kde=True)\n",
    "plt.title(\"Distribution of sample_weight Column (0.2 is missing value)\")\n",
    "plt.xlabel(\"Sample Weight Values\")\n",
    "plt.ylabel(\"Frequency\")\n",
    "plt.grid()\n",
    "plt.show()"
   ]
  },
  {
   "cell_type": "code",
   "execution_count": 31,
   "id": "5bf7b70c-f21a-49ab-9c82-6a2d41c3f55b",
   "metadata": {},
   "outputs": [
    {
     "name": "stdout",
     "output_type": "stream",
     "text": [
      "[ 4  1  5  3  2 -1  6]\n",
      "[ 4  1  5  3 -1  2  6]\n"
     ]
    }
   ],
   "source": [
    "print(X_train['fitzpatrick_scale'].unique())\n",
    "print(X_train['fitzpatrick_centaur'].unique())"
   ]
  },
  {
   "cell_type": "code",
   "execution_count": 32,
   "id": "fb340889-defc-4585-a5f6-a4e90e7138fc",
   "metadata": {},
   "outputs": [
    {
     "name": "stderr",
     "output_type": "stream",
     "text": [
      "/tmp/ipykernel_4006018/2596219611.py:1: FutureWarning: A value is trying to be set on a copy of a DataFrame or Series through chained assignment using an inplace method.\n",
      "The behavior will change in pandas 3.0. This inplace method will never work because the intermediate object on which we are setting values always behaves as a copy.\n",
      "\n",
      "For example, when doing 'df[col].method(value, inplace=True)', try using 'df.method({col: value}, inplace=True)' or df[col] = df[col].method(value) instead, to perform the operation inplace on the original object.\n",
      "\n",
      "\n",
      "  X_train[\"fitzpatrick_scale\"].replace(-1, np.nan, inplace=True)\n",
      "/tmp/ipykernel_4006018/2596219611.py:1: SettingWithCopyWarning: \n",
      "A value is trying to be set on a copy of a slice from a DataFrame\n",
      "\n",
      "See the caveats in the documentation: https://pandas.pydata.org/pandas-docs/stable/user_guide/indexing.html#returning-a-view-versus-a-copy\n",
      "  X_train[\"fitzpatrick_scale\"].replace(-1, np.nan, inplace=True)\n",
      "/tmp/ipykernel_4006018/2596219611.py:2: FutureWarning: A value is trying to be set on a copy of a DataFrame or Series through chained assignment using an inplace method.\n",
      "The behavior will change in pandas 3.0. This inplace method will never work because the intermediate object on which we are setting values always behaves as a copy.\n",
      "\n",
      "For example, when doing 'df[col].method(value, inplace=True)', try using 'df.method({col: value}, inplace=True)' or df[col] = df[col].method(value) instead, to perform the operation inplace on the original object.\n",
      "\n",
      "\n",
      "  X_train[\"fitzpatrick_centaur\"].replace(-1, np.nan, inplace=True)\n",
      "/tmp/ipykernel_4006018/2596219611.py:2: SettingWithCopyWarning: \n",
      "A value is trying to be set on a copy of a slice from a DataFrame\n",
      "\n",
      "See the caveats in the documentation: https://pandas.pydata.org/pandas-docs/stable/user_guide/indexing.html#returning-a-view-versus-a-copy\n",
      "  X_train[\"fitzpatrick_centaur\"].replace(-1, np.nan, inplace=True)\n"
     ]
    }
   ],
   "source": [
    "X_train[\"fitzpatrick_scale\"].replace(-1, np.nan, inplace=True)\n",
    "X_train[\"fitzpatrick_centaur\"].replace(-1, np.nan, inplace=True)"
   ]
  },
  {
   "cell_type": "code",
   "execution_count": 33,
   "id": "f55db35f-378b-4a59-930a-6a2505b6aaab",
   "metadata": {},
   "outputs": [
    {
     "name": "stdout",
     "output_type": "stream",
     "text": [
      "Number of rows with both Fitzpatrick values missing (NaN): 52\n"
     ]
    }
   ],
   "source": [
    "# Count rows where both columns have NaN values\n",
    "missing_one = X_train[(X_train['fitzpatrick_scale'].isna()) & (X_train['fitzpatrick_centaur'].isna())].shape[0]\n",
    "\n",
    "print(f\"Number of rows with both Fitzpatrick values missing (NaN): {missing_one}\")"
   ]
  },
  {
   "cell_type": "code",
   "execution_count": 34,
   "id": "ccd02b6d-4f2c-4e87-a0cd-b5ef78d7f579",
   "metadata": {},
   "outputs": [
    {
     "name": "stdout",
     "output_type": "stream",
     "text": [
      "Number of times 'fitzpatrick_scale' is NaN but 'fitzpatrick_centaur' is not NaN: 56\n",
      "Number of rows with both Fitzpatrick values missing (NaN): 52\n"
     ]
    },
    {
     "name": "stderr",
     "output_type": "stream",
     "text": [
      "/tmp/ipykernel_4006018/2652169685.py:6: SettingWithCopyWarning: \n",
      "A value is trying to be set on a copy of a slice from a DataFrame.\n",
      "Try using .loc[row_indexer,col_indexer] = value instead\n",
      "\n",
      "See the caveats in the documentation: https://pandas.pydata.org/pandas-docs/stable/user_guide/indexing.html#returning-a-view-versus-a-copy\n",
      "  X_train['fitzpatrick_scale'] = X_train['fitzpatrick_scale'].fillna(X_train['fitzpatrick_centaur'])\n"
     ]
    }
   ],
   "source": [
    "# Count occurrences where 'fitzpatrick_scale' is NaN and 'fitzpatrick_centaur' is not NaN\n",
    "count = X_train[(X_train['fitzpatrick_scale'].isna()) & (~X_train['fitzpatrick_centaur'].isna())].shape[0]\n",
    "print(f\"Number of times 'fitzpatrick_scale' is NaN but 'fitzpatrick_centaur' is not NaN: {count}\")\n",
    "\n",
    "# Replace NaN in 'fitzpatrick_value' with values from 'fitzpatrick_cantaur' where possible\n",
    "X_train['fitzpatrick_scale'] = X_train['fitzpatrick_scale'].fillna(X_train['fitzpatrick_centaur'])\n",
    "\n",
    "missing_both_count = X_train[(X_train['fitzpatrick_scale'].isna()) & (X_train['fitzpatrick_centaur'].isna())].shape[0]\n",
    "print(f\"Number of rows with both Fitzpatrick values missing (NaN): {missing_both_count}\")"
   ]
  },
  {
   "cell_type": "code",
   "execution_count": 35,
   "id": "8513b203-6c48-4405-86d4-2d501933d9b9",
   "metadata": {},
   "outputs": [
    {
     "data": {
      "text/plain": [
       "array([ 4.,  1.,  5.,  3.,  2., nan,  6.])"
      ]
     },
     "execution_count": 35,
     "metadata": {},
     "output_type": "execute_result"
    }
   ],
   "source": [
    "X_train['fitzpatrick_scale'].unique()"
   ]
  },
  {
   "cell_type": "code",
   "execution_count": 36,
   "id": "b57983a5-4922-4039-875e-e71c3f9f2f6a",
   "metadata": {},
   "outputs": [],
   "source": [
    "# X_train.drop('qc_numeric', axis=1, inplace=True)\n",
    "# X_train.drop('ddi_scale', axis=1, inplace=True)"
   ]
  },
  {
   "cell_type": "code",
   "execution_count": 37,
   "id": "4f664855-7019-4ebc-8206-da4a41d10ca0",
   "metadata": {},
   "outputs": [
    {
     "name": "stdout",
     "output_type": "stream",
     "text": [
      "                                md5hash  fitzpatrick_scale  \\\n",
      "0  fd06d13de341cc75ad679916c5d7e6a6.jpg                4.0   \n",
      "1  a4bb4e5206c4e89a303f470576fc5253.jpg                1.0   \n",
      "2  c94ce27e389f96bda998e7c3fa5c4a2e.jpg                5.0   \n",
      "3  ebcf2b50dd943c700d4e2b586fcd4425.jpg                3.0   \n",
      "4  c77d6c895f05fea73a8f3704307036c0.jpg                1.0   \n",
      "\n",
      "   fitzpatrick_centaur  nine_partition_label_encoded  \\\n",
      "0                  4.0                             1   \n",
      "1                  1.0                             5   \n",
      "2                  5.0                             2   \n",
      "3                  3.0                             5   \n",
      "4                  1.0                             1   \n",
      "\n",
      "   three_partition_label_encoded  \\\n",
      "0                              0   \n",
      "1                              1   \n",
      "2                              2   \n",
      "3                              1   \n",
      "4                              0   \n",
      "\n",
      "                                           file_path  qc_numeric  \\\n",
      "0  prurigo-nodularis/fd06d13de341cc75ad679916c5d7...         NaN   \n",
      "1  basal-cell-carcinoma-morpheiform/a4bb4e5206c4e...         NaN   \n",
      "2        keloid/c94ce27e389f96bda998e7c3fa5c4a2e.jpg         1.0   \n",
      "3  basal-cell-carcinoma/ebcf2b50dd943c700d4e2b586...         NaN   \n",
      "4  prurigo-nodularis/c77d6c895f05fea73a8f37043070...         NaN   \n",
      "\n",
      "   sample_weight  \n",
      "0            0.2  \n",
      "1            0.2  \n",
      "2            1.0  \n",
      "3            0.2  \n",
      "4            0.2  \n",
      "[ 4.  1.  5.  3.  2. nan  6.]\n",
      "0                   prurigo-nodularis\n",
      "1    basal-cell-carcinoma-morpheiform\n",
      "2                              keloid\n",
      "3                basal-cell-carcinoma\n",
      "4                   prurigo-nodularis\n",
      "Name: label, dtype: object\n"
     ]
    }
   ],
   "source": [
    "print(X_train.head())\n",
    "print(X_train['fitzpatrick_scale'].unique())\n",
    "print(y_train.head())"
   ]
  },
  {
   "cell_type": "code",
   "execution_count": 38,
   "id": "d19c5e01-0cde-4a51-849c-fb644a8f1b2b",
   "metadata": {},
   "outputs": [
    {
     "name": "stdout",
     "output_type": "stream",
     "text": [
      "md5hash                           object\n",
      "fitzpatrick_scale                float64\n",
      "fitzpatrick_centaur              float64\n",
      "nine_partition_label_encoded       int64\n",
      "three_partition_label_encoded      int64\n",
      "file_path                         object\n",
      "qc_numeric                       float64\n",
      "sample_weight                    float32\n",
      "label                              int32\n",
      "dtype: object\n",
      "Number of classes: 21\n",
      "Classes: ['acne' 'acne-vulgaris' 'actinic-keratosis' 'basal-cell-carcinoma'\n",
      " 'basal-cell-carcinoma-morpheiform' 'dermatofibroma' 'dermatomyositis'\n",
      " 'dyshidrotic-eczema' 'eczema' 'epidermal-nevus' 'folliculitis'\n",
      " 'kaposi-sarcoma' 'keloid' 'malignant-melanoma' 'melanoma'\n",
      " 'mycosis-fungoides' 'prurigo-nodularis' 'pyogenic-granuloma'\n",
      " 'seborrheic-keratosis' 'squamous-cell-carcinoma'\n",
      " 'superficial-spreading-melanoma-ssm']\n",
      "                                md5hash  fitzpatrick_scale  \\\n",
      "0  fd06d13de341cc75ad679916c5d7e6a6.jpg                4.0   \n",
      "1  a4bb4e5206c4e89a303f470576fc5253.jpg                1.0   \n",
      "2  c94ce27e389f96bda998e7c3fa5c4a2e.jpg                5.0   \n",
      "3  ebcf2b50dd943c700d4e2b586fcd4425.jpg                3.0   \n",
      "4  c77d6c895f05fea73a8f3704307036c0.jpg                1.0   \n",
      "\n",
      "   fitzpatrick_centaur  nine_partition_label_encoded  \\\n",
      "0                  4.0                             1   \n",
      "1                  1.0                             5   \n",
      "2                  5.0                             2   \n",
      "3                  3.0                             5   \n",
      "4                  1.0                             1   \n",
      "\n",
      "   three_partition_label_encoded  \\\n",
      "0                              0   \n",
      "1                              1   \n",
      "2                              2   \n",
      "3                              1   \n",
      "4                              0   \n",
      "\n",
      "                                           file_path  qc_numeric  \\\n",
      "0  prurigo-nodularis/fd06d13de341cc75ad679916c5d7...         NaN   \n",
      "1  basal-cell-carcinoma-morpheiform/a4bb4e5206c4e...         NaN   \n",
      "2        keloid/c94ce27e389f96bda998e7c3fa5c4a2e.jpg         1.0   \n",
      "3  basal-cell-carcinoma/ebcf2b50dd943c700d4e2b586...         NaN   \n",
      "4  prurigo-nodularis/c77d6c895f05fea73a8f37043070...         NaN   \n",
      "\n",
      "   sample_weight  label  \n",
      "0            0.2     16  \n",
      "1            0.2      4  \n",
      "2            1.0     12  \n",
      "3            0.2      3  \n",
      "4            0.2     16  \n"
     ]
    }
   ],
   "source": [
    "# Convert y_train (string labels) to integer\n",
    "label_encoder = LabelEncoder()\n",
    "y_train_encoded = label_encoder.fit_transform(y_train)  # array of ints\n",
    "\n",
    "# Merge X_train + y_train into df_train\n",
    "df_train = X_train.copy()\n",
    "df_train['label'] = y_train_encoded.astype('int32')\n",
    "\n",
    "# Ensure sample_weight is float\n",
    "df_train['sample_weight'] = df_train['sample_weight'].astype('float32')\n",
    "\n",
    "# remove columns you don't need, e.g. 'ddi_scale' or anything else:\n",
    "if 'ddi_scale' in df_train.columns:\n",
    "    df_train.drop('ddi_scale', axis=1, inplace=True)\n",
    "\n",
    "# Confirm dtypes\n",
    "print(df_train.dtypes)\n",
    "\n",
    "# Confirm unique labels\n",
    "print(\"Number of classes:\", len(label_encoder.classes_))\n",
    "print(\"Classes:\", label_encoder.classes_)\n",
    "\n",
    "print(df_train.head())"
   ]
  },
  {
   "cell_type": "code",
   "execution_count": 39,
   "id": "841598cd-8da7-41bc-b994-bd0fa02a6bde",
   "metadata": {},
   "outputs": [
    {
     "name": "stdout",
     "output_type": "stream",
     "text": [
      "Train size: 2288\n",
      "Validation size: 572\n"
     ]
    }
   ],
   "source": [
    "# 80% train, 20% validation (stratify to preserve class distribution)\n",
    "train_df_final, val_df = train_test_split(\n",
    "    df_train,\n",
    "    test_size=0.2,\n",
    "    stratify=df_train['label'],\n",
    "    random_state=42\n",
    ")\n",
    "\n",
    "print(\"Train size:\", len(train_df_final))\n",
    "print(\"Validation size:\", len(val_df))"
   ]
  },
  {
   "cell_type": "code",
   "execution_count": 40,
   "id": "b9bb807c-63d7-41bf-b499-a455156319a7",
   "metadata": {},
   "outputs": [
    {
     "name": "stdout",
     "output_type": "stream",
     "text": [
      "md5hash                           object\n",
      "fitzpatrick_scale                float64\n",
      "fitzpatrick_centaur              float64\n",
      "nine_partition_label_encoded       int64\n",
      "three_partition_label_encoded      int64\n",
      "file_path                         object\n",
      "qc_numeric                       float64\n",
      "sample_weight                    float32\n",
      "label                              int32\n",
      "dtype: object\n",
      "0       16\n",
      "1        4\n",
      "2       12\n",
      "3        3\n",
      "4       16\n",
      "        ..\n",
      "2855    10\n",
      "2856    20\n",
      "2857     0\n",
      "2858     8\n",
      "2859    12\n",
      "Name: label, Length: 2860, dtype: int32\n",
      "0       0.2\n",
      "1       0.2\n",
      "2       1.0\n",
      "3       0.2\n",
      "4       0.2\n",
      "       ... \n",
      "2855    0.2\n",
      "2856    0.2\n",
      "2857    0.2\n",
      "2858    0.2\n",
      "2859    0.2\n",
      "Name: sample_weight, Length: 2860, dtype: float32\n",
      "                                md5hash  fitzpatrick_scale  \\\n",
      "0  fd06d13de341cc75ad679916c5d7e6a6.jpg                4.0   \n",
      "1  a4bb4e5206c4e89a303f470576fc5253.jpg                1.0   \n",
      "2  c94ce27e389f96bda998e7c3fa5c4a2e.jpg                5.0   \n",
      "3  ebcf2b50dd943c700d4e2b586fcd4425.jpg                3.0   \n",
      "4  c77d6c895f05fea73a8f3704307036c0.jpg                1.0   \n",
      "\n",
      "   fitzpatrick_centaur  nine_partition_label_encoded  \\\n",
      "0                  4.0                             1   \n",
      "1                  1.0                             5   \n",
      "2                  5.0                             2   \n",
      "3                  3.0                             5   \n",
      "4                  1.0                             1   \n",
      "\n",
      "   three_partition_label_encoded  \\\n",
      "0                              0   \n",
      "1                              1   \n",
      "2                              2   \n",
      "3                              1   \n",
      "4                              0   \n",
      "\n",
      "                                           file_path  qc_numeric  \\\n",
      "0  prurigo-nodularis/fd06d13de341cc75ad679916c5d7...         NaN   \n",
      "1  basal-cell-carcinoma-morpheiform/a4bb4e5206c4e...         NaN   \n",
      "2        keloid/c94ce27e389f96bda998e7c3fa5c4a2e.jpg         1.0   \n",
      "3  basal-cell-carcinoma/ebcf2b50dd943c700d4e2b586...         NaN   \n",
      "4  prurigo-nodularis/c77d6c895f05fea73a8f37043070...         NaN   \n",
      "\n",
      "   sample_weight  label  \n",
      "0            0.2     16  \n",
      "1            0.2      4  \n",
      "2            1.0     12  \n",
      "3            0.2      3  \n",
      "4            0.2     16  \n"
     ]
    }
   ],
   "source": [
    "print(df_train.dtypes)\n",
    "print(df_train['label'])\n",
    "print(df_train['sample_weight'])\n",
    "print(df_train.head())"
   ]
  },
  {
   "cell_type": "code",
   "execution_count": 41,
   "id": "7e4b0b3d-ac18-4a7f-8045-454960f2f392",
   "metadata": {},
   "outputs": [
    {
     "name": "stdout",
     "output_type": "stream",
     "text": [
      "tfimm version: 0.2.14\n"
     ]
    }
   ],
   "source": [
    "import tfimm\n",
    "print(\"tfimm version:\", tfimm.__version__)"
   ]
  },
  {
   "cell_type": "code",
   "execution_count": 42,
   "id": "d61f3aed-c510-4f97-80ce-a3813c49e0ca",
   "metadata": {},
   "outputs": [
    {
     "name": "stdout",
     "output_type": "stream",
     "text": [
      "All possible model names:\n",
      " ['cait_m36_384', 'cait_m48_448', 'cait_s24_224', 'cait_s24_384', 'cait_s36_384', 'cait_xs24_384', 'cait_xxs24_224', 'cait_xxs24_384', 'cait_xxs36_224', 'cait_xxs36_384', 'convmixer_768_32', 'convmixer_1024_20_ks9_p14', 'convmixer_1536_20', 'convnext_base', 'convnext_base_384_in22ft1k', 'convnext_base_in22ft1k', 'convnext_base_in22k', 'convnext_large', 'convnext_large_384_in22ft1k', 'convnext_large_in22ft1k', 'convnext_large_in22k', 'convnext_small', 'convnext_small_384_in22ft1k', 'convnext_small_in22ft1k', 'convnext_small_in22k', 'convnext_tiny', 'convnext_tiny_384_in22ft1k', 'convnext_tiny_in22ft1k', 'convnext_tiny_in22k', 'convnext_xlarge_384_in22ft1k', 'convnext_xlarge_in22ft1k', 'convnext_xlarge_in22k', 'deit_base_distilled_patch16_224', 'deit_base_distilled_patch16_384', 'deit_base_patch16_224', 'deit_base_patch16_384', 'deit_small_distilled_patch16_224', 'deit_small_patch16_224', 'deit_tiny_distilled_patch16_224', 'deit_tiny_patch16_224', 'ecaresnet26t', 'ecaresnet50d', 'ecaresnet50t', 'ecaresnet101d', 'ecaresnet269d', 'ecaresnetlight', 'efficientnet_b0', 'efficientnet_b0_ap', 'efficientnet_b0_ns', 'efficientnet_b1', 'efficientnet_b1_ap', 'efficientnet_b1_ns', 'efficientnet_b2', 'efficientnet_b2_ap', 'efficientnet_b2_ns', 'efficientnet_b3', 'efficientnet_b3_ap', 'efficientnet_b3_ns', 'efficientnet_b4', 'efficientnet_b4_ap', 'efficientnet_b4_ns', 'efficientnet_b5', 'efficientnet_b5_ap', 'efficientnet_b5_ns', 'efficientnet_b6', 'efficientnet_b6_ap', 'efficientnet_b6_ns', 'efficientnet_b7', 'efficientnet_b7_ap', 'efficientnet_b7_ns', 'efficientnet_b8', 'efficientnet_b8_ap', 'efficientnet_el', 'efficientnet_em', 'efficientnet_es', 'efficientnet_l2_ns', 'efficientnet_l2_ns_475', 'efficientnet_lite0', 'efficientnet_lite1', 'efficientnet_lite2', 'efficientnet_lite3', 'efficientnet_lite4', 'efficientnet_v2_b0', 'efficientnet_v2_b1', 'efficientnet_v2_b2', 'efficientnet_v2_b3', 'efficientnet_v2_l', 'efficientnet_v2_l_in21ft1k', 'efficientnet_v2_l_in21k', 'efficientnet_v2_m', 'efficientnet_v2_m_in21ft1k', 'efficientnet_v2_m_in21k', 'efficientnet_v2_s', 'efficientnet_v2_s_in21ft1k', 'efficientnet_v2_s_in21k', 'efficientnet_v2_xl_in21ft1k', 'efficientnet_v2_xl_in21k', 'gmixer_12_224', 'gmixer_24_224', 'gmlp_b16_224', 'gmlp_s16_224', 'gmlp_ti16_224', 'ig_resnext101_32x8d', 'ig_resnext101_32x16d', 'ig_resnext101_32x32d', 'ig_resnext101_32x48d', 'mixer_b16_224', 'mixer_b16_224_in21k', 'mixer_b16_224_miil', 'mixer_b16_224_miil_in21k', 'mixer_b32_224', 'mixer_l16_224', 'mixer_l16_224_in21k', 'mixer_l32_224', 'mixer_s16_224', 'mixer_s32_224', 'mobilenet_v2_050', 'mobilenet_v2_100', 'mobilenet_v2_110d', 'mobilenet_v2_120d', 'mobilenet_v2_140', 'pit_b_224', 'pit_b_distilled_224', 'pit_s_224', 'pit_s_distilled_224', 'pit_ti_224', 'pit_ti_distilled_224', 'pit_xs_224', 'pit_xs_distilled_224', 'poolformer_m36', 'poolformer_m48', 'poolformer_s12', 'poolformer_s24', 'poolformer_s36', 'pt_efficientnet_b0', 'pt_efficientnet_b1', 'pt_efficientnet_b2', 'pt_efficientnet_b3', 'pt_efficientnet_b4', 'pvt_large', 'pvt_medium', 'pvt_small', 'pvt_tiny', 'pvt_v2_b0', 'pvt_v2_b1', 'pvt_v2_b2', 'pvt_v2_b3', 'pvt_v2_b4', 'pvt_v2_b5', 'resmlp_12_224', 'resmlp_12_224_dino', 'resmlp_12_distilled_224', 'resmlp_24_224', 'resmlp_24_224_dino', 'resmlp_24_distilled_224', 'resmlp_36_224', 'resmlp_36_distilled_224', 'resmlp_big_24_224', 'resmlp_big_24_224_in22ft1k', 'resmlp_big_24_distilled_224', 'resnet18', 'resnet18d', 'resnet26', 'resnet26d', 'resnet26t', 'resnet34', 'resnet34d', 'resnet50', 'resnet50_gn', 'resnet50d', 'resnet101', 'resnet101d', 'resnet152', 'resnet152d', 'resnet200d', 'resnetblur50', 'resnetrs50', 'resnetrs101', 'resnetrs152', 'resnetrs200', 'resnetrs270', 'resnetrs350', 'resnetrs420', 'resnetv2_50x1_bit_distilled', 'resnetv2_50x1_bitm', 'resnetv2_50x1_bitm_in21k', 'resnetv2_50x3_bitm', 'resnetv2_50x3_bitm_in21k', 'resnetv2_101x1_bitm', 'resnetv2_101x1_bitm_in21k', 'resnetv2_101x3_bitm', 'resnetv2_101x3_bitm_in21k', 'resnetv2_152x2_bit_teacher', 'resnetv2_152x2_bit_teacher_384', 'resnetv2_152x2_bitm', 'resnetv2_152x2_bitm_in21k', 'resnetv2_152x4_bitm', 'resnetv2_152x4_bitm_in21k', 'resnext50_32x4d', 'resnext50d_32x4d', 'resnext101_32x8d', 'seresnet50', 'seresnet152d', 'seresnext26d_32x4d', 'seresnext26t_32x4d', 'seresnext50_32x4d', 'ssl_resnet18', 'ssl_resnet50', 'ssl_resnext50_32x4d', 'ssl_resnext101_32x4d', 'ssl_resnext101_32x8d', 'ssl_resnext101_32x16d', 'swin_base_patch4_window7_224', 'swin_base_patch4_window7_224_in22k', 'swin_base_patch4_window12_384', 'swin_base_patch4_window12_384_in22k', 'swin_large_patch4_window7_224', 'swin_large_patch4_window7_224_in22k', 'swin_large_patch4_window12_384', 'swin_large_patch4_window12_384_in22k', 'swin_small_patch4_window7_224', 'swin_tiny_patch4_window7_224', 'swsl_resnet18', 'swsl_resnet50', 'swsl_resnext50_32x4d', 'swsl_resnext101_32x4d', 'swsl_resnext101_32x8d', 'swsl_resnext101_32x16d', 'tv_resnet34', 'tv_resnet50', 'tv_resnet101', 'tv_resnet152', 'tv_resnext50_32x4d', 'vgg11', 'vgg11_bn', 'vgg13', 'vgg13_bn', 'vgg16', 'vgg16_bn', 'vgg19', 'vgg19_bn', 'vit_base_patch8_224', 'vit_base_patch8_224_in21k', 'vit_base_patch16_224', 'vit_base_patch16_224_in21k', 'vit_base_patch16_224_miil', 'vit_base_patch16_224_miil_in21k', 'vit_base_patch16_384', 'vit_base_patch16_sam_224', 'vit_base_patch32_224', 'vit_base_patch32_224_in21k', 'vit_base_patch32_384', 'vit_base_patch32_sam_224', 'vit_base_r50_s16_224_in21k', 'vit_base_r50_s16_384', 'vit_huge_patch14_224_in21k', 'vit_large_patch16_224', 'vit_large_patch16_224_in21k', 'vit_large_patch16_384', 'vit_large_patch32_224', 'vit_large_patch32_224_in21k', 'vit_large_patch32_384', 'vit_large_r50_s32_224', 'vit_large_r50_s32_224_in21k', 'vit_large_r50_s32_384', 'vit_small_patch16_224', 'vit_small_patch16_224_in21k', 'vit_small_patch16_384', 'vit_small_patch32_224', 'vit_small_patch32_224_in21k', 'vit_small_patch32_384', 'vit_small_r26_s32_224', 'vit_small_r26_s32_224_in21k', 'vit_small_r26_s32_384', 'vit_tiny_patch16_224', 'vit_tiny_patch16_224_in21k', 'vit_tiny_patch16_384', 'vit_tiny_r_s16_p8_224', 'vit_tiny_r_s16_p8_224_in21k', 'vit_tiny_r_s16_p8_384', 'wide_resnet50_2', 'wide_resnet101_2']\n",
      "\n",
      "Swin models in this tfimm version:\n",
      " ['swin_base_patch4_window7_224', 'swin_base_patch4_window7_224_in22k', 'swin_base_patch4_window12_384', 'swin_base_patch4_window12_384_in22k', 'swin_large_patch4_window7_224', 'swin_large_patch4_window7_224_in22k', 'swin_large_patch4_window12_384', 'swin_large_patch4_window12_384_in22k', 'swin_small_patch4_window7_224', 'swin_tiny_patch4_window7_224']\n"
     ]
    }
   ],
   "source": [
    "all_models = tfimm.list_models()\n",
    "print(\"All possible model names:\\n\", all_models)\n",
    "\n",
    "# Filter for \"swin\"\n",
    "swin_models = [m for m in all_models if \"swin\" in m.lower()]\n",
    "print(\"\\nSwin models in this tfimm version:\\n\", swin_models)"
   ]
  },
  {
   "cell_type": "code",
   "execution_count": 43,
   "id": "3afb594f-40f7-4595-84dd-74a9426115d8",
   "metadata": {},
   "outputs": [],
   "source": [
    "import torchvision.transforms as T\n",
    "# model_name = \"swin_small_patch4_window7_224\"\n",
    "# base_model = create_model(model_name, pretrained=True)\n",
    "\n",
    "# Baseline augmentation\n",
    "baseline_transform = T.Compose([\n",
    "    T.ToPILImage(),\n",
    "    T.RandomRotation(degrees=10),\n",
    "    T.RandomResizedCrop(size=224, scale=(0.95, 1.0)),\n",
    "    T.ColorJitter(brightness=0.2),\n",
    "    T.ToTensor(),\n",
    "    T.Normalize(mean=[0.485, 0.456, 0.406], std=[0.229, 0.224, 0.225]),\n",
    "])\n",
    "\n",
    "# More aggressive augmentation for underrepresented classes\n",
    "minority_transform = T.Compose([\n",
    "    T.ToPILImage(),\n",
    "    T.RandomRotation(degrees=20),\n",
    "    T.RandomResizedCrop(size=224, scale=(0.8, 1.0)),\n",
    "    T.RandomHorizontalFlip(),\n",
    "    T.RandomVerticalFlip(),\n",
    "    T.ColorJitter(brightness=0.2, contrast=0.2, saturation=0.2),\n",
    "    T.ToTensor(),\n",
    "    T.Normalize(mean=[0.485, 0.456, 0.406], std=[0.229, 0.224, 0.225]),\n",
    "])\n",
    "\n",
    "# Validation transform (no heavy augmentation)\n",
    "val_transform = T.Compose([\n",
    "    T.ToPILImage(),\n",
    "    T.Resize((224, 224)),\n",
    "    T.ToTensor(),\n",
    "    T.Normalize(mean=[0.485, 0.456, 0.406], std=[0.229, 0.224, 0.225]),\n",
    "])\n",
    "\n",
    "underrepresented_classes_encoded = label_encoder.transform(underrepresented_classes)\n",
    "underrepresented_classes_encoded = set(underrepresented_classes_encoded)"
   ]
  },
  {
   "cell_type": "markdown",
   "id": "667c019d-a932-4aac-a72f-76df9954f29d",
   "metadata": {},
   "source": [
    "## THE CUSTOM GENERATOR"
   ]
  },
  {
   "cell_type": "code",
   "execution_count": 44,
   "id": "1ccdc60d-1c22-47ec-b729-b7b8f16a2f69",
   "metadata": {},
   "outputs": [],
   "source": [
    "import torch\n",
    "from torch.utils.data import Dataset\n",
    "import cv2\n",
    "\n",
    "class CustomImageDataset(Dataset):\n",
    "    def __init__(self, df, base_dir, minority_set, baseline_transform, minority_transform, is_val=False):\n",
    "        self.df = df.reset_index(drop=True)\n",
    "        self.base_dir = base_dir\n",
    "        self.minority_set = minority_set\n",
    "        self.baseline_transform = baseline_transform\n",
    "        self.minority_transform = minority_transform\n",
    "        self.is_val = is_val\n",
    "\n",
    "    def __len__(self):\n",
    "        return len(self.df)\n",
    "    \n",
    "    def __getitem__(self, idx):\n",
    "        row = self.df.iloc[idx]\n",
    "        full_path = os.path.join(self.base_dir, row['file_path'])\n",
    "\n",
    "        # Load image (BGR)\n",
    "        img_bgr = cv2.imread(full_path)\n",
    "        if img_bgr is None:\n",
    "            # In a real scenario, handle missing images gracefully\n",
    "            # e.g., return a dummy image or raise an exception\n",
    "            raise FileNotFoundError(f\"Missing image: {full_path}\")\n",
    "        \n",
    "        # Convert to RGB\n",
    "        img_rgb = cv2.cvtColor(img_bgr, cv2.COLOR_BGR2RGB)\n",
    "\n",
    "        # Choose transform\n",
    "        if self.is_val:\n",
    "            img_transformed = val_transform(img_rgb)\n",
    "        else:\n",
    "            if row['label'] in self.minority_set:\n",
    "                img_transformed = minority_transform(img_rgb)\n",
    "            else:\n",
    "                img_transformed = baseline_transform(img_rgb)\n",
    "        \n",
    "        label = row['label']          # integer label\n",
    "        sample_weight = row['sample_weight']  # float\n",
    "\n",
    "        return img_transformed, label, sample_weight"
   ]
  },
  {
   "cell_type": "code",
   "execution_count": 45,
   "id": "9a8ac9e0-5dfb-431f-8dbc-65ed0ebe0fa6",
   "metadata": {},
   "outputs": [
    {
     "name": "stdout",
     "output_type": "stream",
     "text": [
      "Illegal option --\n",
      "Usage: /usr/bin/which [-a] args\n",
      "/miniconda3/envs/TF219/bin/python\n",
      "3.10.16 (main, Dec 11 2024, 16:24:50) [GCC 11.2.0]\n"
     ]
    }
   ],
   "source": [
    "import sys\n",
    "!which python\n",
    "!command -v python\n",
    "print(sys.version)"
   ]
  },
  {
   "cell_type": "code",
   "execution_count": 46,
   "id": "d5829a53-a910-47ff-859e-be37f7316bb8",
   "metadata": {},
   "outputs": [
    {
     "name": "stdout",
     "output_type": "stream",
     "text": [
      "Available GPUs: [PhysicalDevice(name='/physical_device:GPU:0', device_type='GPU')]\n"
     ]
    }
   ],
   "source": [
    "import tensorflow as tf\n",
    "print(\"Available GPUs:\", tf.config.list_physical_devices('GPU'))"
   ]
  },
  {
   "cell_type": "markdown",
   "id": "f16d0f40-d511-427d-bc86-b1e58f61a7f9",
   "metadata": {},
   "source": [
    "## Simple Validation Generator (No Heavy Augmentation)"
   ]
  },
  {
   "cell_type": "code",
   "execution_count": 47,
   "id": "d3bd72af-47ab-4d9e-bc5f-21791f0d62a0",
   "metadata": {},
   "outputs": [],
   "source": [
    "def simple_val_generator(\n",
    "    df,\n",
    "    base_dir,\n",
    "    batch_size=16,\n",
    "    target_size=(224,224),\n",
    "    shuffle=False\n",
    "):\n",
    "    \n",
    "    while True:\n",
    "        if shuffle:\n",
    "            df = df.sample(frac=1).reset_index(drop=True)\n",
    "        \n",
    "        for start in range(0, len(df), batch_size):\n",
    "            batch_df = df.iloc[start:start+batch_size]\n",
    "            images, labels = [], []\n",
    "            \n",
    "            for _, row in batch_df.iterrows():\n",
    "                full_path = os.path.join(base_dir, row['file_path'])\n",
    "                img_bgr = cv2.imread(full_path)\n",
    "                if img_bgr is None:\n",
    "                    continue\n",
    "                \n",
    "                img_rgb = cv2.cvtColor(img_bgr, cv2.COLOR_BGR2RGB)\n",
    "                img_rgb = cv2.resize(img_rgb, target_size).astype(np.float32)\n",
    "                img_rgb = val_datagen.standardize(img_rgb)\n",
    "                images.append(img_rgb)\n",
    "                labels.append(row['label_encoded'])\n",
    "            yield (np.array(images, dtype=np.float32), np.array(labels, dtype=np.int32))"
   ]
  },
  {
   "cell_type": "markdown",
   "id": "16644181-ff71-4809-b861-52426139d253",
   "metadata": {},
   "source": [
    "# Swin_small\n",
    "## Model Definition and training \n",
    "### Defining the Hyperparameters "
   ]
  },
  {
   "cell_type": "code",
   "execution_count": 48,
   "id": "5cc1c0d7-9455-4ea4-9eff-bd5e823d5bdf",
   "metadata": {},
   "outputs": [],
   "source": [
    "BEST_BATCH_SIZE = 32\n",
    "BEST_DROPOUT_RATE = 0.5\n",
    "BEST_EPOCHS = 10\n",
    "BEST_LEARNING_RATE = 0.00010766953238565\n",
    "BEST_WEIGHT_DECAY = 0.0000170455336286758"
   ]
  },
  {
   "cell_type": "code",
   "execution_count": 49,
   "id": "a3ee78ad-f4c4-49a9-ae94-de5bd1b88877",
   "metadata": {},
   "outputs": [],
   "source": [
    "steps_per_epoch = math.ceil(len(train_df_final) / BEST_BATCH_SIZE)\n",
    "validation_steps = math.ceil(len(val_df) / BEST_BATCH_SIZE)\n",
    "\n",
    "# Creating the training generator\n",
    "train_dataset = CustomImageDataset(\n",
    "    df=train_df_final,\n",
    "    base_dir=base_dir,\n",
    "    minority_set=underrepresented_classes_encoded,\n",
    "    baseline_transform=baseline_transform,\n",
    "    minority_transform=minority_transform,\n",
    "    is_val=False\n",
    ")\n",
    "\n",
    "# Creating the validation generator\n",
    "val_dataset = CustomImageDataset(\n",
    "    df=val_df,\n",
    "    base_dir=base_dir,\n",
    "    minority_set=underrepresented_classes_encoded,\n",
    "    baseline_transform=baseline_transform,\n",
    "    minority_transform=minority_transform,\n",
    "    is_val=True\n",
    ")\n",
    "\n",
    "from torch.utils.data import DataLoader\n",
    "\n",
    "train_loader = DataLoader(train_dataset, batch_size=BEST_BATCH_SIZE, shuffle=True, num_workers=2)\n",
    "val_loader   = DataLoader(val_dataset,   batch_size=BEST_BATCH_SIZE, shuffle=False, num_workers=2)"
   ]
  },
  {
   "cell_type": "markdown",
   "id": "b22181bc-7b30-499c-be63-99e8a910c0b9",
   "metadata": {},
   "source": [
    "## Load the Hugging Face Swin Model"
   ]
  },
  {
   "cell_type": "code",
   "execution_count": 50,
   "id": "be378c1e-2236-4479-a45b-838c35d79a68",
   "metadata": {},
   "outputs": [
    {
     "name": "stderr",
     "output_type": "stream",
     "text": [
      "Some weights of SwinForImageClassification were not initialized from the model checkpoint at microsoft/swin-large-patch4-window7-224-in22k and are newly initialized because the shapes did not match:\n",
      "- classifier.weight: found shape torch.Size([21841, 1536]) in the checkpoint and torch.Size([21, 1536]) in the model instantiated\n",
      "- classifier.bias: found shape torch.Size([21841]) in the checkpoint and torch.Size([21]) in the model instantiated\n",
      "You should probably TRAIN this model on a down-stream task to be able to use it for predictions and inference.\n"
     ]
    }
   ],
   "source": [
    "from transformers import SwinForImageClassification\n",
    "\n",
    "num_classes = 21  # from your code\n",
    "model = SwinForImageClassification.from_pretrained(\n",
    "    \"microsoft/swin-large-patch4-window7-224-in22k\",\n",
    "    num_labels=num_classes,\n",
    "    ignore_mismatched_sizes=True\n",
    ")"
   ]
  },
  {
   "cell_type": "markdown",
   "id": "1189cf4b-7fff-4090-aa29-4bdf1be698bf",
   "metadata": {},
   "source": [
    "## Two-Phase Training: Freeze Then Fine-Tune"
   ]
  },
  {
   "cell_type": "code",
   "execution_count": 51,
   "id": "7de1f09f-4dd8-4588-9a34-dda507ad4d3a",
   "metadata": {},
   "outputs": [
    {
     "name": "stdout",
     "output_type": "stream",
     "text": [
      "Epoch 1/10 | Train Loss: 0.6218, Train Acc: 0.1814, Val Loss: 2.5703, Val Acc: 0.2483\n",
      "Epoch 2/10 | Train Loss: 0.5409, Train Acc: 0.2885, Val Loss: 2.3228, Val Acc: 0.3287\n",
      "Epoch 3/10 | Train Loss: 0.4871, Train Acc: 0.3505, Val Loss: 2.1324, Val Acc: 0.3864\n",
      "Epoch 4/10 | Train Loss: 0.4481, Train Acc: 0.4087, Val Loss: 1.9916, Val Acc: 0.4196\n",
      "Epoch 5/10 | Train Loss: 0.4174, Train Acc: 0.4554, Val Loss: 1.8792, Val Acc: 0.4563\n",
      "Epoch 6/10 | Train Loss: 0.3922, Train Acc: 0.4891, Val Loss: 1.7908, Val Acc: 0.4720\n",
      "Epoch 7/10 | Train Loss: 0.3725, Train Acc: 0.5175, Val Loss: 1.7215, Val Acc: 0.4860\n",
      "Epoch 8/10 | Train Loss: 0.3542, Train Acc: 0.5350, Val Loss: 1.6587, Val Acc: 0.5052\n",
      "Epoch 9/10 | Train Loss: 0.3389, Train Acc: 0.5511, Val Loss: 1.6112, Val Acc: 0.5192\n",
      "Epoch 10/10 | Train Loss: 0.3277, Train Acc: 0.5616, Val Loss: 1.5666, Val Acc: 0.5297\n"
     ]
    }
   ],
   "source": [
    "import torch\n",
    "import torch.nn.functional as F\n",
    "from torch import optim\n",
    "from transformers import AdamW  # same as huggingface's AdamW\n",
    "\n",
    "# Phase 1: Freeze\n",
    "for param in model.swin.parameters():\n",
    "    param.requires_grad = False\n",
    "\n",
    "optimizer = torch.optim.AdamW(model.parameters(), lr=BEST_LEARNING_RATE, weight_decay=BEST_WEIGHT_DECAY)\n",
    "device = torch.device(\"cuda\" if torch.cuda.is_available() else \"cpu\")\n",
    "model.to(device)\n",
    "\n",
    "EPOCHS_PHASE1 = 10\n",
    "for epoch in range(EPOCHS_PHASE1):\n",
    "    model.train()\n",
    "    total_loss = 0.0\n",
    "    total_correct = 0\n",
    "    total_samples = 0\n",
    "\n",
    "    for images, labels, sample_weights in train_loader:\n",
    "        images = images.to(device)\n",
    "        labels = labels.to(device).long()  # Convert labels to long\n",
    "        sample_weights = sample_weights.to(device)\n",
    "        \n",
    "        optimizer.zero_grad()\n",
    "        outputs = model(images)\n",
    "        logits = outputs.logits  # shape (batch_size, num_classes)\n",
    "\n",
    "        # Weighted cross-entropy\n",
    "        ce_loss = F.cross_entropy(logits, labels, reduction='none')\n",
    "        # multiply by sample_weights\n",
    "        loss = (ce_loss * sample_weights).mean()\n",
    "\n",
    "        loss.backward()\n",
    "        optimizer.step()\n",
    "\n",
    "        total_loss += loss.item() * images.size(0)\n",
    "        preds = logits.argmax(dim=1)\n",
    "        total_correct += (preds == labels).sum().item()\n",
    "        total_samples += images.size(0)\n",
    "    \n",
    "    train_acc = total_correct / total_samples\n",
    "    train_loss = total_loss / total_samples\n",
    "    # print(f\"Epoch {epoch+1}/{EPOCHS_PHASE1} | Train Loss: {train_loss:.4f}, Train Acc: {train_acc:.4f}\")\n",
    "\n",
    "    # Validation\n",
    "    model.eval()\n",
    "    val_correct = 0\n",
    "    val_samples = 0\n",
    "    val_loss_sum = 0.0\n",
    "    with torch.no_grad():\n",
    "        for images, labels, sample_weights in val_loader:\n",
    "            images = images.to(device)\n",
    "            labels = labels.to(device).long()\n",
    "            outputs = model(images)\n",
    "            logits = outputs.logits\n",
    "            ce_loss = F.cross_entropy(logits, labels, reduction='none')\n",
    "            loss = ce_loss.mean()  # typically no weighting in val\n",
    "            val_loss_sum += loss.item() * images.size(0)\n",
    "            preds = logits.argmax(dim=1)\n",
    "            val_correct += (preds == labels).sum().item()\n",
    "            val_samples += images.size(0)\n",
    "\n",
    "    val_acc = val_correct / val_samples\n",
    "    val_loss = val_loss_sum / val_samples\n",
    "    print(f\"Epoch {epoch+1}/{EPOCHS_PHASE1} | Train Loss: {train_loss:.4f}, Train Acc: {train_acc:.4f}, Val Loss: {val_loss:.4f}, Val Acc: {val_acc:.4f}\")\n"
   ]
  },
  {
   "cell_type": "markdown",
   "id": "f8c34b92-eee3-4448-aae0-6d80c214e59f",
   "metadata": {},
   "source": [
    "## Unfreeze the Base\n",
    "After Phase 1, unfreeze the last few of the entire backbone"
   ]
  },
  {
   "cell_type": "code",
   "execution_count": 52,
   "id": "703969b5-5d91-4073-8503-51acdd27987f",
   "metadata": {},
   "outputs": [
    {
     "name": "stdout",
     "output_type": "stream",
     "text": [
      "Epoch 1/7 | Train Loss: 0.2613, Train Acc: 0.5988\n",
      " Val Loss: 1.0889, Val Acc: 0.6364\n",
      "Epoch 2/7 | Train Loss: 0.0988, Train Acc: 0.8475\n",
      " Val Loss: 1.0107, Val Acc: 0.6836\n",
      "Epoch 3/7 | Train Loss: 0.0341, Train Acc: 0.9580\n",
      " Val Loss: 0.9804, Val Acc: 0.6993\n",
      "Epoch 4/7 | Train Loss: 0.0133, Train Acc: 0.9851\n",
      " Val Loss: 1.0966, Val Acc: 0.7098\n",
      "Epoch 5/7 | Train Loss: 0.0066, Train Acc: 0.9939\n",
      " Val Loss: 0.9561, Val Acc: 0.7483\n",
      "Epoch 6/7 | Train Loss: 0.0044, Train Acc: 0.9969\n",
      " Val Loss: 0.9826, Val Acc: 0.7483\n",
      "Epoch 7/7 | Train Loss: 0.0029, Train Acc: 0.9969\n",
      " Val Loss: 1.0029, Val Acc: 0.7500\n"
     ]
    }
   ],
   "source": [
    "import torch\n",
    "import torch.nn.functional as F\n",
    "from torch import optim\n",
    "\n",
    "# --- Phase 2: Unfreeze the entire Swin backbone ---\n",
    "for param in model.swin.parameters():\n",
    "    param.requires_grad = True\n",
    "\n",
    "# Optionally use a lower learning rate for fine-tuning\n",
    "fine_tune_lr = 0.00008718108776297707\n",
    "fine_tune_weight_decay = 0.0000976973457014826\n",
    "\n",
    "# Create a new optimizer with the new LR (or you can update the old one)\n",
    "optimizer = torch.optim.AdamW(\n",
    "    model.parameters(),\n",
    "    lr=fine_tune_lr,\n",
    "    weight_decay=fine_tune_weight_decay\n",
    ")\n",
    "\n",
    "EPOCHS_PHASE2 = 7\n",
    "for epoch in range(EPOCHS_PHASE2):\n",
    "    model.train()\n",
    "    total_loss = 0.0\n",
    "    total_correct = 0\n",
    "    total_samples = 0\n",
    "\n",
    "    for images, labels, sample_weights in train_loader:\n",
    "        images = images.to(device)\n",
    "        labels = labels.to(device).long()\n",
    "        sample_weights = sample_weights.to(device)\n",
    "\n",
    "        optimizer.zero_grad()\n",
    "        outputs = model(images)\n",
    "        logits = outputs.logits  # shape (batch_size, num_classes)\n",
    "\n",
    "        # Weighted cross-entropy\n",
    "        ce_loss = F.cross_entropy(logits, labels, reduction='none')\n",
    "        loss = (ce_loss * sample_weights).mean()\n",
    "\n",
    "        loss.backward()\n",
    "        optimizer.step()\n",
    "\n",
    "        total_loss += loss.item() * images.size(0)\n",
    "        preds = logits.argmax(dim=1)\n",
    "        total_correct += (preds == labels).sum().item()\n",
    "        total_samples += images.size(0)\n",
    "    \n",
    "    train_acc = total_correct / total_samples\n",
    "    train_loss = total_loss / total_samples\n",
    "    print(f\"Epoch {epoch+1}/{EPOCHS_PHASE2} | Train Loss: {train_loss:.4f}, Train Acc: {train_acc:.4f}\")\n",
    "\n",
    "    # Validation\n",
    "    model.eval()\n",
    "    val_correct = 0\n",
    "    val_samples = 0\n",
    "    val_loss_sum = 0.0\n",
    "    with torch.no_grad():\n",
    "        for images, labels, sample_weights in val_loader:\n",
    "            images = images.to(device)\n",
    "            labels = labels.to(device).long()\n",
    "            outputs = model(images)\n",
    "            logits = outputs.logits\n",
    "            ce_loss = F.cross_entropy(logits, labels, reduction='none')\n",
    "            loss = ce_loss.mean()  # typically no weighting in val\n",
    "            val_loss_sum += loss.item() * images.size(0)\n",
    "            preds = logits.argmax(dim=1)\n",
    "            val_correct += (preds == labels).sum().item()\n",
    "            val_samples += images.size(0)\n",
    "\n",
    "    val_acc = val_correct / val_samples\n",
    "    val_loss = val_loss_sum / val_samples\n",
    "    print(f\" Val Loss: {val_loss:.4f}, Val Acc: {val_acc:.4f}\")\n"
   ]
  },
  {
   "cell_type": "code",
   "execution_count": 55,
   "id": "cc43bf44-5376-4371-829b-1e050c7cb2c2",
   "metadata": {},
   "outputs": [
    {
     "name": "stdout",
     "output_type": "stream",
     "text": [
      " Submission file saved in: /submission_75_initial.csv\n"
     ]
    }
   ],
   "source": [
    "import os\n",
    "import cv2\n",
    "import torch\n",
    "import pandas as pd\n",
    "import torchvision.transforms as T\n",
    "\n",
    "# 1) Index-to-label mapping\n",
    "idx_to_label = {i: label for i, label in enumerate(label_encoder.classes_)}\n",
    "\n",
    "# 2) Define test transform\n",
    "test_transform = T.Compose([\n",
    "    T.ToPILImage(),\n",
    "    T.Resize((224, 224)),\n",
    "    T.ToTensor(),\n",
    "    T.Normalize(mean=[0.485, 0.456, 0.406],\n",
    "                std=[0.229, 0.224, 0.225])\n",
    "])\n",
    "\n",
    "# 3) Inference loop\n",
    "predictions = []\n",
    "model.eval()  # set model to eval mode\n",
    "with torch.no_grad():\n",
    "    for idx, row in test_df.iterrows():\n",
    "        md5_name = row[\"md5hash\"]  # e.g. \"abc123.jpg\"\n",
    "        test_path = os.path.join(base_test_dir, md5_name)  
    "\n",
    "        if not os.path.exists(test_path):\n",
    "            predicted_label = \"unknown\"\n",
    "        else:\n",
    "            image_bgr = cv2.imread(test_path)\n",
    "            if image_bgr is None:\n",
    "                predicted_label = \"unknown\"\n",
    "            else:\n",
    "                image_rgb = cv2.cvtColor(image_bgr, cv2.COLOR_BGR2RGB)\n",
    "                img_tensor = test_transform(image_rgb).unsqueeze(0).to(device)\n",
    "                \n",
    "                outputs = model(img_tensor)\n",
    "                logits = outputs.logits\n",
    "                pred_idx = logits.argmax(dim=1).item()\n",
    "                predicted_label = idx_to_label.get(pred_idx, \"unknown\")\n",
    "\n",
    "        predictions.append(predicted_label)\n",
    "\n",
    "# 4) Create and save submission in home directory of Chimera\n",
    "test_df[\"md5hash\"] = test_df[\"md5hash\"].str.replace(\".jpg\", \"\", regex=False)\n",
    "submission_df = pd.DataFrame({\n",
    "    \"md5hash\": test_df[\"md5hash\"],\n",
    "    \"label\": predictions\n",
    "})\n",
    "\n",
    "# Use os.path.expanduser(\"~\") to get the home directory\n",
    "home_dir = os.path.expanduser(\"/home/manik.sharma001/bttai-ajl-2025/\")\n",
    "submission_file_path = os.path.join(home_dir, \"submission_75_initial.csv\")\n",
    "\n",
    "submission_df.to_csv(submission_file_path, index=False)\n",
    "print(f\"✅ Submission file saved in: {submission_file_path}\")"
   ]
  },
  {
   "cell_type": "code",
   "execution_count": 57,
   "id": "f7d5258d-8445-4e7f-ab5c-72cfd3bd0a59",
   "metadata": {},
   "outputs": [],
   "source": [
    "#After training the model, saving it for ensemble.\n",
    "torch.save(model.state_dict(), \"submission_75_initial.pth\")"
   ]
  },
  {
   "cell_type": "code",
   "execution_count": null,
   "id": "f89a68cd-ed97-4a3b-93e1-f4f497e8cd12",
   "metadata": {},
   "outputs": [],
   "source": []
  },
  {
   "cell_type": "code",
   "execution_count": null,
   "id": "123d78d3-7feb-497c-8512-a945983ee1bc",
   "metadata": {},
   "outputs": [],
   "source": []
  },
  {
   "cell_type": "code",
   "execution_count": null,
   "id": "d75d35b8-c205-499c-bbe0-dc2d0b0913e3",
   "metadata": {},
   "outputs": [],
   "source": []
  },
  {
   "cell_type": "code",
   "execution_count": null,
   "id": "b8d2b682-11f9-463c-a0f9-292ad6c6b34e",
   "metadata": {},
   "outputs": [],
   "source": []
  },
  {
   "cell_type": "code",
   "execution_count": null,
   "id": "2627e9c0-690a-4068-a43b-b921fee426bc",
   "metadata": {},
   "outputs": [],
   "source": []
  },
  {
   "cell_type": "code",
   "execution_count": null,
   "id": "34a59ae0-f0aa-455a-96d1-e4ef9cd9342d",
   "metadata": {},
   "outputs": [],
   "source": []
  },
  {
   "cell_type": "code",
   "execution_count": null,
   "id": "fb73df34-986c-44bc-8c81-530f736d8d98",
   "metadata": {},
   "outputs": [],
   "source": []
  },
  {
   "cell_type": "code",
   "execution_count": null,
   "id": "8d65f768-03e7-498a-ae63-64ce48e7c185",
   "metadata": {},
   "outputs": [],
   "source": []
  },
  {
   "cell_type": "code",
   "execution_count": null,
   "id": "a1dd6a4d-c792-4c76-9166-e0e3d349ece2",
   "metadata": {},
   "outputs": [],
   "source": []
  },
  {
   "cell_type": "code",
   "execution_count": null,
   "id": "883fdf29-3387-4ae5-a594-83a05858d927",
   "metadata": {},
   "outputs": [],
   "source": []
  },
  {
   "cell_type": "code",
   "execution_count": null,
   "id": "42fd641d-a45c-49ef-94a0-9e30e4e1abf6",
   "metadata": {},
   "outputs": [],
   "source": []
  }
 ],
 "metadata": {
  "kernelspec": {
   "display_name": "Python 3 (ipykernel)",
   "language": "python",
   "name": "python3"
  },
  "language_info": {
   "codemirror_mode": {
    "name": "ipython",
    "version": 3
   },
   "file_extension": ".py",
   "mimetype": "text/x-python",
   "name": "python",
   "nbconvert_exporter": "python",
   "pygments_lexer": "ipython3",
   "version": "3.10.16"
  }
 },
 "nbformat": 4,
 "nbformat_minor": 5
}
