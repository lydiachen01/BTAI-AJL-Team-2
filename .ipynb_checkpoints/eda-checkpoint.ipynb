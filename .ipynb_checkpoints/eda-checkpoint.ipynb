{
 "cells": [
  {
   "cell_type": "markdown",
   "metadata": {},
   "source": [
    "# Initial EDA"
   ]
  },
  {
   "cell_type": "code",
   "execution_count": null,
   "metadata": {
    "vscode": {
     "languageId": "plaintext"
    }
   },
   "outputs": [],
   "source": [
    "import pandas as pd\n",
    "import matplotlib.pyplot as plt\n",
    "import seaborn as sns\n",
    "\n",
    "# Load dataset\n",
    "train_df = pd.read_csv(\"train.csv\")\n",
    "\n",
    "# Display basic info\n",
    "print(train_df.info())\n",
    "print(train_df.describe())\n",
    "\n",
    "# Check distribution of skin tones\n",
    "plt.figure(figsize=(8,5))\n",
    "sns.countplot(x='fitzpatrick_scale', data=train_df)\n",
    "plt.title(\"Distribution of Fitzpatrick Skin Tones\")\n",
    "plt.show()\n",
    "\n",
    "# Check distribution of labels\n",
    "plt.figure(figsize=(12,6))\n",
    "sns.countplot(y='label', data=train_df, order=train_df['label'].value_counts().index)\n",
    "plt.title(\"Distribution of Skin Conditions\")\n",
    "plt.show()"
   ]
  }
 ],
 "metadata": {
  "language_info": {
   "name": "python"
  }
 },
 "nbformat": 4,
 "nbformat_minor": 2
}
