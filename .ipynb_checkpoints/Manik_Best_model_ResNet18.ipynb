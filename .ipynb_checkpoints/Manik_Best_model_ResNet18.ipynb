{
 "cells": [
  {
   "cell_type": "code",
   "execution_count": 1,
   "metadata": {
    "execution": {
     "iopub.execute_input": "2025-02-18T02:52:58.852995Z",
     "iopub.status.busy": "2025-02-18T02:52:58.852775Z",
     "iopub.status.idle": "2025-02-18T02:53:03.531863Z",
     "shell.execute_reply": "2025-02-18T02:53:03.531012Z",
     "shell.execute_reply.started": "2025-02-18T02:52:58.852974Z"
    },
    "trusted": true
   },
   "outputs": [
    {
     "name": "stdout",
     "output_type": "stream",
     "text": [
      "  Preparing metadata (setup.py) ... \u001b[?25l\u001b[?25hdone\n"
     ]
    }
   ],
   "source": [
    "!pip install -q git+https://github.com/qubvel/classification_models"
   ]
  },
  {
   "cell_type": "code",
   "execution_count": null,
   "metadata": {
    "execution": {
     "iopub.execute_input": "2025-02-18T02:53:03.533007Z",
     "iopub.status.busy": "2025-02-18T02:53:03.532764Z",
     "iopub.status.idle": "2025-02-18T02:53:06.922836Z",
     "shell.execute_reply": "2025-02-18T02:53:06.922034Z",
     "shell.execute_reply.started": "2025-02-18T02:53:03.532985Z"
    },
    "trusted": true
   },
   "outputs": [],
   "source": [
    "import os\n",
    "import math\n",
    "import numpy as np\n",
    "import pandas as pd\n",
    "import matplotlib.pyplot as plt\n",
    "import seaborn as sns\n",
    "import tensorflow as tf\n",
    "from imblearn.over_sampling import RandomOverSampler\n",
    "from sklearn.model_selection import train_test_split\n",
    "from sklearn.preprocessing import LabelEncoder\n",
    "from tensorflow.keras.preprocessing.image import ImageDataGenerator\n",
    "from tensorflow.keras.models import Sequential\n",
    "from tensorflow.keras.layers import GlobalAveragePooling2D, Dense\n",
    "from tensorflow.keras.models import Model\n",
    "import keras_tuner as kt\n",
    "from tensorflow.keras.optimizers import Adam, SGD\n",
    "from tensorflow.keras.layers import Conv2D, MaxPooling2D, Flatten, Dense, Dropout\n",
    "from tensorflow.keras.callbacks import EarlyStopping, ReduceLROnPlateau\n",
    "from classification_models.tfkeras import Classifiers\n",
    "ResNet18, preprocess_input = Classifiers.get('resnet18')"
   ]
  },
  {
   "cell_type": "code",
   "execution_count": 3,
   "metadata": {
    "execution": {
     "iopub.execute_input": "2025-02-18T02:53:06.924295Z",
     "iopub.status.busy": "2025-02-18T02:53:06.923736Z",
     "iopub.status.idle": "2025-02-18T02:53:07.059305Z",
     "shell.execute_reply": "2025-02-18T02:53:07.058524Z",
     "shell.execute_reply.started": "2025-02-18T02:53:06.924243Z"
    },
    "trusted": true
   },
   "outputs": [
    {
     "name": "stdout",
     "output_type": "stream",
     "text": [
      "Available GPUs: [PhysicalDevice(name='/physical_device:GPU:0', device_type='GPU'), PhysicalDevice(name='/physical_device:GPU:1', device_type='GPU')]\n"
     ]
    }
   ],
   "source": [
    "import tensorflow as tf\n",
    "print(\"Available GPUs:\", tf.config.list_physical_devices('GPU'))"
   ]
  },
  {
   "cell_type": "markdown",
   "metadata": {},
   "source": [
    "# Defining Directories"
   ]
  },
  {
   "cell_type": "code",
   "execution_count": 4,
   "metadata": {
    "execution": {
     "iopub.execute_input": "2025-02-18T02:53:07.060408Z",
     "iopub.status.busy": "2025-02-18T02:53:07.060133Z",
     "iopub.status.idle": "2025-02-18T02:53:07.072023Z",
     "shell.execute_reply": "2025-02-18T02:53:07.071357Z",
     "shell.execute_reply.started": "2025-02-18T02:53:07.060386Z"
    },
    "trusted": true
   },
   "outputs": [],
   "source": [
    "base_dir = \"/kaggle/input/bttai-ajl-2025/train/train\"\n",
    "base_test_dir = \"/kaggle/input/bttai-ajl-2025/test/test\"\n",
    "train_csv_path = \"/kaggle/input/bttai-ajl-2025/train.csv\"\n",
    "test_csv_path = \"/kaggle/input/bttai-ajl-2025/test.csv\""
   ]
  },
  {
   "cell_type": "markdown",
   "metadata": {},
   "source": [
    "# Making Pandas Dataframe for train and test \n",
    "#### Adding .jpg to 'md5hash' feature <br>\n",
    "#### Adding the correct path to images "
   ]
  },
  {
   "cell_type": "code",
   "execution_count": 5,
   "metadata": {
    "_cell_guid": "b1076dfc-b9ad-4769-8c92-a6c4dae69d19",
    "_uuid": "8f2839f25d086af736a60e9eeb907d3b93b6e0e5",
    "execution": {
     "iopub.execute_input": "2025-02-18T02:53:07.074868Z",
     "iopub.status.busy": "2025-02-18T02:53:07.074648Z",
     "iopub.status.idle": "2025-02-18T02:53:07.106353Z",
     "shell.execute_reply": "2025-02-18T02:53:07.105528Z",
     "shell.execute_reply.started": "2025-02-18T02:53:07.074851Z"
    },
    "trusted": true
   },
   "outputs": [],
   "source": [
    "# Loading the Data \n",
    "train_df = pd.read_csv(train_csv_path)\n",
    "test_df = pd.read_csv(test_csv_path)\n",
    "\n",
    "# Add .jpg extension to md5hash column to reference the file_name\n",
    "train_df['md5hash'] = train_df['md5hash'].astype(str) + '.jpg'\n",
    "test_df['md5hash'] = test_df['md5hash'].astype(str) + '.jpg'\n",
    "\n",
    "# Combine label and md5hash to form the correct path\n",
    "train_df['file_path'] = train_df['label'] + '/' + train_df['md5hash']"
   ]
  },
  {
   "cell_type": "markdown",
   "metadata": {},
   "source": [
    "# Checking if all image files exist in the directory"
   ]
  },
  {
   "cell_type": "code",
   "execution_count": 6,
   "metadata": {
    "execution": {
     "iopub.execute_input": "2025-02-18T02:53:07.107844Z",
     "iopub.status.busy": "2025-02-18T02:53:07.107594Z",
     "iopub.status.idle": "2025-02-18T02:53:08.716810Z",
     "shell.execute_reply": "2025-02-18T02:53:08.715872Z",
     "shell.execute_reply.started": "2025-02-18T02:53:07.107824Z"
    },
    "trusted": true
   },
   "outputs": [
    {
     "name": "stdout",
     "output_type": "stream",
     "text": [
      "\n",
      "Total Missing Files: 0\n",
      "\n",
      "Total Existing Files: 2860\n",
      "✅ First 5 Existing Files for Reference:\n",
      "['/kaggle/input/bttai-ajl-2025/train/train/prurigo-nodularis/fd06d13de341cc75ad679916c5d7e6a6.jpg', '/kaggle/input/bttai-ajl-2025/train/train/basal-cell-carcinoma-morpheiform/a4bb4e5206c4e89a303f470576fc5253.jpg', '/kaggle/input/bttai-ajl-2025/train/train/keloid/c94ce27e389f96bda998e7c3fa5c4a2e.jpg', '/kaggle/input/bttai-ajl-2025/train/train/basal-cell-carcinoma/ebcf2b50dd943c700d4e2b586fcd4425.jpg', '/kaggle/input/bttai-ajl-2025/train/train/prurigo-nodularis/c77d6c895f05fea73a8f3704307036c0.jpg']\n",
      "\n",
      "Train Data Sample:\n",
      "                                md5hash  fitzpatrick_scale  \\\n",
      "0  fd06d13de341cc75ad679916c5d7e6a6.jpg                  4   \n",
      "1  a4bb4e5206c4e89a303f470576fc5253.jpg                  1   \n",
      "2  c94ce27e389f96bda998e7c3fa5c4a2e.jpg                  5   \n",
      "3  ebcf2b50dd943c700d4e2b586fcd4425.jpg                  3   \n",
      "4  c77d6c895f05fea73a8f3704307036c0.jpg                  1   \n",
      "\n",
      "   fitzpatrick_centaur                             label nine_partition_label  \\\n",
      "0                    4                 prurigo-nodularis     benign-epidermal   \n",
      "1                    1  basal-cell-carcinoma-morpheiform  malignant-epidermal   \n",
      "2                    5                            keloid         inflammatory   \n",
      "3                    3              basal-cell-carcinoma  malignant-epidermal   \n",
      "4                    1                 prurigo-nodularis     benign-epidermal   \n",
      "\n",
      "  three_partition_label            qc  ddi_scale  \\\n",
      "0                benign           NaN         34   \n",
      "1             malignant           NaN         12   \n",
      "2        non-neoplastic  1 Diagnostic         56   \n",
      "3             malignant           NaN         34   \n",
      "4                benign           NaN         12   \n",
      "\n",
      "                                           file_path  \n",
      "0  prurigo-nodularis/fd06d13de341cc75ad679916c5d7...  \n",
      "1  basal-cell-carcinoma-morpheiform/a4bb4e5206c4e...  \n",
      "2        keloid/c94ce27e389f96bda998e7c3fa5c4a2e.jpg  \n",
      "3  basal-cell-carcinoma/ebcf2b50dd943c700d4e2b586...  \n",
      "4  prurigo-nodularis/c77d6c895f05fea73a8f37043070...  \n",
      "\n",
      "Test Data Sample:\n",
      "                                md5hash  fitzpatrick_scale  \\\n",
      "0  0844ae634f0e6e7ef1f73c2aeecbae0e.jpg                  2   \n",
      "1  3b290d262098f761d719aa07cf36c040.jpg                  4   \n",
      "2  cf561d08ac46d0fda678bff6621005ee.jpg                  2   \n",
      "3  e6371069be05c6b0a95b4b3f1bacc9a5.jpg                  4   \n",
      "4  f76cddb37265f97508f159078dcc7e7c.jpg                  5   \n",
      "\n",
      "   fitzpatrick_centaur   qc  ddi_scale  \n",
      "0                    2  NaN         12  \n",
      "1                    3  NaN         34  \n",
      "2                    3  NaN         12  \n",
      "3                    3  NaN         34  \n",
      "4                    5  NaN         56  \n"
     ]
    }
   ],
   "source": [
    "# Function to check if image files exist\n",
    "def check_image_paths(df, base_dir):\n",
    "    missing_files = []\n",
    "    existing_files = []\n",
    "    \n",
    "    for file_path in df['file_path']:\n",
    "        full_path = os.path.join(base_dir, file_path)\n",
    "        if not os.path.exists(full_path):\n",
    "            missing_files.append(full_path)\n",
    "        else:\n",
    "            existing_files.append(full_path)\n",
    "    \n",
    "    # Print results\n",
    "    print(f\"\\nTotal Missing Files: {len(missing_files)}\")\n",
    "    if missing_files:\n",
    "        print(\"⚠️ First 5 Missing Files for Reference:\")\n",
    "        print(missing_files[:5])\n",
    "\n",
    "    print(f\"\\nTotal Existing Files: {len(existing_files)}\")\n",
    "    if existing_files:\n",
    "        print(\"✅ First 5 Existing Files for Reference:\")\n",
    "        print(existing_files[:5])\n",
    "\n",
    "    return missing_files\n",
    "\n",
    "# Run the file existence check\n",
    "missing_train_files = check_image_paths(train_df, base_dir)\n",
    "\n",
    "# Print sample data\n",
    "print(\"\\nTrain Data Sample:\")\n",
    "print(train_df.head())\n",
    "\n",
    "print(\"\\nTest Data Sample:\")\n",
    "print(test_df.head())"
   ]
  },
  {
   "cell_type": "markdown",
   "metadata": {},
   "source": [
    "## Checking Class label Distribution"
   ]
  },
  {
   "cell_type": "code",
   "execution_count": 7,
   "metadata": {
    "execution": {
     "iopub.execute_input": "2025-02-18T02:53:08.718030Z",
     "iopub.status.busy": "2025-02-18T02:53:08.717784Z",
     "iopub.status.idle": "2025-02-18T02:53:09.061697Z",
     "shell.execute_reply": "2025-02-18T02:53:09.060810Z",
     "shell.execute_reply.started": "2025-02-18T02:53:08.718009Z"
    },
    "trusted": true
   },
   "outputs": [
    {
     "data": {
      "image/png": "[encoded data removed]",
      "text/plain": [
       "<Figure size 1200x600 with 1 Axes>"
      ]
     },
     "metadata": {},
     "output_type": "display_data"
    }
   ],
   "source": [
    "plt.figure(figsize=(12, 6))\n",
    "sns.countplot(y=train_df['label'], order=train_df['label'].value_counts().index)\n",
    "\n",
    "plt.xlabel(\"Number of Images\")\n",
    "plt.ylabel(\"Class Labels\")\n",
    "plt.title(\"Label Distribution in Training Data\")\n",
    "plt.grid(axis='x', linestyle='--', alpha=0.7)\n",
    "plt.show()"
   ]
  },
  {
   "cell_type": "code",
   "execution_count": 8,
   "metadata": {
    "execution": {
     "iopub.execute_input": "2025-02-18T02:53:09.062902Z",
     "iopub.status.busy": "2025-02-18T02:53:09.062638Z",
     "iopub.status.idle": "2025-02-18T02:53:09.069718Z",
     "shell.execute_reply": "2025-02-18T02:53:09.068786Z",
     "shell.execute_reply.started": "2025-02-18T02:53:09.062878Z"
    },
    "trusted": true
   },
   "outputs": [
    {
     "name": "stdout",
     "output_type": "stream",
     "text": [
      "label\n",
      "squamous-cell-carcinoma               407\n",
      "basal-cell-carcinoma                  328\n",
      "folliculitis                          239\n",
      "acne-vulgaris                         234\n",
      "melanoma                              181\n",
      "eczema                                143\n",
      "acne                                  128\n",
      "mycosis-fungoides                     127\n",
      "actinic-keratosis                     122\n",
      "prurigo-nodularis                     119\n",
      "kaposi-sarcoma                        109\n",
      "keloid                                109\n",
      "dermatomyositis                       106\n",
      "superficial-spreading-melanoma-ssm     83\n",
      "pyogenic-granuloma                     79\n",
      "malignant-melanoma                     78\n",
      "epidermal-nevus                        64\n",
      "dyshidrotic-eczema                     58\n",
      "dermatofibroma                         55\n",
      "seborrheic-keratosis                   48\n",
      "basal-cell-carcinoma-morpheiform       43\n",
      "Name: count, dtype: int64\n",
      "Underrepresented classes: ['superficial-spreading-melanoma-ssm', 'pyogenic-granuloma', 'malignant-melanoma', 'epidermal-nevus', 'dyshidrotic-eczema', 'dermatofibroma', 'seborrheic-keratosis', 'basal-cell-carcinoma-morpheiform']\n"
     ]
    }
   ],
   "source": [
    "# Calculate counts per class\n",
    "class_counts = train_df['label'].value_counts()\n",
    "print(class_counts)\n",
    "\n",
    "# Define a threshold (e.g. classes with fewer than 100 samples are underrepresented)\n",
    "threshold = 100\n",
    "underrepresented_classes = class_counts[class_counts < threshold].index.tolist()\n",
    "\n",
    "print(\"Underrepresented classes:\", underrepresented_classes)"
   ]
  },
  {
   "cell_type": "markdown",
   "metadata": {},
   "source": [
    "## Detecting Duplicates"
   ]
  },
  {
   "cell_type": "code",
   "execution_count": 9,
   "metadata": {
    "execution": {
     "iopub.execute_input": "2025-02-18T02:53:09.070633Z",
     "iopub.status.busy": "2025-02-18T02:53:09.070366Z",
     "iopub.status.idle": "2025-02-18T02:53:09.085234Z",
     "shell.execute_reply": "2025-02-18T02:53:09.084353Z",
     "shell.execute_reply.started": "2025-02-18T02:53:09.070604Z"
    },
    "trusted": true
   },
   "outputs": [
    {
     "name": "stdout",
     "output_type": "stream",
     "text": [
      "🔍 Duplicate Images Found: 0\n"
     ]
    }
   ],
   "source": [
    "duplicate_counts = train_df['md5hash'].duplicated().sum()\n",
    "\n",
    "print(f\"🔍 Duplicate Images Found: {duplicate_counts}\")\n",
    "if duplicate_counts > 0:\n",
    "    print(train_df[train_df['md5hash'].duplicated(keep=False)].head(10))"
   ]
  },
  {
   "cell_type": "markdown",
   "metadata": {},
   "source": [
    "## Handle Missing Values"
   ]
  },
  {
   "cell_type": "code",
   "execution_count": 10,
   "metadata": {
    "execution": {
     "iopub.execute_input": "2025-02-18T02:53:09.086213Z",
     "iopub.status.busy": "2025-02-18T02:53:09.086005Z",
     "iopub.status.idle": "2025-02-18T02:53:09.099713Z",
     "shell.execute_reply": "2025-02-18T02:53:09.098750Z",
     "shell.execute_reply.started": "2025-02-18T02:53:09.086194Z"
    },
    "trusted": true
   },
   "outputs": [
    {
     "name": "stdout",
     "output_type": "stream",
     "text": [
      "🔍 Missing Values per Column:\n",
      " qc    2770\n",
      "dtype: int64\n"
     ]
    }
   ],
   "source": [
    "# Check for missing values in each column\n",
    "missing_values = train_df.isnull().sum()\n",
    "\n",
    "print(\"🔍 Missing Values per Column:\\n\", missing_values[missing_values > 0])"
   ]
  },
  {
   "cell_type": "markdown",
   "metadata": {},
   "source": [
    "## Validate Image Files"
   ]
  },
  {
   "cell_type": "code",
   "execution_count": 11,
   "metadata": {
    "execution": {
     "iopub.execute_input": "2025-02-18T02:53:09.100887Z",
     "iopub.status.busy": "2025-02-18T02:53:09.100673Z",
     "iopub.status.idle": "2025-02-18T02:53:09.132484Z",
     "shell.execute_reply": "2025-02-18T02:53:09.131842Z",
     "shell.execute_reply.started": "2025-02-18T02:53:09.100858Z"
    },
    "trusted": true
   },
   "outputs": [
    {
     "name": "stdout",
     "output_type": "stream",
     "text": [
      "\n",
      "🔍 Total Missing Images: 0\n"
     ]
    }
   ],
   "source": [
    "# Check if image files exist\n",
    "missing_files = []\n",
    "for file_path in train_df['file_path']:\n",
    "    full_path = os.path.join(base_dir, file_path)\n",
    "    if not os.path.exists(full_path):\n",
    "        missing_files.append(full_path)\n",
    "\n",
    "# Print results\n",
    "print(f\"\\n🔍 Total Missing Images: {len(missing_files)}\")\n",
    "if missing_files:\n",
    "    print(\"⚠️ First 5 Missing Images for Reference:\")\n",
    "    print(missing_files[:5])"
   ]
  },
  {
   "cell_type": "markdown",
   "metadata": {},
   "source": [
    "# Data Pre-processing"
   ]
  },
  {
   "cell_type": "markdown",
   "metadata": {},
   "source": [
    "### Selecting Features and Labels"
   ]
  },
  {
   "cell_type": "code",
   "execution_count": 12,
   "metadata": {
    "execution": {
     "iopub.execute_input": "2025-02-18T02:53:09.133316Z",
     "iopub.status.busy": "2025-02-18T02:53:09.133114Z",
     "iopub.status.idle": "2025-02-18T02:53:09.137928Z",
     "shell.execute_reply": "2025-02-18T02:53:09.137037Z",
     "shell.execute_reply.started": "2025-02-18T02:53:09.133298Z"
    },
    "trusted": true
   },
   "outputs": [],
   "source": [
    "X_train = train_df.drop(columns=['label'])  # Features (excluding the label)\n",
    "y_train = train_df['label']  # Target label"
   ]
  },
  {
   "cell_type": "code",
   "execution_count": 13,
   "metadata": {
    "execution": {
     "iopub.execute_input": "2025-02-18T02:53:09.138870Z",
     "iopub.status.busy": "2025-02-18T02:53:09.138663Z",
     "iopub.status.idle": "2025-02-18T02:53:09.158651Z",
     "shell.execute_reply": "2025-02-18T02:53:09.157712Z",
     "shell.execute_reply.started": "2025-02-18T02:53:09.138852Z"
    },
    "trusted": true
   },
   "outputs": [
    {
     "data": {
      "text/html": [
       "<div>\n",
       "<style scoped>\n",
       "    .dataframe tbody tr th:only-of-type {\n",
       "        vertical-align: middle;\n",
       "    }\n",
       "\n",
       "    .dataframe tbody tr th {\n",
       "        vertical-align: top;\n",
       "    }\n",
       "\n",
       "    .dataframe thead th {\n",
       "        text-align: right;\n",
       "    }\n",
       "</style>\n",
       "<table border=\"1\" class=\"dataframe\">\n",
       "  <thead>\n",
       "    <tr style=\"text-align: right;\">\n",
       "      <th></th>\n",
       "      <th>md5hash</th>\n",
       "      <th>fitzpatrick_scale</th>\n",
       "      <th>fitzpatrick_centaur</th>\n",
       "      <th>label</th>\n",
       "      <th>nine_partition_label</th>\n",
       "      <th>three_partition_label</th>\n",
       "      <th>qc</th>\n",
       "      <th>ddi_scale</th>\n",
       "      <th>file_path</th>\n",
       "    </tr>\n",
       "  </thead>\n",
       "  <tbody>\n",
       "    <tr>\n",
       "      <th>0</th>\n",
       "      <td>fd06d13de341cc75ad679916c5d7e6a6.jpg</td>\n",
       "      <td>4</td>\n",
       "      <td>4</td>\n",
       "      <td>prurigo-nodularis</td>\n",
       "      <td>benign-epidermal</td>\n",
       "      <td>benign</td>\n",
       "      <td>NaN</td>\n",
       "      <td>34</td>\n",
       "      <td>prurigo-nodularis/fd06d13de341cc75ad679916c5d7...</td>\n",
       "    </tr>\n",
       "    <tr>\n",
       "      <th>1</th>\n",
       "      <td>a4bb4e5206c4e89a303f470576fc5253.jpg</td>\n",
       "      <td>1</td>\n",
       "      <td>1</td>\n",
       "      <td>basal-cell-carcinoma-morpheiform</td>\n",
       "      <td>malignant-epidermal</td>\n",
       "      <td>malignant</td>\n",
       "      <td>NaN</td>\n",
       "      <td>12</td>\n",
       "      <td>basal-cell-carcinoma-morpheiform/a4bb4e5206c4e...</td>\n",
       "    </tr>\n",
       "    <tr>\n",
       "      <th>2</th>\n",
       "      <td>c94ce27e389f96bda998e7c3fa5c4a2e.jpg</td>\n",
       "      <td>5</td>\n",
       "      <td>5</td>\n",
       "      <td>keloid</td>\n",
       "      <td>inflammatory</td>\n",
       "      <td>non-neoplastic</td>\n",
       "      <td>1 Diagnostic</td>\n",
       "      <td>56</td>\n",
       "      <td>keloid/c94ce27e389f96bda998e7c3fa5c4a2e.jpg</td>\n",
       "    </tr>\n",
       "    <tr>\n",
       "      <th>3</th>\n",
       "      <td>ebcf2b50dd943c700d4e2b586fcd4425.jpg</td>\n",
       "      <td>3</td>\n",
       "      <td>3</td>\n",
       "      <td>basal-cell-carcinoma</td>\n",
       "      <td>malignant-epidermal</td>\n",
       "      <td>malignant</td>\n",
       "      <td>NaN</td>\n",
       "      <td>34</td>\n",
       "      <td>basal-cell-carcinoma/ebcf2b50dd943c700d4e2b586...</td>\n",
       "    </tr>\n",
       "    <tr>\n",
       "      <th>4</th>\n",
       "      <td>c77d6c895f05fea73a8f3704307036c0.jpg</td>\n",
       "      <td>1</td>\n",
       "      <td>1</td>\n",
       "      <td>prurigo-nodularis</td>\n",
       "      <td>benign-epidermal</td>\n",
       "      <td>benign</td>\n",
       "      <td>NaN</td>\n",
       "      <td>12</td>\n",
       "      <td>prurigo-nodularis/c77d6c895f05fea73a8f37043070...</td>\n",
       "    </tr>\n",
       "  </tbody>\n",
       "</table>\n",
       "</div>"
      ],
      "text/plain": [
       "                                md5hash  fitzpatrick_scale  \\\n",
       "0  fd06d13de341cc75ad679916c5d7e6a6.jpg                  4   \n",
       "1  a4bb4e5206c4e89a303f470576fc5253.jpg                  1   \n",
       "2  c94ce27e389f96bda998e7c3fa5c4a2e.jpg                  5   \n",
       "3  ebcf2b50dd943c700d4e2b586fcd4425.jpg                  3   \n",
       "4  c77d6c895f05fea73a8f3704307036c0.jpg                  1   \n",
       "\n",
       "   fitzpatrick_centaur                             label nine_partition_label  \\\n",
       "0                    4                 prurigo-nodularis     benign-epidermal   \n",
       "1                    1  basal-cell-carcinoma-morpheiform  malignant-epidermal   \n",
       "2                    5                            keloid         inflammatory   \n",
       "3                    3              basal-cell-carcinoma  malignant-epidermal   \n",
       "4                    1                 prurigo-nodularis     benign-epidermal   \n",
       "\n",
       "  three_partition_label            qc  ddi_scale  \\\n",
       "0                benign           NaN         34   \n",
       "1             malignant           NaN         12   \n",
       "2        non-neoplastic  1 Diagnostic         56   \n",
       "3             malignant           NaN         34   \n",
       "4                benign           NaN         12   \n",
       "\n",
       "                                           file_path  \n",
       "0  prurigo-nodularis/fd06d13de341cc75ad679916c5d7...  \n",
       "1  basal-cell-carcinoma-morpheiform/a4bb4e5206c4e...  \n",
       "2        keloid/c94ce27e389f96bda998e7c3fa5c4a2e.jpg  \n",
       "3  basal-cell-carcinoma/ebcf2b50dd943c700d4e2b586...  \n",
       "4  prurigo-nodularis/c77d6c895f05fea73a8f37043070...  "
      ]
     },
     "execution_count": 13,
     "metadata": {},
     "output_type": "execute_result"
    }
   ],
   "source": [
    "train_df.head()"
   ]
  },
  {
   "cell_type": "markdown",
   "metadata": {},
   "source": [
    "## Class label Distribution is Handled ->"
   ]
  },
  {
   "cell_type": "code",
   "execution_count": 14,
   "metadata": {
    "execution": {
     "iopub.execute_input": "2025-02-18T02:53:09.160023Z",
     "iopub.status.busy": "2025-02-18T02:53:09.159715Z",
     "iopub.status.idle": "2025-02-18T02:53:09.165810Z",
     "shell.execute_reply": "2025-02-18T02:53:09.165060Z",
     "shell.execute_reply.started": "2025-02-18T02:53:09.159994Z"
    },
    "trusted": true
   },
   "outputs": [],
   "source": [
    "# plt.figure(figsize=(12, 6))\n",
    "# sns.countplot(y=y_train, order=y_train.value_counts().index)\n",
    "\n",
    "# plt.xlabel(\"Number of Images\")\n",
    "# plt.ylabel(\"Class Labels\")\n",
    "# plt.title(\"Label Distribution in Training Data\")\n",
    "# plt.grid(axis='x', linestyle='--', alpha=0.7)\n",
    "# plt.show()"
   ]
  },
  {
   "cell_type": "markdown",
   "metadata": {},
   "source": [
    "## Handling Missing Values in `qc`"
   ]
  },
  {
   "cell_type": "code",
   "execution_count": 15,
   "metadata": {
    "execution": {
     "iopub.execute_input": "2025-02-18T02:53:09.166877Z",
     "iopub.status.busy": "2025-02-18T02:53:09.166667Z",
     "iopub.status.idle": "2025-02-18T02:53:09.352040Z",
     "shell.execute_reply": "2025-02-18T02:53:09.351034Z",
     "shell.execute_reply.started": "2025-02-18T02:53:09.166851Z"
    },
    "trusted": true
   },
   "outputs": [
    {
     "name": "stdout",
     "output_type": "stream",
     "text": [
      "🔍 QC Column Data Type: object\n"
     ]
    },
    {
     "name": "stderr",
     "output_type": "stream",
     "text": [
      "/usr/local/lib/python3.10/dist-packages/seaborn/_oldcore.py:1119: FutureWarning: use_inf_as_na option is deprecated and will be removed in a future version. Convert inf values to NaN before operating instead.\n",
      "  with pd.option_context('mode.use_inf_as_na', True):\n"
     ]
    },
    {
     "data": {
      "image/png": "[encoded data removed]",
      "text/plain": [
       "<Figure size 800x500 with 1 Axes>"
      ]
     },
     "metadata": {},
     "output_type": "display_data"
    }
   ],
   "source": [
    "# Check `qc` column type\n",
    "print(\"🔍 QC Column Data Type:\", X_train['qc'].dtype)\n",
    "\n",
    "# Plot distribution of existing `qc` values (ignoring NaNs)\n",
    "plt.figure(figsize=(8, 5))\n",
    "sns.histplot(X_train['qc'].dropna(), bins=20, kde=True)\n",
    "plt.title(\"Distribution of QC Column (Without NaNs)\")\n",
    "plt.xlabel(\"QC Values\")\n",
    "plt.ylabel(\"Frequency\")\n",
    "plt.grid()\n",
    "plt.show()"
   ]
  },
  {
   "cell_type": "markdown",
   "metadata": {},
   "source": [
    "## `qc` Filtering\n",
    "## Extracting only the numeric part from `qc`"
   ]
  },
  {
   "cell_type": "code",
   "execution_count": 16,
   "metadata": {
    "execution": {
     "iopub.execute_input": "2025-02-18T02:53:09.353442Z",
     "iopub.status.busy": "2025-02-18T02:53:09.353087Z",
     "iopub.status.idle": "2025-02-18T02:53:09.361581Z",
     "shell.execute_reply": "2025-02-18T02:53:09.360675Z",
     "shell.execute_reply.started": "2025-02-18T02:53:09.353409Z"
    },
    "trusted": true
   },
   "outputs": [
    {
     "name": "stdout",
     "output_type": "stream",
     "text": [
      "✅ Unique QC Numeric Values: [nan  1.  3.  5.  4.  2.]\n"
     ]
    }
   ],
   "source": [
    "def extract_qc_number(qc_value):\n",
    "    if pd.isnull(qc_value):\n",
    "        return None  # Keep NaN values\n",
    "    return int(qc_value.split()[0])  # Extract numeric part (before space)\n",
    "\n",
    "# Apply the function\n",
    "X_train['qc'] = X_train['qc'].apply(extract_qc_number) # Now the qc only holds numbers [1-5] and nan\n",
    "\n",
    "# Print unique values to verify conversion\n",
    "print(\"✅ Unique QC Numeric Values:\", X_train['qc'].unique())"
   ]
  },
  {
   "cell_type": "markdown",
   "metadata": {},
   "source": [
    "## Creating new column `sample_weight`"
   ]
  },
  {
   "cell_type": "code",
   "execution_count": 17,
   "metadata": {
    "execution": {
     "iopub.execute_input": "2025-02-18T02:53:09.362903Z",
     "iopub.status.busy": "2025-02-18T02:53:09.362600Z",
     "iopub.status.idle": "2025-02-18T02:53:09.376442Z",
     "shell.execute_reply": "2025-02-18T02:53:09.375717Z",
     "shell.execute_reply.started": "2025-02-18T02:53:09.362872Z"
    },
    "trusted": true
   },
   "outputs": [],
   "source": [
    "def qc_to_weight(qc_value):\n",
    "    \"\"\"Assigns sample weights based on QC value.\"\"\"\n",
    "    if pd.isnull(qc_value):\n",
    "        # Missing QC\n",
    "        return 0.5\n",
    "    elif qc_value == 1:\n",
    "        # Diagnostic\n",
    "        return 1.0\n",
    "    elif qc_value == 5:\n",
    "        # Potentially diagnostic\n",
    "        return 0.7\n",
    "    elif qc_value in [2, 3, 4]:\n",
    "        # Characteristic / Wrongly labeled / Undecided\n",
    "        return 0.0\n",
    "    else:\n",
    "        # Fallback case if there's an unexpected QC value\n",
    "        return 0.0\n",
    "# Applying the function to create a sample_weight column:\n",
    "X_train['sample_weight'] = X_train['qc'].apply(qc_to_weight)"
   ]
  },
  {
   "cell_type": "code",
   "execution_count": 18,
   "metadata": {
    "execution": {
     "iopub.execute_input": "2025-02-18T02:53:09.377572Z",
     "iopub.status.busy": "2025-02-18T02:53:09.377283Z",
     "iopub.status.idle": "2025-02-18T02:53:09.395513Z",
     "shell.execute_reply": "2025-02-18T02:53:09.394451Z",
     "shell.execute_reply.started": "2025-02-18T02:53:09.377542Z"
    },
    "trusted": true
   },
   "outputs": [
    {
     "name": "stdout",
     "output_type": "stream",
     "text": [
      "sample_weight\n",
      "0.5    2770\n",
      "1.0      76\n",
      "0.0       7\n",
      "0.7       7\n",
      "Name: count, dtype: int64\n"
     ]
    }
   ],
   "source": [
    "print(X_train['sample_weight'].value_counts())"
   ]
  },
  {
   "cell_type": "code",
   "execution_count": 19,
   "metadata": {
    "execution": {
     "iopub.execute_input": "2025-02-18T02:53:09.399722Z",
     "iopub.status.busy": "2025-02-18T02:53:09.399411Z",
     "iopub.status.idle": "2025-02-18T02:53:09.678244Z",
     "shell.execute_reply": "2025-02-18T02:53:09.677103Z",
     "shell.execute_reply.started": "2025-02-18T02:53:09.399687Z"
    },
    "trusted": true
   },
   "outputs": [
    {
     "data": {
      "image/png": "[encoded data removed]",
      "text/plain": [
       "<Figure size 600x400 with 1 Axes>"
      ]
     },
     "metadata": {},
     "output_type": "display_data"
    },
    {
     "data": {
      "image/png": "[encoded data removed]",
      "text/plain": [
       "<Figure size 600x400 with 1 Axes>"
      ]
     },
     "metadata": {},
     "output_type": "display_data"
    }
   ],
   "source": [
    "# Visualize the numeric QC distribution\n",
    "plt.figure(figsize=(6,4))\n",
    "sns.countplot(x='qc', data=X_train)\n",
    "plt.title(\"Distribution of Numeric QC Values\")\n",
    "plt.show()\n",
    "\n",
    "# Visualize sample_weight distribution\n",
    "plt.figure(figsize=(6,4))\n",
    "sns.countplot(x='sample_weight', data=X_train)\n",
    "plt.title(\"Distribution of Sample Weights\")\n",
    "plt.show()"
   ]
  },
  {
   "cell_type": "markdown",
   "metadata": {},
   "source": [
    "## Dropping the original `qc` column"
   ]
  },
  {
   "cell_type": "code",
   "execution_count": 20,
   "metadata": {
    "execution": {
     "iopub.execute_input": "2025-02-18T02:53:09.680387Z",
     "iopub.status.busy": "2025-02-18T02:53:09.680048Z",
     "iopub.status.idle": "2025-02-18T02:53:09.688687Z",
     "shell.execute_reply": "2025-02-18T02:53:09.687923Z",
     "shell.execute_reply.started": "2025-02-18T02:53:09.680363Z"
    },
    "trusted": true
   },
   "outputs": [
    {
     "name": "stdout",
     "output_type": "stream",
     "text": [
      "                                md5hash  fitzpatrick_scale  \\\n",
      "0  fd06d13de341cc75ad679916c5d7e6a6.jpg                  4   \n",
      "1  a4bb4e5206c4e89a303f470576fc5253.jpg                  1   \n",
      "2  c94ce27e389f96bda998e7c3fa5c4a2e.jpg                  5   \n",
      "3  ebcf2b50dd943c700d4e2b586fcd4425.jpg                  3   \n",
      "4  c77d6c895f05fea73a8f3704307036c0.jpg                  1   \n",
      "\n",
      "   fitzpatrick_centaur nine_partition_label three_partition_label  ddi_scale  \\\n",
      "0                    4     benign-epidermal                benign         34   \n",
      "1                    1  malignant-epidermal             malignant         12   \n",
      "2                    5         inflammatory        non-neoplastic         56   \n",
      "3                    3  malignant-epidermal             malignant         34   \n",
      "4                    1     benign-epidermal                benign         12   \n",
      "\n",
      "                                           file_path  sample_weight  \n",
      "0  prurigo-nodularis/fd06d13de341cc75ad679916c5d7...            0.5  \n",
      "1  basal-cell-carcinoma-morpheiform/a4bb4e5206c4e...            0.5  \n",
      "2        keloid/c94ce27e389f96bda998e7c3fa5c4a2e.jpg            1.0  \n",
      "3  basal-cell-carcinoma/ebcf2b50dd943c700d4e2b586...            0.5  \n",
      "4  prurigo-nodularis/c77d6c895f05fea73a8f37043070...            0.5  \n"
     ]
    }
   ],
   "source": [
    "X_train.drop('qc', axis=1, inplace=True)\n",
    "print(X_train.head())"
   ]
  },
  {
   "cell_type": "code",
   "execution_count": 21,
   "metadata": {
    "execution": {
     "iopub.execute_input": "2025-02-18T02:53:09.689623Z",
     "iopub.status.busy": "2025-02-18T02:53:09.689399Z",
     "iopub.status.idle": "2025-02-18T02:53:09.923342Z",
     "shell.execute_reply": "2025-02-18T02:53:09.922369Z",
     "shell.execute_reply.started": "2025-02-18T02:53:09.689604Z"
    },
    "trusted": true
   },
   "outputs": [
    {
     "name": "stdout",
     "output_type": "stream",
     "text": [
      "🔍 QC Column Data Type: float64\n"
     ]
    },
    {
     "name": "stderr",
     "output_type": "stream",
     "text": [
      "/usr/local/lib/python3.10/dist-packages/seaborn/_oldcore.py:1119: FutureWarning: use_inf_as_na option is deprecated and will be removed in a future version. Convert inf values to NaN before operating instead.\n",
      "  with pd.option_context('mode.use_inf_as_na', True):\n"
     ]
    },
    {
     "data": {
      "image/png": "[encoded data removed]",
      "text/plain": [
       "<Figure size 800x500 with 1 Axes>"
      ]
     },
     "metadata": {},
     "output_type": "display_data"
    }
   ],
   "source": [
    "# Check `sample_weight` column type\n",
    "print(\"🔍 QC Column Data Type:\", X_train['sample_weight'].dtype)\n",
    "\n",
    "# Plot distribution of existing `qc` values (ignoring NaNs)\n",
    "plt.figure(figsize=(8, 5))\n",
    "sns.histplot(X_train['sample_weight'].dropna(), bins=20, kde=True)\n",
    "plt.title(\"Distribution of sample_weight Column (0.2 is missing value)\")\n",
    "plt.xlabel(\"Sample Weight Values\")\n",
    "plt.ylabel(\"Frequency\")\n",
    "plt.grid()\n",
    "plt.show()"
   ]
  },
  {
   "cell_type": "markdown",
   "metadata": {},
   "source": [
    "## Image Preprocessing"
   ]
  },
  {
   "cell_type": "code",
   "execution_count": 22,
   "metadata": {
    "execution": {
     "iopub.execute_input": "2025-02-18T02:53:09.924448Z",
     "iopub.status.busy": "2025-02-18T02:53:09.924232Z",
     "iopub.status.idle": "2025-02-18T02:53:09.934505Z",
     "shell.execute_reply": "2025-02-18T02:53:09.933660Z",
     "shell.execute_reply.started": "2025-02-18T02:53:09.924430Z"
    },
    "trusted": true
   },
   "outputs": [
    {
     "data": {
      "text/html": [
       "<div>\n",
       "<style scoped>\n",
       "    .dataframe tbody tr th:only-of-type {\n",
       "        vertical-align: middle;\n",
       "    }\n",
       "\n",
       "    .dataframe tbody tr th {\n",
       "        vertical-align: top;\n",
       "    }\n",
       "\n",
       "    .dataframe thead th {\n",
       "        text-align: right;\n",
       "    }\n",
       "</style>\n",
       "<table border=\"1\" class=\"dataframe\">\n",
       "  <thead>\n",
       "    <tr style=\"text-align: right;\">\n",
       "      <th></th>\n",
       "      <th>md5hash</th>\n",
       "      <th>fitzpatrick_scale</th>\n",
       "      <th>fitzpatrick_centaur</th>\n",
       "      <th>nine_partition_label</th>\n",
       "      <th>three_partition_label</th>\n",
       "      <th>ddi_scale</th>\n",
       "      <th>file_path</th>\n",
       "      <th>sample_weight</th>\n",
       "    </tr>\n",
       "  </thead>\n",
       "  <tbody>\n",
       "    <tr>\n",
       "      <th>0</th>\n",
       "      <td>fd06d13de341cc75ad679916c5d7e6a6.jpg</td>\n",
       "      <td>4</td>\n",
       "      <td>4</td>\n",
       "      <td>benign-epidermal</td>\n",
       "      <td>benign</td>\n",
       "      <td>34</td>\n",
       "      <td>prurigo-nodularis/fd06d13de341cc75ad679916c5d7...</td>\n",
       "      <td>0.5</td>\n",
       "    </tr>\n",
       "    <tr>\n",
       "      <th>1</th>\n",
       "      <td>a4bb4e5206c4e89a303f470576fc5253.jpg</td>\n",
       "      <td>1</td>\n",
       "      <td>1</td>\n",
       "      <td>malignant-epidermal</td>\n",
       "      <td>malignant</td>\n",
       "      <td>12</td>\n",
       "      <td>basal-cell-carcinoma-morpheiform/a4bb4e5206c4e...</td>\n",
       "      <td>0.5</td>\n",
       "    </tr>\n",
       "    <tr>\n",
       "      <th>2</th>\n",
       "      <td>c94ce27e389f96bda998e7c3fa5c4a2e.jpg</td>\n",
       "      <td>5</td>\n",
       "      <td>5</td>\n",
       "      <td>inflammatory</td>\n",
       "      <td>non-neoplastic</td>\n",
       "      <td>56</td>\n",
       "      <td>keloid/c94ce27e389f96bda998e7c3fa5c4a2e.jpg</td>\n",
       "      <td>1.0</td>\n",
       "    </tr>\n",
       "    <tr>\n",
       "      <th>3</th>\n",
       "      <td>ebcf2b50dd943c700d4e2b586fcd4425.jpg</td>\n",
       "      <td>3</td>\n",
       "      <td>3</td>\n",
       "      <td>malignant-epidermal</td>\n",
       "      <td>malignant</td>\n",
       "      <td>34</td>\n",
       "      <td>basal-cell-carcinoma/ebcf2b50dd943c700d4e2b586...</td>\n",
       "      <td>0.5</td>\n",
       "    </tr>\n",
       "    <tr>\n",
       "      <th>4</th>\n",
       "      <td>c77d6c895f05fea73a8f3704307036c0.jpg</td>\n",
       "      <td>1</td>\n",
       "      <td>1</td>\n",
       "      <td>benign-epidermal</td>\n",
       "      <td>benign</td>\n",
       "      <td>12</td>\n",
       "      <td>prurigo-nodularis/c77d6c895f05fea73a8f37043070...</td>\n",
       "      <td>0.5</td>\n",
       "    </tr>\n",
       "  </tbody>\n",
       "</table>\n",
       "</div>"
      ],
      "text/plain": [
       "                                md5hash  fitzpatrick_scale  \\\n",
       "0  fd06d13de341cc75ad679916c5d7e6a6.jpg                  4   \n",
       "1  a4bb4e5206c4e89a303f470576fc5253.jpg                  1   \n",
       "2  c94ce27e389f96bda998e7c3fa5c4a2e.jpg                  5   \n",
       "3  ebcf2b50dd943c700d4e2b586fcd4425.jpg                  3   \n",
       "4  c77d6c895f05fea73a8f3704307036c0.jpg                  1   \n",
       "\n",
       "   fitzpatrick_centaur nine_partition_label three_partition_label  ddi_scale  \\\n",
       "0                    4     benign-epidermal                benign         34   \n",
       "1                    1  malignant-epidermal             malignant         12   \n",
       "2                    5         inflammatory        non-neoplastic         56   \n",
       "3                    3  malignant-epidermal             malignant         34   \n",
       "4                    1     benign-epidermal                benign         12   \n",
       "\n",
       "                                           file_path  sample_weight  \n",
       "0  prurigo-nodularis/fd06d13de341cc75ad679916c5d7...            0.5  \n",
       "1  basal-cell-carcinoma-morpheiform/a4bb4e5206c4e...            0.5  \n",
       "2        keloid/c94ce27e389f96bda998e7c3fa5c4a2e.jpg            1.0  \n",
       "3  basal-cell-carcinoma/ebcf2b50dd943c700d4e2b586...            0.5  \n",
       "4  prurigo-nodularis/c77d6c895f05fea73a8f37043070...            0.5  "
      ]
     },
     "execution_count": 22,
     "metadata": {},
     "output_type": "execute_result"
    }
   ],
   "source": [
    "X_train.head()"
   ]
  },
  {
   "cell_type": "code",
   "execution_count": 23,
   "metadata": {
    "execution": {
     "iopub.execute_input": "2025-02-18T02:53:09.935553Z",
     "iopub.status.busy": "2025-02-18T02:53:09.935255Z",
     "iopub.status.idle": "2025-02-18T02:53:09.949017Z",
     "shell.execute_reply": "2025-02-18T02:53:09.948387Z",
     "shell.execute_reply.started": "2025-02-18T02:53:09.935525Z"
    },
    "trusted": true
   },
   "outputs": [
    {
     "data": {
      "text/plain": [
       "0                   prurigo-nodularis\n",
       "1    basal-cell-carcinoma-morpheiform\n",
       "2                              keloid\n",
       "3                basal-cell-carcinoma\n",
       "4                   prurigo-nodularis\n",
       "Name: label, dtype: object"
      ]
     },
     "execution_count": 23,
     "metadata": {},
     "output_type": "execute_result"
    }
   ],
   "source": [
    "y_train.head()"
   ]
  },
  {
   "cell_type": "markdown",
   "metadata": {},
   "source": [
    "# Creating a Custom Augmentation Generator\n",
    "## Label Encoding & DataFrame Preparation\n",
    "Convert `y_train` from string labels to integer labels, then store everything (file paths, numeric labels, sample weights) in a single `df_train`."
   ]
  },
  {
   "cell_type": "code",
   "execution_count": null,
   "metadata": {
    "execution": {
     "iopub.execute_input": "2025-02-18T02:53:09.950364Z",
     "iopub.status.busy": "2025-02-18T02:53:09.950053Z",
     "iopub.status.idle": "2025-02-18T02:53:09.968703Z",
     "shell.execute_reply": "2025-02-18T02:53:09.967963Z",
     "shell.execute_reply.started": "2025-02-18T02:53:09.950334Z"
    },
    "trusted": true
   },
   "outputs": [
    {
     "name": "stdout",
     "output_type": "stream",
     "text": [
      "md5hash                   object\n",
      "fitzpatrick_scale          int64\n",
      "fitzpatrick_centaur        int64\n",
      "nine_partition_label      object\n",
      "three_partition_label     object\n",
      "file_path                 object\n",
      "sample_weight            float32\n",
      "label                      int32\n",
      "dtype: object\n",
      "Number of classes: 21\n",
      "Classes: ['acne' 'acne-vulgaris' 'actinic-keratosis' 'basal-cell-carcinoma'\n",
      " 'basal-cell-carcinoma-morpheiform' 'dermatofibroma' 'dermatomyositis'\n",
      " 'dyshidrotic-eczema' 'eczema' 'epidermal-nevus' 'folliculitis'\n",
      " 'kaposi-sarcoma' 'keloid' 'malignant-melanoma' 'melanoma'\n",
      " 'mycosis-fungoides' 'prurigo-nodularis' 'pyogenic-granuloma'\n",
      " 'seborrheic-keratosis' 'squamous-cell-carcinoma'\n",
      " 'superficial-spreading-melanoma-ssm']\n",
      "                                md5hash  fitzpatrick_scale  \\\n",
      "0  fd06d13de341cc75ad679916c5d7e6a6.jpg                  4   \n",
      "1  a4bb4e5206c4e89a303f470576fc5253.jpg                  1   \n",
      "2  c94ce27e389f96bda998e7c3fa5c4a2e.jpg                  5   \n",
      "3  ebcf2b50dd943c700d4e2b586fcd4425.jpg                  3   \n",
      "4  c77d6c895f05fea73a8f3704307036c0.jpg                  1   \n",
      "\n",
      "   fitzpatrick_centaur nine_partition_label three_partition_label  \\\n",
      "0                    4     benign-epidermal                benign   \n",
      "1                    1  malignant-epidermal             malignant   \n",
      "2                    5         inflammatory        non-neoplastic   \n",
      "3                    3  malignant-epidermal             malignant   \n",
      "4                    1     benign-epidermal                benign   \n",
      "\n",
      "                                           file_path  sample_weight  label  \n",
      "0  prurigo-nodularis/fd06d13de341cc75ad679916c5d7...            0.5     16  \n",
      "1  basal-cell-carcinoma-morpheiform/a4bb4e5206c4e...            0.5      4  \n",
      "2        keloid/c94ce27e389f96bda998e7c3fa5c4a2e.jpg            1.0     12  \n",
      "3  basal-cell-carcinoma/ebcf2b50dd943c700d4e2b586...            0.5      3  \n",
      "4  prurigo-nodularis/c77d6c895f05fea73a8f37043070...            0.5     16  \n"
     ]
    }
   ],
   "source": [
    "# Convert y_train (string labels) to integer\n",
    "label_encoder = LabelEncoder()\n",
    "y_train_encoded = label_encoder.fit_transform(y_train)  # array of ints\n",
    "\n",
    "# Merge X_train + y_train into df_train\n",
    "df_train = X_train.copy()\n",
    "df_train['label'] = y_train_encoded.astype('int32')\n",
    "\n",
    "# train_df['md5hash'] = train_df['md5hash'].astype(str) + '.jpg' # File paths \n",
    "# test_df['md5hash'] = test_df['md5hash'].astype(str) + '.jpg'\n",
    "\n",
    "# Combine label and md5hash to form the correct path\n",
    "train_df['file_path'] = train_df['label'] + '/' + train_df['md5hash']\n",
    "\n",
    "# Ensure sample_weight is float\n",
    "df_train['sample_weight'] = df_train['sample_weight'].astype('float32')\n",
    "\n",
    "# (Optional) remove columns you don't need, e.g. 'ddi_scale' or anything else:\n",
    "if 'ddi_scale' in df_train.columns:\n",
    "    df_train.drop('ddi_scale', axis=1, inplace=True)\n",
    "\n",
    "# Confirm dtypes\n",
    "print(df_train.dtypes)\n",
    "\n",
    "# Confirm unique labels\n",
    "print(\"Number of classes:\", len(label_encoder.classes_))\n",
    "print(\"Classes:\", label_encoder.classes_)\n",
    "\n",
    "print(df_train.head())"
   ]
  },
  {
   "cell_type": "markdown",
   "metadata": {},
   "source": [
    "## Validation/Train Split"
   ]
  },
  {
   "cell_type": "code",
   "execution_count": 25,
   "metadata": {
    "execution": {
     "iopub.execute_input": "2025-02-18T02:53:09.969902Z",
     "iopub.status.busy": "2025-02-18T02:53:09.969593Z",
     "iopub.status.idle": "2025-02-18T02:53:09.985754Z",
     "shell.execute_reply": "2025-02-18T02:53:09.984837Z",
     "shell.execute_reply.started": "2025-02-18T02:53:09.969872Z"
    },
    "trusted": true
   },
   "outputs": [
    {
     "name": "stdout",
     "output_type": "stream",
     "text": [
      "Train size: 2288\n",
      "Validation size: 572\n"
     ]
    }
   ],
   "source": [
    "# 80% train, 20% validation (stratify to preserve class distribution)\n",
    "train_df_final, val_df = train_test_split(\n",
    "    df_train,\n",
    "    test_size=0.2,\n",
    "    stratify=df_train['label'],\n",
    "    random_state=42\n",
    ")\n",
    "\n",
    "print(\"Train size:\", len(train_df_final))\n",
    "print(\"Validation size:\", len(val_df))"
   ]
  },
  {
   "cell_type": "code",
   "execution_count": 26,
   "metadata": {
    "execution": {
     "iopub.execute_input": "2025-02-18T02:53:09.987053Z",
     "iopub.status.busy": "2025-02-18T02:53:09.986716Z",
     "iopub.status.idle": "2025-02-18T02:53:09.994175Z",
     "shell.execute_reply": "2025-02-18T02:53:09.993232Z",
     "shell.execute_reply.started": "2025-02-18T02:53:09.987031Z"
    },
    "trusted": true
   },
   "outputs": [
    {
     "name": "stdout",
     "output_type": "stream",
     "text": [
      "md5hash                   object\n",
      "fitzpatrick_scale          int64\n",
      "fitzpatrick_centaur        int64\n",
      "nine_partition_label      object\n",
      "three_partition_label     object\n",
      "file_path                 object\n",
      "sample_weight            float32\n",
      "label                      int32\n",
      "dtype: object\n",
      "0       16\n",
      "1        4\n",
      "2       12\n",
      "3        3\n",
      "4       16\n",
      "        ..\n",
      "2855    10\n",
      "2856    20\n",
      "2857     0\n",
      "2858     8\n",
      "2859    12\n",
      "Name: label, Length: 2860, dtype: int32\n",
      "0       0.5\n",
      "1       0.5\n",
      "2       1.0\n",
      "3       0.5\n",
      "4       0.5\n",
      "       ... \n",
      "2855    0.5\n",
      "2856    0.5\n",
      "2857    0.5\n",
      "2858    0.5\n",
      "2859    0.5\n",
      "Name: sample_weight, Length: 2860, dtype: float32\n"
     ]
    }
   ],
   "source": [
    "print(df_train.dtypes)\n",
    "print(df_train['label'])\n",
    "print(df_train['sample_weight'])"
   ]
  },
  {
   "cell_type": "markdown",
   "metadata": {},
   "source": [
    "## Define Two ImageDataGenerators\n",
    "baseline_aug_datagen: Light augmentations for well-represented classes. <br>\n",
    "minority_aug_datagen: Heavier augmentations for underrepresented classes."
   ]
  },
  {
   "cell_type": "code",
   "execution_count": 27,
   "metadata": {
    "execution": {
     "iopub.execute_input": "2025-02-18T02:53:09.995370Z",
     "iopub.status.busy": "2025-02-18T02:53:09.995074Z",
     "iopub.status.idle": "2025-02-18T02:53:10.004937Z",
     "shell.execute_reply": "2025-02-18T02:53:10.004167Z",
     "shell.execute_reply.started": "2025-02-18T02:53:09.995346Z"
    },
    "trusted": true
   },
   "outputs": [],
   "source": [
    "# Baseline augmentation for well-represented classes\n",
    "baseline_aug_datagen = ImageDataGenerator(\n",
    "    rescale=1./255,\n",
    "    rotation_range=10,\n",
    "    width_shift_range=0.05,\n",
    "    height_shift_range=0.05,\n",
    "    # Add more if you want, e.g. brightness_range=[0.8, 1.2]\n",
    ")\n",
    "\n",
    "# Heavier augmentation for underrepresented classes\n",
    "minority_aug_datagen = ImageDataGenerator(\n",
    "    rescale=1./255,\n",
    "    rotation_range=20,\n",
    "    width_shift_range=0.15,\n",
    "    height_shift_range=0.15,\n",
    "    shear_range=0.2,\n",
    "    zoom_range=0.2,\n",
    "    horizontal_flip=True,\n",
    "    fill_mode='nearest'\n",
    ")\n",
    "\n",
    "# Convert underrepresented class names to numeric\n",
    "underrepresented_classes_encoded = label_encoder.transform(underrepresented_classes)\n",
    "underrepresented_classes_encoded = set(underrepresented_classes_encoded)"
   ]
  },
  {
   "cell_type": "markdown",
   "metadata": {},
   "source": [
    "## The Custom Generator \n",
    "This generator:\n",
    "\n",
    "Reads file_path from `df_train` and loads the image (using cv2 in RGB format).\n",
    "Checks if label is in the underrepresented set. If so, applies minority_aug_datagen; otherwise uses baseline_aug_datagen.\n",
    "Yields (X_batch, y_batch, w_batch) where w_batch is the array of sample weights."
   ]
  },
  {
   "cell_type": "code",
   "execution_count": null,
   "metadata": {
    "execution": {
     "iopub.execute_input": "2025-02-18T02:53:10.006324Z",
     "iopub.status.busy": "2025-02-18T02:53:10.005955Z",
     "iopub.status.idle": "2025-02-18T02:53:10.069649Z",
     "shell.execute_reply": "2025-02-18T02:53:10.068960Z",
     "shell.execute_reply.started": "2025-02-18T02:53:10.006285Z"
    },
    "trusted": true
   },
   "outputs": [],
   "source": [
    "import cv2\n",
    "\n",
    "def custom_augment_generator(\n",
    "    df,\n",
    "    underrepresented_classes_encoded,\n",
    "    baseline_aug_datagen,\n",
    "    minority_aug_datagen,\n",
    "    base_dir,\n",
    "    batch_size=16,\n",
    "    target_size=(224, 224),\n",
    "    shuffle=True\n",
    "):\n",
    "    while True:\n",
    "        if shuffle:\n",
    "            df = df.sample(frac=1).reset_index(drop=True)\n",
    "        \n",
    "        for start in range(0, len(df), batch_size):\n",
    "            batch_df = df.iloc[start:start+batch_size]\n",
    "            images, labels, weights = [], [], []\n",
    "            \n",
    "            for _, row in batch_df.iterrows():\n",
    "                full_path = os.path.join(base_dir, row['file_path'])\n",
    "                img_bgr = cv2.imread(full_path)\n",
    "                if img_bgr is None:\n",
    "                    continue  # skip missing/corrupted\n",
    "                \n",
    "                img_rgb = cv2.cvtColor(img_bgr, cv2.COLOR_BGR2RGB)\n",
    "                img_rgb = cv2.resize(img_rgb, target_size).astype(np.float32)\n",
    "                \n",
    "                # Decide augmentation\n",
    "                if row['label'] in underrepresented_classes_encoded:\n",
    "                    img_aug = minority_aug_datagen.random_transform(img_rgb)\n",
    "                    img_aug = minority_aug_datagen.standardize(img_aug)\n",
    "                else:\n",
    "                    img_aug = baseline_aug_datagen.random_transform(img_rgb)\n",
    "                    img_aug = baseline_aug_datagen.standardize(img_aug)\n",
    "                \n",
    "                images.append(img_aug)\n",
    "                labels.append(row['label'])\n",
    "                weights.append(row['sample_weight'])\n",
    "            \n",
    "            X_batch = np.array(images, dtype=np.float32)\n",
    "            y_batch = np.array(labels, dtype=np.int32)\n",
    "            w_batch = np.array(weights, dtype=np.float32)\n",
    "            \n",
    "            # Yield (X, y, sample_weight)\n",
    "            yield (X_batch, y_batch, w_batch)\n"
   ]
  },
  {
   "cell_type": "markdown",
   "metadata": {},
   "source": [
    "img_bgr is None check: handles the case where a file might be missing or unreadable.\n",
    "We do two calls:\n",
    "random_transform(img_rgb) for random augmentations,\n",
    "standardize(img_aug) to apply the rescale=1./255 (and any mean normalization if specified in the ImageDataGenerator).\n",
    "We yield a triple (X_batch, y_batch, w_batch). Keras can handle sample weights if you do model.fit(generator=..., ...)."
   ]
  },
  {
   "cell_type": "markdown",
   "metadata": {},
   "source": [
    "## Simple Validation Generator (no heavy augmentation)"
   ]
  },
  {
   "cell_type": "code",
   "execution_count": null,
   "metadata": {
    "execution": {
     "iopub.execute_input": "2025-02-18T02:53:10.070696Z",
     "iopub.status.busy": "2025-02-18T02:53:10.070395Z",
     "iopub.status.idle": "2025-02-18T02:53:10.076904Z",
     "shell.execute_reply": "2025-02-18T02:53:10.076084Z",
     "shell.execute_reply.started": "2025-02-18T02:53:10.070667Z"
    },
    "trusted": true
   },
   "outputs": [],
   "source": [
    "def simple_val_generator(\n",
    "    df,\n",
    "    base_dir,\n",
    "    batch_size=16,\n",
    "    target_size=(224,224),\n",
    "    shuffle=False\n",
    "):\n",
    "    val_datagen = ImageDataGenerator(rescale=1./255)\n",
    "    \n",
    "    while True:\n",
    "        if shuffle:\n",
    "            df = df.sample(frac=1).reset_index(drop=True)\n",
    "        \n",
    "        for start in range(0, len(df), batch_size):\n",
    "            batch_df = df.iloc[start:start+batch_size]\n",
    "            images, labels = [], []\n",
    "            \n",
    "            for _, row in batch_df.iterrows():\n",
    "                full_path = os.path.join(base_dir, row['file_path'])\n",
    "                img_bgr = cv2.imread(full_path)\n",
    "                if img_bgr is None:\n",
    "                    continue\n",
    "                \n",
    "                img_rgb = cv2.cvtColor(img_bgr, cv2.COLOR_BGR2RGB)\n",
    "                img_rgb = cv2.resize(img_rgb, target_size).astype(np.float32)\n",
    "                \n",
    "                # Only standardize, no random transform\n",
    "                img_rgb = val_datagen.standardize(img_rgb)\n",
    "                \n",
    "                images.append(img_rgb)\n",
    "                labels.append(row['label'])\n",
    "            \n",
    "            X_batch = np.array(images, dtype=np.float32)\n",
    "            y_batch = np.array(labels, dtype=np.int32)\n",
    "            \n",
    "            yield (X_batch, y_batch)"
   ]
  },
  {
   "cell_type": "markdown",
   "metadata": {},
   "source": [
    "# Hyperparameter sweep"
   ]
  },
  {
   "cell_type": "code",
   "execution_count": 30,
   "metadata": {
    "execution": {
     "iopub.execute_input": "2025-02-18T02:53:10.077964Z",
     "iopub.status.busy": "2025-02-18T02:53:10.077751Z",
     "iopub.status.idle": "2025-02-18T02:53:10.091645Z",
     "shell.execute_reply": "2025-02-18T02:53:10.090875Z",
     "shell.execute_reply.started": "2025-02-18T02:53:10.077945Z"
    },
    "trusted": true
   },
   "outputs": [],
   "source": [
    "# def build_model(hp):\n",
    "#     \"\"\"\n",
    "#     Builds and compiles a Keras model using hyperparameters from 'hp'.\n",
    "#     Returns a compiled Keras model.\n",
    "#     \"\"\"\n",
    "#     from classification_models.keras import Classifiers\n",
    "#     ResNet18, preprocess_input = Classifiers.get('resnet18')\n",
    "#     from tensorflow.keras.layers import GlobalAveragePooling2D, Dense, Dropout\n",
    "#     from tensorflow.keras.models import Model\n",
    "    \n",
    "#     # 1) Base ResNet model\n",
    "#     base_model = ResNet18(\n",
    "#         weights='imagenet',\n",
    "#         include_top=False,\n",
    "#         input_shape=(224,224,3)\n",
    "#     )\n",
    "    \n",
    "#     # 2) Decide how many layers to unfreeze based on a hyperparameter\n",
    "#     #    E.g. 'train_last_n_layers' can be 10 or 20\n",
    "#     train_last_n_layers = hp.Choice('train_last_n_layers', [10, 20])\n",
    "#     for layer in base_model.layers[:-train_last_n_layers]:\n",
    "#         layer.trainable = False\n",
    "#     for layer in base_model.layers[-train_last_n_layers:]:\n",
    "#         layer.trainable = True\n",
    "    \n",
    "#     # 3) Add a classification head\n",
    "#     x = base_model.output\n",
    "#     x = GlobalAveragePooling2D()(x)\n",
    "    \n",
    "#     # Optional dropout\n",
    "#     dropout_rate = hp.Choice('dropout_rate', [0.3, 0.5])\n",
    "#     x = Dropout(dropout_rate)(x)\n",
    "    \n",
    "#     # Dense layer to match your number of classes\n",
    "#     num_classes = len(label_encoder.classes_)\n",
    "#     outputs = Dense(num_classes, activation='softmax')(x)\n",
    "    \n",
    "#     model = Model(inputs=base_model.input, outputs=outputs)\n",
    "    \n",
    "#     # 4) Compile with a hyperparameter learning rate\n",
    "#     learning_rate = hp.Choice('learning_rate', [1e-4, 1e-5])\n",
    "#     optimizer_choice = hp.Choice('optimizer', ['adam', 'sgd'])\n",
    "    \n",
    "#     if optimizer_choice == 'adam':\n",
    "#         optimizer = Adam(learning_rate=learning_rate)\n",
    "#     else:\n",
    "#         optimizer = SGD(learning_rate=learning_rate, momentum=0.9)\n",
    "    \n",
    "#     model.compile(\n",
    "#         optimizer=optimizer,\n",
    "#         loss='sparse_categorical_crossentropy',\n",
    "#         metrics=['accuracy']\n",
    "#     )\n",
    "    \n",
    "#     return model\n"
   ]
  },
  {
   "cell_type": "code",
   "execution_count": null,
   "metadata": {
    "execution": {
     "iopub.execute_input": "2025-02-18T02:53:10.092681Z",
     "iopub.status.busy": "2025-02-18T02:53:10.092409Z",
     "iopub.status.idle": "2025-02-18T05:13:18.973618Z",
     "shell.execute_reply": "2025-02-18T05:13:18.972619Z",
     "shell.execute_reply.started": "2025-02-18T02:53:10.092650Z"
    },
    "trusted": true
   },
   "outputs": [
    {
     "name": "stdout",
     "output_type": "stream",
     "text": [
      "Epoch 1/250\n",
      "\u001b[1m72/72\u001b[0m \u001b[32m━━━━━━━━━━━━━━━━━━━━\u001b[0m\u001b[37m\u001b[0m \u001b[1m74s\u001b[0m 719ms/step - accuracy: 0.0406 - loss: 2.1731 - val_accuracy: 0.0490 - val_loss: 3.2565\n",
      "Epoch 2/250\n",
      "\u001b[1m72/72\u001b[0m \u001b[32m━━━━━━━━━━━━━━━━━━━━\u001b[0m\u001b[37m\u001b[0m \u001b[1m35s\u001b[0m 492ms/step - accuracy: 0.0389 - loss: 2.1104 - val_accuracy: 0.0490 - val_loss: 3.2112\n",
      "Epoch 3/250\n",
      "\u001b[1m72/72\u001b[0m \u001b[32m━━━━━━━━━━━━━━━━━━━━\u001b[0m\u001b[37m\u001b[0m \u001b[1m34s\u001b[0m 476ms/step - accuracy: 0.0372 - loss: 2.0846 - val_accuracy: 0.0490 - val_loss: 3.1845\n",
      "Epoch 4/250\n",
      "\u001b[1m72/72\u001b[0m \u001b[32m━━━━━━━━━━━━━━━━━━━━\u001b[0m\u001b[37m\u001b[0m \u001b[1m33s\u001b[0m 458ms/step - accuracy: 0.0301 - loss: 2.0376 - val_accuracy: 0.0490 - val_loss: 3.1942\n",
      "Epoch 5/250\n",
      "\u001b[1m72/72\u001b[0m \u001b[32m━━━━━━━━━━━━━━━━━━━━\u001b[0m\u001b[37m\u001b[0m \u001b[1m32s\u001b[0m 456ms/step - accuracy: 0.0399 - loss: 2.0388 - val_accuracy: 0.0490 - val_loss: 3.2304\n",
      "Epoch 6/250\n",
      "\u001b[1m72/72\u001b[0m \u001b[32m━━━━━━━━━━━━━━━━━━━━\u001b[0m\u001b[37m\u001b[0m \u001b[1m33s\u001b[0m 467ms/step - accuracy: 0.0470 - loss: 1.9815 - val_accuracy: 0.0524 - val_loss: 3.3080\n",
      "Epoch 7/250\n",
      "\u001b[1m72/72\u001b[0m \u001b[32m━━━━━━━━━━━━━━━━━━━━\u001b[0m\u001b[37m\u001b[0m \u001b[1m33s\u001b[0m 467ms/step - accuracy: 0.0475 - loss: 1.9182 - val_accuracy: 0.0647 - val_loss: 3.3749\n",
      "Epoch 8/250\n",
      "\u001b[1m72/72\u001b[0m \u001b[32m━━━━━━━━━━━━━━━━━━━━\u001b[0m\u001b[37m\u001b[0m \u001b[1m33s\u001b[0m 470ms/step - accuracy: 0.0459 - loss: 1.9089 - val_accuracy: 0.0647 - val_loss: 3.4769\n",
      "Epoch 9/250\n",
      "\u001b[1m72/72\u001b[0m \u001b[32m━━━━━━━━━━━━━━━━━━━━\u001b[0m\u001b[37m\u001b[0m \u001b[1m33s\u001b[0m 466ms/step - accuracy: 0.0533 - loss: 1.8714 - val_accuracy: 0.0455 - val_loss: 3.5939\n",
      "Epoch 10/250\n",
      "\u001b[1m72/72\u001b[0m \u001b[32m━━━━━━━━━━━━━━━━━━━━\u001b[0m\u001b[37m\u001b[0m \u001b[1m33s\u001b[0m 464ms/step - accuracy: 0.0596 - loss: 1.8371 - val_accuracy: 0.0437 - val_loss: 3.6387\n",
      "Epoch 11/250\n",
      "\u001b[1m72/72\u001b[0m \u001b[32m━━━━━━━━━━━━━━━━━━━━\u001b[0m\u001b[37m\u001b[0m \u001b[1m33s\u001b[0m 464ms/step - accuracy: 0.0546 - loss: 1.8019 - val_accuracy: 0.0472 - val_loss: 3.6102\n",
      "Epoch 12/250\n",
      "\u001b[1m72/72\u001b[0m \u001b[32m━━━━━━━━━━━━━━━━━━━━\u001b[0m\u001b[37m\u001b[0m \u001b[1m33s\u001b[0m 462ms/step - accuracy: 0.0611 - loss: 1.7641 - val_accuracy: 0.0612 - val_loss: 3.5536\n",
      "Epoch 13/250\n",
      "\u001b[1m72/72\u001b[0m \u001b[32m━━━━━━━━━━━━━━━━━━━━\u001b[0m\u001b[37m\u001b[0m \u001b[1m33s\u001b[0m 464ms/step - accuracy: 0.0557 - loss: 1.7446 - val_accuracy: 0.0699 - val_loss: 3.4695\n",
      "Epoch 14/250\n",
      "\u001b[1m72/72\u001b[0m \u001b[32m━━━━━━━━━━━━━━━━━━━━\u001b[0m\u001b[37m\u001b[0m \u001b[1m33s\u001b[0m 461ms/step - accuracy: 0.0785 - loss: 1.6816 - val_accuracy: 0.0822 - val_loss: 3.3903\n",
      "Epoch 15/250\n",
      "\u001b[1m72/72\u001b[0m \u001b[32m━━━━━━━━━━━━━━━━━━━━\u001b[0m\u001b[37m\u001b[0m \u001b[1m33s\u001b[0m 462ms/step - accuracy: 0.0811 - loss: 1.6704 - val_accuracy: 0.0997 - val_loss: 3.3000\n",
      "Epoch 16/250\n",
      "\u001b[1m72/72\u001b[0m \u001b[32m━━━━━━━━━━━━━━━━━━━━\u001b[0m\u001b[37m\u001b[0m \u001b[1m33s\u001b[0m 466ms/step - accuracy: 0.0940 - loss: 1.6322 - val_accuracy: 0.1049 - val_loss: 3.2180\n",
      "Epoch 17/250\n",
      "\u001b[1m72/72\u001b[0m \u001b[32m━━━━━━━━━━━━━━━━━━━━\u001b[0m\u001b[37m\u001b[0m \u001b[1m33s\u001b[0m 460ms/step - accuracy: 0.0912 - loss: 1.6310 - val_accuracy: 0.1136 - val_loss: 3.1641\n",
      "Epoch 18/250\n",
      "\u001b[1m72/72\u001b[0m \u001b[32m━━━━━━━━━━━━━━━━━━━━\u001b[0m\u001b[37m\u001b[0m \u001b[1m33s\u001b[0m 467ms/step - accuracy: 0.1148 - loss: 1.5966 - val_accuracy: 0.1171 - val_loss: 3.1189\n",
      "Epoch 19/250\n",
      "\u001b[1m72/72\u001b[0m \u001b[32m━━━━━━━━━━━━━━━━━━━━\u001b[0m\u001b[37m\u001b[0m \u001b[1m33s\u001b[0m 469ms/step - accuracy: 0.1335 - loss: 1.5309 - val_accuracy: 0.1346 - val_loss: 3.0767\n",
      "Epoch 20/250\n",
      "\u001b[1m72/72\u001b[0m \u001b[32m━━━━━━━━━━━━━━━━━━━━\u001b[0m\u001b[37m\u001b[0m \u001b[1m33s\u001b[0m 466ms/step - accuracy: 0.1339 - loss: 1.5164 - val_accuracy: 0.1434 - val_loss: 3.0345\n",
      "Epoch 21/250\n",
      "\u001b[1m72/72\u001b[0m \u001b[32m━━━━━━━━━━━━━━━━━━━━\u001b[0m\u001b[37m\u001b[0m \u001b[1m33s\u001b[0m 465ms/step - accuracy: 0.1449 - loss: 1.5031 - val_accuracy: 0.1503 - val_loss: 2.9932\n",
      "Epoch 22/250\n",
      "\u001b[1m72/72\u001b[0m \u001b[32m━━━━━━━━━━━━━━━━━━━━\u001b[0m\u001b[37m\u001b[0m \u001b[1m33s\u001b[0m 469ms/step - accuracy: 0.1591 - loss: 1.4633 - val_accuracy: 0.1626 - val_loss: 2.9515\n",
      "Epoch 23/250\n",
      "\u001b[1m72/72\u001b[0m \u001b[32m━━━━━━━━━━━━━━━━━━━━\u001b[0m\u001b[37m\u001b[0m \u001b[1m34s\u001b[0m 470ms/step - accuracy: 0.1679 - loss: 1.4521 - val_accuracy: 0.1678 - val_loss: 2.9195\n",
      "Epoch 24/250\n",
      "\u001b[1m72/72\u001b[0m \u001b[32m━━━━━━━━━━━━━━━━━━━━\u001b[0m\u001b[37m\u001b[0m \u001b[1m33s\u001b[0m 467ms/step - accuracy: 0.1920 - loss: 1.4102 - val_accuracy: 0.1801 - val_loss: 2.8843\n",
      "Epoch 25/250\n",
      "\u001b[1m72/72\u001b[0m \u001b[32m━━━━━━━━━━━━━━━━━━━━\u001b[0m\u001b[37m\u001b[0m \u001b[1m34s\u001b[0m 475ms/step - accuracy: 0.1999 - loss: 1.4055 - val_accuracy: 0.1871 - val_loss: 2.8477\n",
      "Epoch 26/250\n",
      "\u001b[1m72/72\u001b[0m \u001b[32m━━━━━━━━━━━━━━━━━━━━\u001b[0m\u001b[37m\u001b[0m \u001b[1m33s\u001b[0m 467ms/step - accuracy: 0.2035 - loss: 1.3690 - val_accuracy: 0.1976 - val_loss: 2.8149\n",
      "Epoch 27/250\n",
      "\u001b[1m72/72\u001b[0m \u001b[32m━━━━━━━━━━━━━━━━━━━━\u001b[0m\u001b[37m\u001b[0m \u001b[1m33s\u001b[0m 460ms/step - accuracy: 0.2129 - loss: 1.3775 - val_accuracy: 0.2115 - val_loss: 2.7818\n",
      "Epoch 28/250\n",
      "\u001b[1m72/72\u001b[0m \u001b[32m━━━━━━━━━━━━━━━━━━━━\u001b[0m\u001b[37m\u001b[0m \u001b[1m33s\u001b[0m 456ms/step - accuracy: 0.2450 - loss: 1.3133 - val_accuracy: 0.2185 - val_loss: 2.7544\n",
      "Epoch 29/250\n",
      "\u001b[1m72/72\u001b[0m \u001b[32m━━━━━━━━━━━━━━━━━━━━\u001b[0m\u001b[37m\u001b[0m \u001b[1m33s\u001b[0m 460ms/step - accuracy: 0.2465 - loss: 1.3288 - val_accuracy: 0.2220 - val_loss: 2.7243\n",
      "Epoch 30/250\n",
      "\u001b[1m72/72\u001b[0m \u001b[32m━━━━━━━━━━━━━━━━━━━━\u001b[0m\u001b[37m\u001b[0m \u001b[1m33s\u001b[0m 467ms/step - accuracy: 0.2594 - loss: 1.2797 - val_accuracy: 0.2290 - val_loss: 2.6958\n",
      "Epoch 31/250\n",
      "\u001b[1m72/72\u001b[0m \u001b[32m━━━━━━━━━━━━━━━━━━━━\u001b[0m\u001b[37m\u001b[0m \u001b[1m33s\u001b[0m 461ms/step - accuracy: 0.2713 - loss: 1.2610 - val_accuracy: 0.2343 - val_loss: 2.6682\n",
      "Epoch 32/250\n",
      "\u001b[1m72/72\u001b[0m \u001b[32m━━━━━━━━━━━━━━━━━━━━\u001b[0m\u001b[37m\u001b[0m \u001b[1m33s\u001b[0m 461ms/step - accuracy: 0.2580 - loss: 1.2711 - val_accuracy: 0.2395 - val_loss: 2.6392\n",
      "Epoch 33/250\n",
      "\u001b[1m72/72\u001b[0m \u001b[32m━━━━━━━━━━━━━━━━━━━━\u001b[0m\u001b[37m\u001b[0m \u001b[1m37s\u001b[0m 514ms/step - accuracy: 0.2782 - loss: 1.2649 - val_accuracy: 0.2483 - val_loss: 2.6139\n",
      "Epoch 34/250\n",
      "\u001b[1m72/72\u001b[0m \u001b[32m━━━━━━━━━━━━━━━━━━━━\u001b[0m\u001b[37m\u001b[0m \u001b[1m39s\u001b[0m 540ms/step - accuracy: 0.3014 - loss: 1.2249 - val_accuracy: 0.2622 - val_loss: 2.5905\n",
      "Epoch 35/250\n",
      "\u001b[1m72/72\u001b[0m \u001b[32m━━━━━━━━━━━━━━━━━━━━\u001b[0m\u001b[37m\u001b[0m \u001b[1m33s\u001b[0m 463ms/step - accuracy: 0.2953 - loss: 1.2088 - val_accuracy: 0.2727 - val_loss: 2.5658\n",
      "Epoch 36/250\n",
      "\u001b[1m72/72\u001b[0m \u001b[32m━━━━━━━━━━━━━━━━━━━━\u001b[0m\u001b[37m\u001b[0m \u001b[1m33s\u001b[0m 466ms/step - accuracy: 0.3339 - loss: 1.1992 - val_accuracy: 0.2762 - val_loss: 2.5445\n",
      "Epoch 37/250\n",
      "\u001b[1m72/72\u001b[0m \u001b[32m━━━━━━━━━━━━━━━━━━━━\u001b[0m\u001b[37m\u001b[0m \u001b[1m33s\u001b[0m 467ms/step - accuracy: 0.3333 - loss: 1.1660 - val_accuracy: 0.2832 - val_loss: 2.5251\n",
      "Epoch 38/250\n",
      "\u001b[1m72/72\u001b[0m \u001b[32m━━━━━━━━━━━━━━━━━━━━\u001b[0m\u001b[37m\u001b[0m \u001b[1m33s\u001b[0m 464ms/step - accuracy: 0.3502 - loss: 1.1395 - val_accuracy: 0.2885 - val_loss: 2.5038\n",
      "Epoch 39/250\n",
      "\u001b[1m72/72\u001b[0m \u001b[32m━━━━━━━━━━━━━━━━━━━━\u001b[0m\u001b[37m\u001b[0m \u001b[1m43s\u001b[0m 600ms/step - accuracy: 0.3407 - loss: 1.1597 - val_accuracy: 0.2955 - val_loss: 2.4846\n",
      "Epoch 40/250\n",
      "\u001b[1m72/72\u001b[0m \u001b[32m━━━━━━━━━━━━━━━━━━━━\u001b[0m\u001b[37m\u001b[0m \u001b[1m37s\u001b[0m 521ms/step - accuracy: 0.3682 - loss: 1.1297 - val_accuracy: 0.3042 - val_loss: 2.4658\n",
      "Epoch 41/250\n",
      "\u001b[1m72/72\u001b[0m \u001b[32m━━━━━━━━━━━━━━━━━━━━\u001b[0m\u001b[37m\u001b[0m \u001b[1m34s\u001b[0m 472ms/step - accuracy: 0.3751 - loss: 1.1059 - val_accuracy: 0.3094 - val_loss: 2.4457\n",
      "Epoch 42/250\n",
      "\u001b[1m72/72\u001b[0m \u001b[32m━━━━━━━━━━━━━━━━━━━━\u001b[0m\u001b[37m\u001b[0m \u001b[1m37s\u001b[0m 522ms/step - accuracy: 0.3702 - loss: 1.1053 - val_accuracy: 0.3199 - val_loss: 2.4263\n",
      "Epoch 43/250\n",
      "\u001b[1m72/72\u001b[0m \u001b[32m━━━━━━━━━━━━━━━━━━━━\u001b[0m\u001b[37m\u001b[0m \u001b[1m33s\u001b[0m 464ms/step - accuracy: 0.3725 - loss: 1.1053 - val_accuracy: 0.3182 - val_loss: 2.4106\n",
      "Epoch 44/250\n",
      "\u001b[1m72/72\u001b[0m \u001b[32m━━━━━━━━━━━━━━━━━━━━\u001b[0m\u001b[37m\u001b[0m \u001b[1m33s\u001b[0m 461ms/step - accuracy: 0.3985 - loss: 1.0811 - val_accuracy: 0.3252 - val_loss: 2.3958\n",
      "Epoch 45/250\n",
      "\u001b[1m72/72\u001b[0m \u001b[32m━━━━━━━━━━━━━━━━━━━━\u001b[0m\u001b[37m\u001b[0m \u001b[1m33s\u001b[0m 460ms/step - accuracy: 0.3814 - loss: 1.0882 - val_accuracy: 0.3357 - val_loss: 2.3787\n",
      "Epoch 46/250\n",
      "\u001b[1m72/72\u001b[0m \u001b[32m━━━━━━━━━━━━━━━━━━━━\u001b[0m\u001b[37m\u001b[0m \u001b[1m33s\u001b[0m 464ms/step - accuracy: 0.3928 - loss: 1.0520 - val_accuracy: 0.3357 - val_loss: 2.3624\n",
      "Epoch 47/250\n",
      "\u001b[1m72/72\u001b[0m \u001b[32m━━━━━━━━━━━━━━━━━━━━\u001b[0m\u001b[37m\u001b[0m \u001b[1m34s\u001b[0m 475ms/step - accuracy: 0.4194 - loss: 1.0424 - val_accuracy: 0.3409 - val_loss: 2.3484\n",
      "Epoch 48/250\n",
      "\u001b[1m72/72\u001b[0m \u001b[32m━━━━━━━━━━━━━━━━━━━━\u001b[0m\u001b[37m\u001b[0m \u001b[1m33s\u001b[0m 469ms/step - accuracy: 0.4132 - loss: 1.0353 - val_accuracy: 0.3462 - val_loss: 2.3348\n",
      "Epoch 49/250\n",
      "\u001b[1m72/72\u001b[0m \u001b[32m━━━━━━━━━━━━━━━━━━━━\u001b[0m\u001b[37m\u001b[0m \u001b[1m33s\u001b[0m 463ms/step - accuracy: 0.4381 - loss: 1.0228 - val_accuracy: 0.3514 - val_loss: 2.3224\n",
      "Epoch 50/250\n",
      "\u001b[1m72/72\u001b[0m \u001b[32m━━━━━━━━━━━━━━━━━━━━\u001b[0m\u001b[37m\u001b[0m \u001b[1m33s\u001b[0m 465ms/step - accuracy: 0.4354 - loss: 1.0166 - val_accuracy: 0.3514 - val_loss: 2.3088\n",
      "Epoch 51/250\n",
      "\u001b[1m72/72\u001b[0m \u001b[32m━━━━━━━━━━━━━━━━━━━━\u001b[0m\u001b[37m\u001b[0m \u001b[1m33s\u001b[0m 460ms/step - accuracy: 0.4463 - loss: 1.0015 - val_accuracy: 0.3514 - val_loss: 2.2958\n",
      "Epoch 52/250\n",
      "\u001b[1m72/72\u001b[0m \u001b[32m━━━━━━━━━━━━━━━━━━━━\u001b[0m\u001b[37m\u001b[0m \u001b[1m33s\u001b[0m 460ms/step - accuracy: 0.4396 - loss: 0.9851 - val_accuracy: 0.3531 - val_loss: 2.2809\n",
      "Epoch 53/250\n",
      "\u001b[1m72/72\u001b[0m \u001b[32m━━━━━━━━━━━━━━━━━━━━\u001b[0m\u001b[37m\u001b[0m \u001b[1m33s\u001b[0m 461ms/step - accuracy: 0.4669 - loss: 0.9693 - val_accuracy: 0.3514 - val_loss: 2.2698\n",
      "Epoch 54/250\n",
      "\u001b[1m72/72\u001b[0m \u001b[32m━━━━━━━━━━━━━━━━━━━━\u001b[0m\u001b[37m\u001b[0m \u001b[1m33s\u001b[0m 459ms/step - accuracy: 0.4509 - loss: 1.0025 - val_accuracy: 0.3531 - val_loss: 2.2586\n",
      "Epoch 55/250\n",
      "\u001b[1m72/72\u001b[0m \u001b[32m━━━━━━━━━━━━━━━━━━━━\u001b[0m\u001b[37m\u001b[0m \u001b[1m33s\u001b[0m 461ms/step - accuracy: 0.4564 - loss: 0.9470 - val_accuracy: 0.3654 - val_loss: 2.2450\n",
      "Epoch 56/250\n",
      "\u001b[1m72/72\u001b[0m \u001b[32m━━━━━━━━━━━━━━━━━━━━\u001b[0m\u001b[37m\u001b[0m \u001b[1m33s\u001b[0m 459ms/step - accuracy: 0.4745 - loss: 0.9588 - val_accuracy: 0.3724 - val_loss: 2.2358\n",
      "Epoch 57/250\n",
      "\u001b[1m72/72\u001b[0m \u001b[32m━━━━━━━━━━━━━━━━━━━━\u001b[0m\u001b[37m\u001b[0m \u001b[1m33s\u001b[0m 465ms/step - accuracy: 0.4663 - loss: 0.9394 - val_accuracy: 0.3741 - val_loss: 2.2249\n",
      "Epoch 58/250\n",
      "\u001b[1m72/72\u001b[0m \u001b[32m━━━━━━━━━━━━━━━━━━━━\u001b[0m\u001b[37m\u001b[0m \u001b[1m33s\u001b[0m 458ms/step - accuracy: 0.4829 - loss: 0.9332 - val_accuracy: 0.3741 - val_loss: 2.2159\n",
      "Epoch 59/250\n",
      "\u001b[1m72/72\u001b[0m \u001b[32m━━━━━━━━━━━━━━━━━━━━\u001b[0m\u001b[37m\u001b[0m \u001b[1m33s\u001b[0m 465ms/step - accuracy: 0.4902 - loss: 0.9321 - val_accuracy: 0.3706 - val_loss: 2.2082\n",
      "Epoch 60/250\n",
      "\u001b[1m72/72\u001b[0m \u001b[32m━━━━━━━━━━━━━━━━━━━━\u001b[0m\u001b[37m\u001b[0m \u001b[1m33s\u001b[0m 458ms/step - accuracy: 0.4875 - loss: 0.9181 - val_accuracy: 0.3724 - val_loss: 2.1982\n",
      "Epoch 61/250\n",
      "\u001b[1m72/72\u001b[0m \u001b[32m━━━━━━━━━━━━━━━━━━━━\u001b[0m\u001b[37m\u001b[0m \u001b[1m33s\u001b[0m 457ms/step - accuracy: 0.4966 - loss: 0.9184 - val_accuracy: 0.3724 - val_loss: 2.1864\n",
      "Epoch 62/250\n",
      "\u001b[1m72/72\u001b[0m \u001b[32m━━━━━━━━━━━━━━━━━━━━\u001b[0m\u001b[37m\u001b[0m \u001b[1m33s\u001b[0m 458ms/step - accuracy: 0.4978 - loss: 0.8985 - val_accuracy: 0.3724 - val_loss: 2.1775\n",
      "Epoch 63/250\n",
      "\u001b[1m72/72\u001b[0m \u001b[32m━━━━━━━━━━━━━━━━━━━━\u001b[0m\u001b[37m\u001b[0m \u001b[1m33s\u001b[0m 461ms/step - accuracy: 0.4944 - loss: 0.8863 - val_accuracy: 0.3741 - val_loss: 2.1689\n",
      "Epoch 64/250\n",
      "\u001b[1m72/72\u001b[0m \u001b[32m━━━━━━━━━━━━━━━━━━━━\u001b[0m\u001b[37m\u001b[0m \u001b[1m33s\u001b[0m 461ms/step - accuracy: 0.5186 - loss: 0.8652 - val_accuracy: 0.3724 - val_loss: 2.1596\n",
      "Epoch 65/250\n",
      "\u001b[1m72/72\u001b[0m \u001b[32m━━━━━━━━━━━━━━━━━━━━\u001b[0m\u001b[37m\u001b[0m \u001b[1m33s\u001b[0m 457ms/step - accuracy: 0.5081 - loss: 0.8653 - val_accuracy: 0.3724 - val_loss: 2.1491\n",
      "Epoch 66/250\n",
      "\u001b[1m72/72\u001b[0m \u001b[32m━━━━━━━━━━━━━━━━━━━━\u001b[0m\u001b[37m\u001b[0m \u001b[1m33s\u001b[0m 460ms/step - accuracy: 0.5210 - loss: 0.8680 - val_accuracy: 0.3741 - val_loss: 2.1410\n",
      "Epoch 67/250\n",
      "\u001b[1m72/72\u001b[0m \u001b[32m━━━━━━━━━━━━━━━━━━━━\u001b[0m\u001b[37m\u001b[0m \u001b[1m33s\u001b[0m 460ms/step - accuracy: 0.5365 - loss: 0.8485 - val_accuracy: 0.3741 - val_loss: 2.1321\n",
      "Epoch 68/250\n",
      "\u001b[1m72/72\u001b[0m \u001b[32m━━━━━━━━━━━━━━━━━━━━\u001b[0m\u001b[37m\u001b[0m \u001b[1m33s\u001b[0m 462ms/step - accuracy: 0.5356 - loss: 0.8471 - val_accuracy: 0.3776 - val_loss: 2.1235\n",
      "Epoch 69/250\n",
      "\u001b[1m72/72\u001b[0m \u001b[32m━━━━━━━━━━━━━━━━━━━━\u001b[0m\u001b[37m\u001b[0m \u001b[1m33s\u001b[0m 462ms/step - accuracy: 0.5245 - loss: 0.8469 - val_accuracy: 0.3794 - val_loss: 2.1169\n",
      "Epoch 70/250\n",
      "\u001b[1m72/72\u001b[0m \u001b[32m━━━━━━━━━━━━━━━━━━━━\u001b[0m\u001b[37m\u001b[0m \u001b[1m33s\u001b[0m 461ms/step - accuracy: 0.5557 - loss: 0.8258 - val_accuracy: 0.3846 - val_loss: 2.1084\n",
      "Epoch 71/250\n",
      "\u001b[1m72/72\u001b[0m \u001b[32m━━━━━━━━━━━━━━━━━━━━\u001b[0m\u001b[37m\u001b[0m \u001b[1m36s\u001b[0m 503ms/step - accuracy: 0.5252 - loss: 0.8406 - val_accuracy: 0.3846 - val_loss: 2.1018\n",
      "Epoch 72/250\n",
      "\u001b[1m72/72\u001b[0m \u001b[32m━━━━━━━━━━━━━━━━━━━━\u001b[0m\u001b[37m\u001b[0m \u001b[1m38s\u001b[0m 529ms/step - accuracy: 0.5532 - loss: 0.8149 - val_accuracy: 0.3846 - val_loss: 2.0932\n",
      "Epoch 73/250\n",
      "\u001b[1m72/72\u001b[0m \u001b[32m━━━━━━━━━━━━━━━━━━━━\u001b[0m\u001b[37m\u001b[0m \u001b[1m36s\u001b[0m 502ms/step - accuracy: 0.5349 - loss: 0.8353 - val_accuracy: 0.3881 - val_loss: 2.0870\n",
      "Epoch 74/250\n",
      "\u001b[1m72/72\u001b[0m \u001b[32m━━━━━━━━━━━━━━━━━━━━\u001b[0m\u001b[37m\u001b[0m \u001b[1m34s\u001b[0m 474ms/step - accuracy: 0.5544 - loss: 0.8091 - val_accuracy: 0.3864 - val_loss: 2.0809\n",
      "Epoch 75/250\n",
      "\u001b[1m72/72\u001b[0m \u001b[32m━━━━━━━━━━━━━━━━━━━━\u001b[0m\u001b[37m\u001b[0m \u001b[1m36s\u001b[0m 499ms/step - accuracy: 0.5761 - loss: 0.7883 - val_accuracy: 0.3934 - val_loss: 2.0735\n",
      "Epoch 76/250\n",
      "\u001b[1m72/72\u001b[0m \u001b[32m━━━━━━━━━━━━━━━━━━━━\u001b[0m\u001b[37m\u001b[0m \u001b[1m33s\u001b[0m 458ms/step - accuracy: 0.5350 - loss: 0.8020 - val_accuracy: 0.3934 - val_loss: 2.0675\n",
      "Epoch 77/250\n",
      "\u001b[1m72/72\u001b[0m \u001b[32m━━━━━━━━━━━━━━━━━━━━\u001b[0m\u001b[37m\u001b[0m \u001b[1m33s\u001b[0m 461ms/step - accuracy: 0.5509 - loss: 0.8017 - val_accuracy: 0.3951 - val_loss: 2.0608\n",
      "Epoch 78/250\n",
      "\u001b[1m72/72\u001b[0m \u001b[32m━━━━━━━━━━━━━━━━━━━━\u001b[0m\u001b[37m\u001b[0m \u001b[1m33s\u001b[0m 462ms/step - accuracy: 0.5697 - loss: 0.7936 - val_accuracy: 0.3969 - val_loss: 2.0542\n",
      "Epoch 79/250\n",
      "\u001b[1m72/72\u001b[0m \u001b[32m━━━━━━━━━━━━━━━━━━━━\u001b[0m\u001b[37m\u001b[0m \u001b[1m33s\u001b[0m 458ms/step - accuracy: 0.5739 - loss: 0.7638 - val_accuracy: 0.4021 - val_loss: 2.0493\n",
      "Epoch 80/250\n",
      "\u001b[1m72/72\u001b[0m \u001b[32m━━━━━━━━━━━━━━━━━━━━\u001b[0m\u001b[37m\u001b[0m \u001b[1m33s\u001b[0m 463ms/step - accuracy: 0.5673 - loss: 0.7741 - val_accuracy: 0.4073 - val_loss: 2.0414\n",
      "Epoch 81/250\n",
      "\u001b[1m72/72\u001b[0m \u001b[32m━━━━━━━━━━━━━━━━━━━━\u001b[0m\u001b[37m\u001b[0m \u001b[1m33s\u001b[0m 463ms/step - accuracy: 0.5875 - loss: 0.7332 - val_accuracy: 0.4073 - val_loss: 2.0367\n",
      "Epoch 82/250\n",
      "\u001b[1m72/72\u001b[0m \u001b[32m━━━━━━━━━━━━━━━━━━━━\u001b[0m\u001b[37m\u001b[0m \u001b[1m33s\u001b[0m 463ms/step - accuracy: 0.5982 - loss: 0.7460 - val_accuracy: 0.4108 - val_loss: 2.0293\n",
      "Epoch 83/250\n",
      "\u001b[1m72/72\u001b[0m \u001b[32m━━━━━━━━━━━━━━━━━━━━\u001b[0m\u001b[37m\u001b[0m \u001b[1m33s\u001b[0m 461ms/step - accuracy: 0.5788 - loss: 0.7563 - val_accuracy: 0.4143 - val_loss: 2.0225\n",
      "Epoch 84/250\n",
      "\u001b[1m72/72\u001b[0m \u001b[32m━━━━━━━━━━━━━━━━━━━━\u001b[0m\u001b[37m\u001b[0m \u001b[1m33s\u001b[0m 462ms/step - accuracy: 0.5780 - loss: 0.7512 - val_accuracy: 0.4126 - val_loss: 2.0173\n",
      "Epoch 85/250\n",
      "\u001b[1m72/72\u001b[0m \u001b[32m━━━━━━━━━━━━━━━━━━━━\u001b[0m\u001b[37m\u001b[0m \u001b[1m33s\u001b[0m 459ms/step - accuracy: 0.5911 - loss: 0.7503 - val_accuracy: 0.4108 - val_loss: 2.0109\n",
      "Epoch 86/250\n",
      "\u001b[1m72/72\u001b[0m \u001b[32m━━━━━━━━━━━━━━━━━━━━\u001b[0m\u001b[37m\u001b[0m \u001b[1m33s\u001b[0m 461ms/step - accuracy: 0.6040 - loss: 0.7282 - val_accuracy: 0.4143 - val_loss: 2.0063\n",
      "Epoch 87/250\n",
      "\u001b[1m72/72\u001b[0m \u001b[32m━━━━━━━━━━━━━━━━━━━━\u001b[0m\u001b[37m\u001b[0m \u001b[1m33s\u001b[0m 459ms/step - accuracy: 0.6081 - loss: 0.7217 - val_accuracy: 0.4161 - val_loss: 2.0003\n",
      "Epoch 88/250\n",
      "\u001b[1m72/72\u001b[0m \u001b[32m━━━━━━━━━━━━━━━━━━━━\u001b[0m\u001b[37m\u001b[0m \u001b[1m33s\u001b[0m 461ms/step - accuracy: 0.5850 - loss: 0.7470 - val_accuracy: 0.4161 - val_loss: 1.9972\n",
      "Epoch 89/250\n",
      "\u001b[1m72/72\u001b[0m \u001b[32m━━━━━━━━━━━━━━━━━━━━\u001b[0m\u001b[37m\u001b[0m \u001b[1m39s\u001b[0m 549ms/step - accuracy: 0.6223 - loss: 0.7176 - val_accuracy: 0.4126 - val_loss: 1.9907\n",
      "Epoch 90/250\n",
      "\u001b[1m72/72\u001b[0m \u001b[32m━━━━━━━━━━━━━━━━━━━━\u001b[0m\u001b[37m\u001b[0m \u001b[1m35s\u001b[0m 489ms/step - accuracy: 0.6292 - loss: 0.6813 - val_accuracy: 0.4143 - val_loss: 1.9860\n",
      "Epoch 91/250\n",
      "\u001b[1m72/72\u001b[0m \u001b[32m━━━━━━━━━━━━━━━━━━━━\u001b[0m\u001b[37m\u001b[0m \u001b[1m33s\u001b[0m 464ms/step - accuracy: 0.6328 - loss: 0.6975 - val_accuracy: 0.4143 - val_loss: 1.9801\n",
      "Epoch 92/250\n",
      "\u001b[1m72/72\u001b[0m \u001b[32m━━━━━━━━━━━━━━━━━━━━\u001b[0m\u001b[37m\u001b[0m \u001b[1m33s\u001b[0m 456ms/step - accuracy: 0.6127 - loss: 0.7065 - val_accuracy: 0.4126 - val_loss: 1.9758\n",
      "Epoch 93/250\n",
      "\u001b[1m72/72\u001b[0m \u001b[32m━━━━━━━━━━━━━━━━━━━━\u001b[0m\u001b[37m\u001b[0m \u001b[1m33s\u001b[0m 460ms/step - accuracy: 0.6148 - loss: 0.6877 - val_accuracy: 0.4161 - val_loss: 1.9711\n",
      "Epoch 94/250\n",
      "\u001b[1m72/72\u001b[0m \u001b[32m━━━━━━━━━━━━━━━━━━━━\u001b[0m\u001b[37m\u001b[0m \u001b[1m34s\u001b[0m 476ms/step - accuracy: 0.6172 - loss: 0.7007 - val_accuracy: 0.4178 - val_loss: 1.9648\n",
      "Epoch 95/250\n",
      "\u001b[1m72/72\u001b[0m \u001b[32m━━━━━━━━━━━━━━━━━━━━\u001b[0m\u001b[37m\u001b[0m \u001b[1m34s\u001b[0m 479ms/step - accuracy: 0.6379 - loss: 0.6549 - val_accuracy: 0.4231 - val_loss: 1.9608\n",
      "Epoch 96/250\n",
      "\u001b[1m72/72\u001b[0m \u001b[32m━━━━━━━━━━━━━━━━━━━━\u001b[0m\u001b[37m\u001b[0m \u001b[1m33s\u001b[0m 459ms/step - accuracy: 0.6238 - loss: 0.6755 - val_accuracy: 0.4178 - val_loss: 1.9565\n",
      "Epoch 97/250\n",
      "\u001b[1m72/72\u001b[0m \u001b[32m━━━━━━━━━━━━━━━━━━━━\u001b[0m\u001b[37m\u001b[0m \u001b[1m33s\u001b[0m 464ms/step - accuracy: 0.6388 - loss: 0.6553 - val_accuracy: 0.4143 - val_loss: 1.9518\n",
      "Epoch 98/250\n",
      "\u001b[1m72/72\u001b[0m \u001b[32m━━━━━━━━━━━━━━━━━━━━\u001b[0m\u001b[37m\u001b[0m \u001b[1m33s\u001b[0m 462ms/step - accuracy: 0.6452 - loss: 0.6728 - val_accuracy: 0.4143 - val_loss: 1.9475\n",
      "Epoch 99/250\n",
      "\u001b[1m72/72\u001b[0m \u001b[32m━━━━━━━━━━━━━━━━━━━━\u001b[0m\u001b[37m\u001b[0m \u001b[1m33s\u001b[0m 459ms/step - accuracy: 0.6540 - loss: 0.6501 - val_accuracy: 0.4161 - val_loss: 1.9443\n",
      "Epoch 100/250\n",
      "\u001b[1m72/72\u001b[0m \u001b[32m━━━━━━━━━━━━━━━━━━━━\u001b[0m\u001b[37m\u001b[0m \u001b[1m33s\u001b[0m 461ms/step - accuracy: 0.6282 - loss: 0.6555 - val_accuracy: 0.4161 - val_loss: 1.9409\n",
      "Epoch 101/250\n",
      "\u001b[1m72/72\u001b[0m \u001b[32m━━━━━━━━━━━━━━━━━━━━\u001b[0m\u001b[37m\u001b[0m \u001b[1m35s\u001b[0m 488ms/step - accuracy: 0.6555 - loss: 0.6374 - val_accuracy: 0.4161 - val_loss: 1.9373\n",
      "Epoch 102/250\n",
      "\u001b[1m72/72\u001b[0m \u001b[32m━━━━━━━━━━━━━━━━━━━━\u001b[0m\u001b[37m\u001b[0m \u001b[1m35s\u001b[0m 484ms/step - accuracy: 0.6627 - loss: 0.6392 - val_accuracy: 0.4178 - val_loss: 1.9325\n",
      "Epoch 103/250\n",
      "\u001b[1m72/72\u001b[0m \u001b[32m━━━━━━━━━━━━━━━━━━━━\u001b[0m\u001b[37m\u001b[0m \u001b[1m33s\u001b[0m 465ms/step - accuracy: 0.6368 - loss: 0.6531 - val_accuracy: 0.4196 - val_loss: 1.9278\n",
      "Epoch 104/250\n",
      "\u001b[1m72/72\u001b[0m \u001b[32m━━━━━━━━━━━━━━━━━━━━\u001b[0m\u001b[37m\u001b[0m \u001b[1m33s\u001b[0m 461ms/step - accuracy: 0.6458 - loss: 0.6538 - val_accuracy: 0.4196 - val_loss: 1.9235\n",
      "Epoch 105/250\n",
      "\u001b[1m72/72\u001b[0m \u001b[32m━━━━━━━━━━━━━━━━━━━━\u001b[0m\u001b[37m\u001b[0m \u001b[1m33s\u001b[0m 462ms/step - accuracy: 0.6412 - loss: 0.6385 - val_accuracy: 0.4178 - val_loss: 1.9191\n",
      "Epoch 106/250\n",
      "\u001b[1m72/72\u001b[0m \u001b[32m━━━━━━━━━━━━━━━━━━━━\u001b[0m\u001b[37m\u001b[0m \u001b[1m33s\u001b[0m 458ms/step - accuracy: 0.6761 - loss: 0.6051 - val_accuracy: 0.4161 - val_loss: 1.9163\n",
      "Epoch 107/250\n",
      "\u001b[1m72/72\u001b[0m \u001b[32m━━━━━━━━━━━━━━━━━━━━\u001b[0m\u001b[37m\u001b[0m \u001b[1m33s\u001b[0m 459ms/step - accuracy: 0.6826 - loss: 0.6166 - val_accuracy: 0.4196 - val_loss: 1.9124\n",
      "Epoch 108/250\n",
      "\u001b[1m72/72\u001b[0m \u001b[32m━━━━━━━━━━━━━━━━━━━━\u001b[0m\u001b[37m\u001b[0m \u001b[1m32s\u001b[0m 456ms/step - accuracy: 0.6683 - loss: 0.6013 - val_accuracy: 0.4248 - val_loss: 1.9087\n",
      "Epoch 109/250\n",
      "\u001b[1m72/72\u001b[0m \u001b[32m━━━━━━━━━━━━━━━━━━━━\u001b[0m\u001b[37m\u001b[0m \u001b[1m39s\u001b[0m 554ms/step - accuracy: 0.6492 - loss: 0.6218 - val_accuracy: 0.4283 - val_loss: 1.9038\n",
      "Epoch 110/250\n",
      "\u001b[1m72/72\u001b[0m \u001b[32m━━━━━━━━━━━━━━━━━━━━\u001b[0m\u001b[37m\u001b[0m \u001b[1m44s\u001b[0m 622ms/step - accuracy: 0.6580 - loss: 0.6143 - val_accuracy: 0.4283 - val_loss: 1.9014\n",
      "Epoch 111/250\n",
      "\u001b[1m72/72\u001b[0m \u001b[32m━━━━━━━━━━━━━━━━━━━━\u001b[0m\u001b[37m\u001b[0m \u001b[1m39s\u001b[0m 547ms/step - accuracy: 0.6727 - loss: 0.5962 - val_accuracy: 0.4266 - val_loss: 1.8970\n",
      "Epoch 112/250\n",
      "\u001b[1m72/72\u001b[0m \u001b[32m━━━━━━━━━━━━━━━━━━━━\u001b[0m\u001b[37m\u001b[0m \u001b[1m33s\u001b[0m 460ms/step - accuracy: 0.6831 - loss: 0.5996 - val_accuracy: 0.4266 - val_loss: 1.8944\n",
      "Epoch 113/250\n",
      "\u001b[1m72/72\u001b[0m \u001b[32m━━━━━━━━━━━━━━━━━━━━\u001b[0m\u001b[37m\u001b[0m \u001b[1m33s\u001b[0m 458ms/step - accuracy: 0.6729 - loss: 0.5920 - val_accuracy: 0.4336 - val_loss: 1.8895\n",
      "Epoch 114/250\n",
      "\u001b[1m72/72\u001b[0m \u001b[32m━━━━━━━━━━━━━━━━━━━━\u001b[0m\u001b[37m\u001b[0m \u001b[1m33s\u001b[0m 462ms/step - accuracy: 0.6716 - loss: 0.5982 - val_accuracy: 0.4371 - val_loss: 1.8856\n",
      "Epoch 115/250\n",
      "\u001b[1m72/72\u001b[0m \u001b[32m━━━━━━━━━━━━━━━━━━━━\u001b[0m\u001b[37m\u001b[0m \u001b[1m33s\u001b[0m 463ms/step - accuracy: 0.6696 - loss: 0.5970 - val_accuracy: 0.4423 - val_loss: 1.8819\n",
      "Epoch 116/250\n",
      "\u001b[1m72/72\u001b[0m \u001b[32m━━━━━━━━━━━━━━━━━━━━\u001b[0m\u001b[37m\u001b[0m \u001b[1m33s\u001b[0m 466ms/step - accuracy: 0.6924 - loss: 0.5888 - val_accuracy: 0.4406 - val_loss: 1.8772\n",
      "Epoch 117/250\n",
      "\u001b[1m72/72\u001b[0m \u001b[32m━━━━━━━━━━━━━━━━━━━━\u001b[0m\u001b[37m\u001b[0m \u001b[1m33s\u001b[0m 464ms/step - accuracy: 0.7168 - loss: 0.5707 - val_accuracy: 0.4371 - val_loss: 1.8751\n",
      "Epoch 118/250\n",
      "\u001b[1m72/72\u001b[0m \u001b[32m━━━━━━━━━━━━━━━━━━━━\u001b[0m\u001b[37m\u001b[0m \u001b[1m33s\u001b[0m 468ms/step - accuracy: 0.6918 - loss: 0.5643 - val_accuracy: 0.4388 - val_loss: 1.8719\n",
      "Epoch 119/250\n",
      "\u001b[1m72/72\u001b[0m \u001b[32m━━━━━━━━━━━━━━━━━━━━\u001b[0m\u001b[37m\u001b[0m \u001b[1m33s\u001b[0m 466ms/step - accuracy: 0.7225 - loss: 0.5515 - val_accuracy: 0.4406 - val_loss: 1.8700\n",
      "Epoch 120/250\n",
      "\u001b[1m72/72\u001b[0m \u001b[32m━━━━━━━━━━━━━━━━━━━━\u001b[0m\u001b[37m\u001b[0m \u001b[1m33s\u001b[0m 463ms/step - accuracy: 0.7007 - loss: 0.5681 - val_accuracy: 0.4406 - val_loss: 1.8661\n",
      "Epoch 121/250\n",
      "\u001b[1m72/72\u001b[0m \u001b[32m━━━━━━━━━━━━━━━━━━━━\u001b[0m\u001b[37m\u001b[0m \u001b[1m33s\u001b[0m 466ms/step - accuracy: 0.6863 - loss: 0.5647 - val_accuracy: 0.4406 - val_loss: 1.8638\n",
      "Epoch 122/250\n",
      "\u001b[1m72/72\u001b[0m \u001b[32m━━━━━━━━━━━━━━━━━━━━\u001b[0m\u001b[37m\u001b[0m \u001b[1m33s\u001b[0m 467ms/step - accuracy: 0.7163 - loss: 0.5554 - val_accuracy: 0.4441 - val_loss: 1.8614\n",
      "Epoch 123/250\n",
      "\u001b[1m72/72\u001b[0m \u001b[32m━━━━━━━━━━━━━━━━━━━━\u001b[0m\u001b[37m\u001b[0m \u001b[1m33s\u001b[0m 464ms/step - accuracy: 0.7330 - loss: 0.5296 - val_accuracy: 0.4458 - val_loss: 1.8582\n",
      "Epoch 124/250\n",
      "\u001b[1m72/72\u001b[0m \u001b[32m━━━━━━━━━━━━━━━━━━━━\u001b[0m\u001b[37m\u001b[0m \u001b[1m33s\u001b[0m 469ms/step - accuracy: 0.7117 - loss: 0.5473 - val_accuracy: 0.4476 - val_loss: 1.8554\n",
      "Epoch 125/250\n",
      "\u001b[1m72/72\u001b[0m \u001b[32m━━━━━━━━━━━━━━━━━━━━\u001b[0m\u001b[37m\u001b[0m \u001b[1m37s\u001b[0m 522ms/step - accuracy: 0.7266 - loss: 0.5204 - val_accuracy: 0.4476 - val_loss: 1.8522\n",
      "Epoch 126/250\n",
      "\u001b[1m72/72\u001b[0m \u001b[32m━━━━━━━━━━━━━━━━━━━━\u001b[0m\u001b[37m\u001b[0m \u001b[1m36s\u001b[0m 498ms/step - accuracy: 0.7305 - loss: 0.5282 - val_accuracy: 0.4493 - val_loss: 1.8486\n",
      "Epoch 127/250\n",
      "\u001b[1m72/72\u001b[0m \u001b[32m━━━━━━━━━━━━━━━━━━━━\u001b[0m\u001b[37m\u001b[0m \u001b[1m33s\u001b[0m 462ms/step - accuracy: 0.7268 - loss: 0.5360 - val_accuracy: 0.4493 - val_loss: 1.8470\n",
      "Epoch 128/250\n",
      "\u001b[1m72/72\u001b[0m \u001b[32m━━━━━━━━━━━━━━━━━━━━\u001b[0m\u001b[37m\u001b[0m \u001b[1m33s\u001b[0m 464ms/step - accuracy: 0.7294 - loss: 0.5099 - val_accuracy: 0.4476 - val_loss: 1.8434\n",
      "Epoch 129/250\n",
      "\u001b[1m72/72\u001b[0m \u001b[32m━━━━━━━━━━━━━━━━━━━━\u001b[0m\u001b[37m\u001b[0m \u001b[1m34s\u001b[0m 475ms/step - accuracy: 0.7140 - loss: 0.5248 - val_accuracy: 0.4510 - val_loss: 1.8420\n",
      "Epoch 130/250\n",
      "\u001b[1m72/72\u001b[0m \u001b[32m━━━━━━━━━━━━━━━━━━━━\u001b[0m\u001b[37m\u001b[0m \u001b[1m33s\u001b[0m 465ms/step - accuracy: 0.7233 - loss: 0.5241 - val_accuracy: 0.4510 - val_loss: 1.8407\n",
      "Epoch 131/250\n",
      "\u001b[1m72/72\u001b[0m \u001b[32m━━━━━━━━━━━━━━━━━━━━\u001b[0m\u001b[37m\u001b[0m \u001b[1m33s\u001b[0m 461ms/step - accuracy: 0.7348 - loss: 0.5094 - val_accuracy: 0.4545 - val_loss: 1.8375\n",
      "Epoch 132/250\n",
      "\u001b[1m72/72\u001b[0m \u001b[32m━━━━━━━━━━━━━━━━━━━━\u001b[0m\u001b[37m\u001b[0m \u001b[1m33s\u001b[0m 463ms/step - accuracy: 0.7284 - loss: 0.5136 - val_accuracy: 0.4528 - val_loss: 1.8355\n",
      "Epoch 133/250\n",
      "\u001b[1m72/72\u001b[0m \u001b[32m━━━━━━━━━━━━━━━━━━━━\u001b[0m\u001b[37m\u001b[0m \u001b[1m33s\u001b[0m 465ms/step - accuracy: 0.7301 - loss: 0.5038 - val_accuracy: 0.4528 - val_loss: 1.8321\n",
      "Epoch 134/250\n",
      "\u001b[1m72/72\u001b[0m \u001b[32m━━━━━━━━━━━━━━━━━━━━\u001b[0m\u001b[37m\u001b[0m \u001b[1m33s\u001b[0m 464ms/step - accuracy: 0.7338 - loss: 0.5201 - val_accuracy: 0.4510 - val_loss: 1.8304\n",
      "Epoch 135/250\n",
      "\u001b[1m72/72\u001b[0m \u001b[32m━━━━━━━━━━━━━━━━━━━━\u001b[0m\u001b[37m\u001b[0m \u001b[1m33s\u001b[0m 462ms/step - accuracy: 0.7259 - loss: 0.5075 - val_accuracy: 0.4580 - val_loss: 1.8283\n",
      "Epoch 136/250\n",
      "\u001b[1m72/72\u001b[0m \u001b[32m━━━━━━━━━━━━━━━━━━━━\u001b[0m\u001b[37m\u001b[0m \u001b[1m33s\u001b[0m 465ms/step - accuracy: 0.7589 - loss: 0.4848 - val_accuracy: 0.4528 - val_loss: 1.8257\n",
      "Epoch 137/250\n",
      "\u001b[1m72/72\u001b[0m \u001b[32m━━━━━━━━━━━━━━━━━━━━\u001b[0m\u001b[37m\u001b[0m \u001b[1m33s\u001b[0m 464ms/step - accuracy: 0.7303 - loss: 0.5050 - val_accuracy: 0.4563 - val_loss: 1.8238\n",
      "Epoch 138/250\n",
      "\u001b[1m72/72\u001b[0m \u001b[32m━━━━━━━━━━━━━━━━━━━━\u001b[0m\u001b[37m\u001b[0m \u001b[1m33s\u001b[0m 469ms/step - accuracy: 0.7233 - loss: 0.4968 - val_accuracy: 0.4563 - val_loss: 1.8201\n",
      "Epoch 139/250\n",
      "\u001b[1m72/72\u001b[0m \u001b[32m━━━━━━━━━━━━━━━━━━━━\u001b[0m\u001b[37m\u001b[0m \u001b[1m33s\u001b[0m 462ms/step - accuracy: 0.7487 - loss: 0.4924 - val_accuracy: 0.4615 - val_loss: 1.8174\n",
      "Epoch 140/250\n",
      "\u001b[1m72/72\u001b[0m \u001b[32m━━━━━━━━━━━━━━━━━━━━\u001b[0m\u001b[37m\u001b[0m \u001b[1m33s\u001b[0m 458ms/step - accuracy: 0.7454 - loss: 0.4940 - val_accuracy: 0.4650 - val_loss: 1.8146\n",
      "Epoch 141/250\n",
      "\u001b[1m72/72\u001b[0m \u001b[32m━━━━━━━━━━━━━━━━━━━━\u001b[0m\u001b[37m\u001b[0m \u001b[1m33s\u001b[0m 464ms/step - accuracy: 0.7461 - loss: 0.4869 - val_accuracy: 0.4615 - val_loss: 1.8134\n",
      "Epoch 142/250\n",
      "\u001b[1m72/72\u001b[0m \u001b[32m━━━━━━━━━━━━━━━━━━━━\u001b[0m\u001b[37m\u001b[0m \u001b[1m33s\u001b[0m 461ms/step - accuracy: 0.7428 - loss: 0.4751 - val_accuracy: 0.4545 - val_loss: 1.8098\n",
      "Epoch 143/250\n",
      "\u001b[1m72/72\u001b[0m \u001b[32m━━━━━━━━━━━━━━━━━━━━\u001b[0m\u001b[37m\u001b[0m \u001b[1m33s\u001b[0m 465ms/step - accuracy: 0.7540 - loss: 0.4805 - val_accuracy: 0.4615 - val_loss: 1.8078\n",
      "Epoch 144/250\n",
      "\u001b[1m72/72\u001b[0m \u001b[32m━━━━━━━━━━━━━━━━━━━━\u001b[0m\u001b[37m\u001b[0m \u001b[1m33s\u001b[0m 461ms/step - accuracy: 0.7546 - loss: 0.4827 - val_accuracy: 0.4633 - val_loss: 1.8078\n",
      "Epoch 145/250\n",
      "\u001b[1m72/72\u001b[0m \u001b[32m━━━━━━━━━━━━━━━━━━━━\u001b[0m\u001b[37m\u001b[0m \u001b[1m33s\u001b[0m 466ms/step - accuracy: 0.7410 - loss: 0.4867 - val_accuracy: 0.4650 - val_loss: 1.8053\n",
      "Epoch 146/250\n",
      "\u001b[1m72/72\u001b[0m \u001b[32m━━━━━━━━━━━━━━━━━━━━\u001b[0m\u001b[37m\u001b[0m \u001b[1m33s\u001b[0m 463ms/step - accuracy: 0.7509 - loss: 0.4567 - val_accuracy: 0.4615 - val_loss: 1.8032\n",
      "Epoch 147/250\n",
      "\u001b[1m72/72\u001b[0m \u001b[32m━━━━━━━━━━━━━━━━━━━━\u001b[0m\u001b[37m\u001b[0m \u001b[1m33s\u001b[0m 460ms/step - accuracy: 0.7702 - loss: 0.4551 - val_accuracy: 0.4633 - val_loss: 1.8011\n",
      "Epoch 148/250\n",
      "\u001b[1m72/72\u001b[0m \u001b[32m━━━━━━━━━━━━━━━━━━━━\u001b[0m\u001b[37m\u001b[0m \u001b[1m33s\u001b[0m 461ms/step - accuracy: 0.7621 - loss: 0.4727 - val_accuracy: 0.4685 - val_loss: 1.7959\n",
      "Epoch 149/250\n",
      "\u001b[1m72/72\u001b[0m \u001b[32m━━━━━━━━━━━━━━━━━━━━\u001b[0m\u001b[37m\u001b[0m \u001b[1m33s\u001b[0m 456ms/step - accuracy: 0.7615 - loss: 0.4722 - val_accuracy: 0.4755 - val_loss: 1.7960\n",
      "Epoch 150/250\n",
      "\u001b[1m72/72\u001b[0m \u001b[32m━━━━━━━━━━━━━━━━━━━━\u001b[0m\u001b[37m\u001b[0m \u001b[1m33s\u001b[0m 465ms/step - accuracy: 0.7644 - loss: 0.4570 - val_accuracy: 0.4685 - val_loss: 1.7956\n",
      "Epoch 151/250\n",
      "\u001b[1m72/72\u001b[0m \u001b[32m━━━━━━━━━━━━━━━━━━━━\u001b[0m\u001b[37m\u001b[0m \u001b[1m33s\u001b[0m 461ms/step - accuracy: 0.7655 - loss: 0.4534 - val_accuracy: 0.4703 - val_loss: 1.7939\n",
      "Epoch 152/250\n",
      "\u001b[1m72/72\u001b[0m \u001b[32m━━━━━━━━━━━━━━━━━━━━\u001b[0m\u001b[37m\u001b[0m \u001b[1m36s\u001b[0m 510ms/step - accuracy: 0.7843 - loss: 0.4471 - val_accuracy: 0.4720 - val_loss: 1.7917\n",
      "Epoch 153/250\n",
      "\u001b[1m72/72\u001b[0m \u001b[32m━━━━━━━━━━━━━━━━━━━━\u001b[0m\u001b[37m\u001b[0m \u001b[1m33s\u001b[0m 469ms/step - accuracy: 0.7608 - loss: 0.4486 - val_accuracy: 0.4738 - val_loss: 1.7888\n",
      "Epoch 154/250\n",
      "\u001b[1m72/72\u001b[0m \u001b[32m━━━━━━━━━━━━━━━━━━━━\u001b[0m\u001b[37m\u001b[0m \u001b[1m33s\u001b[0m 464ms/step - accuracy: 0.7858 - loss: 0.4315 - val_accuracy: 0.4703 - val_loss: 1.7883\n",
      "Epoch 155/250\n",
      "\u001b[1m72/72\u001b[0m \u001b[32m━━━━━━━━━━━━━━━━━━━━\u001b[0m\u001b[37m\u001b[0m \u001b[1m33s\u001b[0m 462ms/step - accuracy: 0.7581 - loss: 0.4469 - val_accuracy: 0.4685 - val_loss: 1.7849\n",
      "Epoch 156/250\n",
      "\u001b[1m72/72\u001b[0m \u001b[32m━━━━━━━━━━━━━━━━━━━━\u001b[0m\u001b[37m\u001b[0m \u001b[1m33s\u001b[0m 463ms/step - accuracy: 0.7873 - loss: 0.4393 - val_accuracy: 0.4703 - val_loss: 1.7816\n",
      "Epoch 157/250\n",
      "\u001b[1m72/72\u001b[0m \u001b[32m━━━━━━━━━━━━━━━━━━━━\u001b[0m\u001b[37m\u001b[0m \u001b[1m33s\u001b[0m 465ms/step - accuracy: 0.7803 - loss: 0.4323 - val_accuracy: 0.4668 - val_loss: 1.7810\n",
      "Epoch 158/250\n",
      "\u001b[1m72/72\u001b[0m \u001b[32m━━━━━━━━━━━━━━━━━━━━\u001b[0m\u001b[37m\u001b[0m \u001b[1m33s\u001b[0m 459ms/step - accuracy: 0.7845 - loss: 0.4176 - val_accuracy: 0.4720 - val_loss: 1.7812\n",
      "Epoch 159/250\n",
      "\u001b[1m72/72\u001b[0m \u001b[32m━━━━━━━━━━━━━━━━━━━━\u001b[0m\u001b[37m\u001b[0m \u001b[1m34s\u001b[0m 481ms/step - accuracy: 0.7769 - loss: 0.4396 - val_accuracy: 0.4720 - val_loss: 1.7771\n",
      "Epoch 160/250\n",
      "\u001b[1m72/72\u001b[0m \u001b[32m━━━━━━━━━━━━━━━━━━━━\u001b[0m\u001b[37m\u001b[0m \u001b[1m33s\u001b[0m 462ms/step - accuracy: 0.7577 - loss: 0.4377 - val_accuracy: 0.4738 - val_loss: 1.7768\n",
      "Epoch 161/250\n",
      "\u001b[1m72/72\u001b[0m \u001b[32m━━━━━━━━━━━━━━━━━━━━\u001b[0m\u001b[37m\u001b[0m \u001b[1m33s\u001b[0m 470ms/step - accuracy: 0.7853 - loss: 0.4206 - val_accuracy: 0.4738 - val_loss: 1.7749\n",
      "Epoch 162/250\n",
      "\u001b[1m72/72\u001b[0m \u001b[32m━━━━━━━━━━━━━━━━━━━━\u001b[0m\u001b[37m\u001b[0m \u001b[1m33s\u001b[0m 459ms/step - accuracy: 0.7801 - loss: 0.4327 - val_accuracy: 0.4703 - val_loss: 1.7743\n",
      "Epoch 163/250\n",
      "\u001b[1m72/72\u001b[0m \u001b[32m━━━━━━━━━━━━━━━━━━━━\u001b[0m\u001b[37m\u001b[0m \u001b[1m35s\u001b[0m 492ms/step - accuracy: 0.7668 - loss: 0.4333 - val_accuracy: 0.4738 - val_loss: 1.7718\n",
      "Epoch 164/250\n",
      "\u001b[1m72/72\u001b[0m \u001b[32m━━━━━━━━━━━━━━━━━━━━\u001b[0m\u001b[37m\u001b[0m \u001b[1m33s\u001b[0m 463ms/step - accuracy: 0.7787 - loss: 0.4254 - val_accuracy: 0.4773 - val_loss: 1.7711\n",
      "Epoch 165/250\n",
      "\u001b[1m72/72\u001b[0m \u001b[32m━━━━━━━━━━━━━━━━━━━━\u001b[0m\u001b[37m\u001b[0m \u001b[1m33s\u001b[0m 457ms/step - accuracy: 0.7843 - loss: 0.4251 - val_accuracy: 0.4773 - val_loss: 1.7689\n",
      "Epoch 166/250\n",
      "\u001b[1m72/72\u001b[0m \u001b[32m━━━━━━━━━━━━━━━━━━━━\u001b[0m\u001b[37m\u001b[0m \u001b[1m33s\u001b[0m 461ms/step - accuracy: 0.8062 - loss: 0.3940 - val_accuracy: 0.4790 - val_loss: 1.7680\n",
      "Epoch 167/250\n",
      "\u001b[1m72/72\u001b[0m \u001b[32m━━━━━━━━━━━━━━━━━━━━\u001b[0m\u001b[37m\u001b[0m \u001b[1m33s\u001b[0m 461ms/step - accuracy: 0.7928 - loss: 0.4014 - val_accuracy: 0.4790 - val_loss: 1.7665\n",
      "Epoch 168/250\n",
      "\u001b[1m72/72\u001b[0m \u001b[32m━━━━━━━━━━━━━━━━━━━━\u001b[0m\u001b[37m\u001b[0m \u001b[1m33s\u001b[0m 459ms/step - accuracy: 0.7840 - loss: 0.4131 - val_accuracy: 0.4790 - val_loss: 1.7645\n",
      "Epoch 169/250\n",
      "\u001b[1m72/72\u001b[0m \u001b[32m━━━━━━━━━━━━━━━━━━━━\u001b[0m\u001b[37m\u001b[0m \u001b[1m33s\u001b[0m 457ms/step - accuracy: 0.7968 - loss: 0.3958 - val_accuracy: 0.4825 - val_loss: 1.7647\n",
      "Epoch 170/250\n",
      "\u001b[1m72/72\u001b[0m \u001b[32m━━━━━━━━━━━━━━━━━━━━\u001b[0m\u001b[37m\u001b[0m \u001b[1m33s\u001b[0m 459ms/step - accuracy: 0.8006 - loss: 0.4024 - val_accuracy: 0.4790 - val_loss: 1.7628\n",
      "Epoch 171/250\n",
      "\u001b[1m72/72\u001b[0m \u001b[32m━━━━━━━━━━━━━━━━━━━━\u001b[0m\u001b[37m\u001b[0m \u001b[1m34s\u001b[0m 474ms/step - accuracy: 0.8163 - loss: 0.3786 - val_accuracy: 0.4825 - val_loss: 1.7592\n",
      "Epoch 172/250\n",
      "\u001b[1m72/72\u001b[0m \u001b[32m━━━━━━━━━━━━━━━━━━━━\u001b[0m\u001b[37m\u001b[0m \u001b[1m33s\u001b[0m 461ms/step - accuracy: 0.8097 - loss: 0.3937 - val_accuracy: 0.4808 - val_loss: 1.7580\n",
      "Epoch 173/250\n",
      "\u001b[1m72/72\u001b[0m \u001b[32m━━━━━━━━━━━━━━━━━━━━\u001b[0m\u001b[37m\u001b[0m \u001b[1m34s\u001b[0m 476ms/step - accuracy: 0.8242 - loss: 0.3782 - val_accuracy: 0.4843 - val_loss: 1.7577\n",
      "Epoch 174/250\n",
      "\u001b[1m72/72\u001b[0m \u001b[32m━━━━━━━━━━━━━━━━━━━━\u001b[0m\u001b[37m\u001b[0m \u001b[1m33s\u001b[0m 467ms/step - accuracy: 0.8106 - loss: 0.3883 - val_accuracy: 0.4825 - val_loss: 1.7553\n",
      "Epoch 175/250\n",
      "\u001b[1m72/72\u001b[0m \u001b[32m━━━━━━━━━━━━━━━━━━━━\u001b[0m\u001b[37m\u001b[0m \u001b[1m33s\u001b[0m 461ms/step - accuracy: 0.7850 - loss: 0.4034 - val_accuracy: 0.4825 - val_loss: 1.7552\n",
      "Epoch 176/250\n",
      "\u001b[1m72/72\u001b[0m \u001b[32m━━━━━━━━━━━━━━━━━━━━\u001b[0m\u001b[37m\u001b[0m \u001b[1m33s\u001b[0m 459ms/step - accuracy: 0.8139 - loss: 0.3854 - val_accuracy: 0.4843 - val_loss: 1.7532\n",
      "Epoch 177/250\n",
      "\u001b[1m72/72\u001b[0m \u001b[32m━━━━━━━━━━━━━━━━━━━━\u001b[0m\u001b[37m\u001b[0m \u001b[1m33s\u001b[0m 469ms/step - accuracy: 0.8051 - loss: 0.3719 - val_accuracy: 0.4808 - val_loss: 1.7516\n",
      "Epoch 178/250\n",
      "\u001b[1m72/72\u001b[0m \u001b[32m━━━━━━━━━━━━━━━━━━━━\u001b[0m\u001b[37m\u001b[0m \u001b[1m33s\u001b[0m 462ms/step - accuracy: 0.7918 - loss: 0.3869 - val_accuracy: 0.4843 - val_loss: 1.7492\n",
      "Epoch 179/250\n",
      "\u001b[1m72/72\u001b[0m \u001b[32m━━━━━━━━━━━━━━━━━━━━\u001b[0m\u001b[37m\u001b[0m \u001b[1m33s\u001b[0m 464ms/step - accuracy: 0.8408 - loss: 0.3644 - val_accuracy: 0.4860 - val_loss: 1.7482\n",
      "Epoch 180/250\n",
      "\u001b[1m72/72\u001b[0m \u001b[32m━━━━━━━━━━━━━━━━━━━━\u001b[0m\u001b[37m\u001b[0m \u001b[1m36s\u001b[0m 504ms/step - accuracy: 0.8229 - loss: 0.3655 - val_accuracy: 0.4878 - val_loss: 1.7470\n",
      "Epoch 181/250\n",
      "\u001b[1m72/72\u001b[0m \u001b[32m━━━━━━━━━━━━━━━━━━━━\u001b[0m\u001b[37m\u001b[0m \u001b[1m33s\u001b[0m 463ms/step - accuracy: 0.8223 - loss: 0.3514 - val_accuracy: 0.4860 - val_loss: 1.7450\n",
      "Epoch 182/250\n",
      "\u001b[1m72/72\u001b[0m \u001b[32m━━━━━━━━━━━━━━━━━━━━\u001b[0m\u001b[37m\u001b[0m \u001b[1m33s\u001b[0m 462ms/step - accuracy: 0.8252 - loss: 0.3603 - val_accuracy: 0.4825 - val_loss: 1.7445\n",
      "Epoch 183/250\n",
      "\u001b[1m72/72\u001b[0m \u001b[32m━━━━━━━━━━━━━━━━━━━━\u001b[0m\u001b[37m\u001b[0m \u001b[1m36s\u001b[0m 507ms/step - accuracy: 0.8300 - loss: 0.3476 - val_accuracy: 0.4808 - val_loss: 1.7430\n",
      "Epoch 184/250\n",
      "\u001b[1m72/72\u001b[0m \u001b[32m━━━━━━━━━━━━━━━━━━━━\u001b[0m\u001b[37m\u001b[0m \u001b[1m33s\u001b[0m 465ms/step - accuracy: 0.8344 - loss: 0.3551 - val_accuracy: 0.4843 - val_loss: 1.7416\n",
      "Epoch 185/250\n",
      "\u001b[1m72/72\u001b[0m \u001b[32m━━━━━━━━━━━━━━━━━━━━\u001b[0m\u001b[37m\u001b[0m \u001b[1m33s\u001b[0m 463ms/step - accuracy: 0.8358 - loss: 0.3573 - val_accuracy: 0.4860 - val_loss: 1.7397\n",
      "Epoch 186/250\n",
      "\u001b[1m72/72\u001b[0m \u001b[32m━━━━━━━━━━━━━━━━━━━━\u001b[0m\u001b[37m\u001b[0m \u001b[1m33s\u001b[0m 467ms/step - accuracy: 0.8449 - loss: 0.3458 - val_accuracy: 0.4895 - val_loss: 1.7388\n",
      "Epoch 187/250\n",
      "\u001b[1m72/72\u001b[0m \u001b[32m━━━━━━━━━━━━━━━━━━━━\u001b[0m\u001b[37m\u001b[0m \u001b[1m33s\u001b[0m 464ms/step - accuracy: 0.8396 - loss: 0.3484 - val_accuracy: 0.4913 - val_loss: 1.7384\n",
      "Epoch 188/250\n",
      "\u001b[1m72/72\u001b[0m \u001b[32m━━━━━━━━━━━━━━━━━━━━\u001b[0m\u001b[37m\u001b[0m \u001b[1m34s\u001b[0m 471ms/step - accuracy: 0.8274 - loss: 0.3473 - val_accuracy: 0.4843 - val_loss: 1.7373\n",
      "Epoch 189/250\n",
      "\u001b[1m72/72\u001b[0m \u001b[32m━━━━━━━━━━━━━━━━━━━━\u001b[0m\u001b[37m\u001b[0m \u001b[1m33s\u001b[0m 462ms/step - accuracy: 0.8315 - loss: 0.3375 - val_accuracy: 0.4895 - val_loss: 1.7355\n",
      "Epoch 190/250\n",
      "\u001b[1m72/72\u001b[0m \u001b[32m━━━━━━━━━━━━━━━━━━━━\u001b[0m\u001b[37m\u001b[0m \u001b[1m33s\u001b[0m 464ms/step - accuracy: 0.8377 - loss: 0.3402 - val_accuracy: 0.4878 - val_loss: 1.7348\n",
      "Epoch 191/250\n",
      "\u001b[1m72/72\u001b[0m \u001b[32m━━━━━━━━━━━━━━━━━━━━\u001b[0m\u001b[37m\u001b[0m \u001b[1m33s\u001b[0m 462ms/step - accuracy: 0.8402 - loss: 0.3455 - val_accuracy: 0.4913 - val_loss: 1.7348\n",
      "Epoch 192/250\n",
      "\u001b[1m72/72\u001b[0m \u001b[32m━━━━━━━━━━━━━━━━━━━━\u001b[0m\u001b[37m\u001b[0m \u001b[1m33s\u001b[0m 463ms/step - accuracy: 0.8441 - loss: 0.3317 - val_accuracy: 0.4930 - val_loss: 1.7326\n",
      "Epoch 193/250\n",
      "\u001b[1m72/72\u001b[0m \u001b[32m━━━━━━━━━━━━━━━━━━━━\u001b[0m\u001b[37m\u001b[0m \u001b[1m33s\u001b[0m 464ms/step - accuracy: 0.8419 - loss: 0.3354 - val_accuracy: 0.4930 - val_loss: 1.7307\n",
      "Epoch 194/250\n",
      "\u001b[1m72/72\u001b[0m \u001b[32m━━━━━━━━━━━━━━━━━━━━\u001b[0m\u001b[37m\u001b[0m \u001b[1m33s\u001b[0m 461ms/step - accuracy: 0.8465 - loss: 0.3379 - val_accuracy: 0.4895 - val_loss: 1.7308\n",
      "Epoch 195/250\n",
      "\u001b[1m72/72\u001b[0m \u001b[32m━━━━━━━━━━━━━━━━━━━━\u001b[0m\u001b[37m\u001b[0m \u001b[1m34s\u001b[0m 471ms/step - accuracy: 0.8529 - loss: 0.3297 - val_accuracy: 0.4913 - val_loss: 1.7304\n",
      "Epoch 196/250\n",
      "\u001b[1m72/72\u001b[0m \u001b[32m━━━━━━━━━━━━━━━━━━━━\u001b[0m\u001b[37m\u001b[0m \u001b[1m33s\u001b[0m 461ms/step - accuracy: 0.8354 - loss: 0.3402 - val_accuracy: 0.4913 - val_loss: 1.7264\n",
      "Epoch 197/250\n",
      "\u001b[1m72/72\u001b[0m \u001b[32m━━━━━━━━━━━━━━━━━━━━\u001b[0m\u001b[37m\u001b[0m \u001b[1m33s\u001b[0m 464ms/step - accuracy: 0.8549 - loss: 0.3227 - val_accuracy: 0.4895 - val_loss: 1.7258\n",
      "Epoch 198/250\n",
      "\u001b[1m72/72\u001b[0m \u001b[32m━━━━━━━━━━━━━━━━━━━━\u001b[0m\u001b[37m\u001b[0m \u001b[1m33s\u001b[0m 465ms/step - accuracy: 0.8393 - loss: 0.3424 - val_accuracy: 0.4948 - val_loss: 1.7237\n",
      "Epoch 199/250\n",
      "\u001b[1m72/72\u001b[0m \u001b[32m━━━━━━━━━━━━━━━━━━━━\u001b[0m\u001b[37m\u001b[0m \u001b[1m33s\u001b[0m 464ms/step - accuracy: 0.8659 - loss: 0.3098 - val_accuracy: 0.4948 - val_loss: 1.7229\n",
      "Epoch 200/250\n",
      "\u001b[1m72/72\u001b[0m \u001b[32m━━━━━━━━━━━━━━━━━━━━\u001b[0m\u001b[37m\u001b[0m \u001b[1m33s\u001b[0m 461ms/step - accuracy: 0.8474 - loss: 0.3347 - val_accuracy: 0.4965 - val_loss: 1.7218\n",
      "Epoch 201/250\n",
      "\u001b[1m72/72\u001b[0m \u001b[32m━━━━━━━━━━━━━━━━━━━━\u001b[0m\u001b[37m\u001b[0m \u001b[1m33s\u001b[0m 465ms/step - accuracy: 0.8640 - loss: 0.3121 - val_accuracy: 0.4948 - val_loss: 1.7204\n",
      "Epoch 202/250\n",
      "\u001b[1m72/72\u001b[0m \u001b[32m━━━━━━━━━━━━━━━━━━━━\u001b[0m\u001b[37m\u001b[0m \u001b[1m33s\u001b[0m 463ms/step - accuracy: 0.8705 - loss: 0.3018 - val_accuracy: 0.4948 - val_loss: 1.7215\n",
      "Epoch 203/250\n",
      "\u001b[1m72/72\u001b[0m \u001b[32m━━━━━━━━━━━━━━━━━━━━\u001b[0m\u001b[37m\u001b[0m \u001b[1m33s\u001b[0m 457ms/step - accuracy: 0.8674 - loss: 0.3038 - val_accuracy: 0.4965 - val_loss: 1.7202\n",
      "Epoch 204/250\n",
      "\u001b[1m72/72\u001b[0m \u001b[32m━━━━━━━━━━━━━━━━━━━━\u001b[0m\u001b[37m\u001b[0m \u001b[1m33s\u001b[0m 466ms/step - accuracy: 0.8642 - loss: 0.3043 - val_accuracy: 0.4948 - val_loss: 1.7194\n",
      "Epoch 205/250\n",
      "\u001b[1m72/72\u001b[0m \u001b[32m━━━━━━━━━━━━━━━━━━━━\u001b[0m\u001b[37m\u001b[0m \u001b[1m33s\u001b[0m 461ms/step - accuracy: 0.8714 - loss: 0.3019 - val_accuracy: 0.4965 - val_loss: 1.7180\n",
      "Epoch 206/250\n",
      "\u001b[1m72/72\u001b[0m \u001b[32m━━━━━━━━━━━━━━━━━━━━\u001b[0m\u001b[37m\u001b[0m \u001b[1m33s\u001b[0m 461ms/step - accuracy: 0.8605 - loss: 0.3199 - val_accuracy: 0.4948 - val_loss: 1.7166\n",
      "Epoch 207/250\n",
      "\u001b[1m72/72\u001b[0m \u001b[32m━━━━━━━━━━━━━━━━━━━━\u001b[0m\u001b[37m\u001b[0m \u001b[1m33s\u001b[0m 458ms/step - accuracy: 0.8603 - loss: 0.3104 - val_accuracy: 0.4965 - val_loss: 1.7152\n",
      "Epoch 208/250\n",
      "\u001b[1m72/72\u001b[0m \u001b[32m━━━━━━━━━━━━━━━━━━━━\u001b[0m\u001b[37m\u001b[0m \u001b[1m33s\u001b[0m 463ms/step - accuracy: 0.8669 - loss: 0.2890 - val_accuracy: 0.4948 - val_loss: 1.7163\n",
      "Epoch 209/250\n",
      "\u001b[1m72/72\u001b[0m \u001b[32m━━━━━━━━━━━━━━━━━━━━\u001b[0m\u001b[37m\u001b[0m \u001b[1m33s\u001b[0m 462ms/step - accuracy: 0.8655 - loss: 0.2942 - val_accuracy: 0.4965 - val_loss: 1.7133\n",
      "Epoch 210/250\n",
      "\u001b[1m72/72\u001b[0m \u001b[32m━━━━━━━━━━━━━━━━━━━━\u001b[0m\u001b[37m\u001b[0m \u001b[1m33s\u001b[0m 462ms/step - accuracy: 0.8707 - loss: 0.2902 - val_accuracy: 0.4948 - val_loss: 1.7153\n",
      "Epoch 211/250\n",
      "\u001b[1m72/72\u001b[0m \u001b[32m━━━━━━━━━━━━━━━━━━━━\u001b[0m\u001b[37m\u001b[0m \u001b[1m33s\u001b[0m 469ms/step - accuracy: 0.8579 - loss: 0.2948 - val_accuracy: 0.4948 - val_loss: 1.7141\n",
      "Epoch 212/250\n",
      "\u001b[1m72/72\u001b[0m \u001b[32m━━━━━━━━━━━━━━━━━━━━\u001b[0m\u001b[37m\u001b[0m \u001b[1m33s\u001b[0m 468ms/step - accuracy: 0.8776 - loss: 0.2843 - val_accuracy: 0.4948 - val_loss: 1.7140\n",
      "Epoch 213/250\n",
      "\u001b[1m72/72\u001b[0m \u001b[32m━━━━━━━━━━━━━━━━━━━━\u001b[0m\u001b[37m\u001b[0m \u001b[1m33s\u001b[0m 463ms/step - accuracy: 0.8828 - loss: 0.2839 - val_accuracy: 0.4948 - val_loss: 1.7122\n",
      "Epoch 214/250\n",
      "\u001b[1m72/72\u001b[0m \u001b[32m━━━━━━━━━━━━━━━━━━━━\u001b[0m\u001b[37m\u001b[0m \u001b[1m35s\u001b[0m 491ms/step - accuracy: 0.8821 - loss: 0.2940 - val_accuracy: 0.4948 - val_loss: 1.7134\n",
      "Epoch 215/250\n",
      "\u001b[1m72/72\u001b[0m \u001b[32m━━━━━━━━━━━━━━━━━━━━\u001b[0m\u001b[37m\u001b[0m \u001b[1m34s\u001b[0m 474ms/step - accuracy: 0.8657 - loss: 0.2868 - val_accuracy: 0.4948 - val_loss: 1.7122\n",
      "Epoch 216/250\n",
      "\u001b[1m72/72\u001b[0m \u001b[32m━━━━━━━━━━━━━━━━━━━━\u001b[0m\u001b[37m\u001b[0m \u001b[1m35s\u001b[0m 484ms/step - accuracy: 0.8635 - loss: 0.3039 - val_accuracy: 0.4948 - val_loss: 1.7097\n",
      "Epoch 217/250\n",
      "\u001b[1m72/72\u001b[0m \u001b[32m━━━━━━━━━━━━━━━━━━━━\u001b[0m\u001b[37m\u001b[0m \u001b[1m33s\u001b[0m 464ms/step - accuracy: 0.8702 - loss: 0.2802 - val_accuracy: 0.4948 - val_loss: 1.7090\n",
      "Epoch 218/250\n",
      "\u001b[1m72/72\u001b[0m \u001b[32m━━━━━━━━━━━━━━━━━━━━\u001b[0m\u001b[37m\u001b[0m \u001b[1m33s\u001b[0m 464ms/step - accuracy: 0.8814 - loss: 0.2745 - val_accuracy: 0.4913 - val_loss: 1.7092\n",
      "Epoch 219/250\n",
      "\u001b[1m72/72\u001b[0m \u001b[32m━━━━━━━━━━━━━━━━━━━━\u001b[0m\u001b[37m\u001b[0m \u001b[1m33s\u001b[0m 462ms/step - accuracy: 0.8756 - loss: 0.2793 - val_accuracy: 0.4948 - val_loss: 1.7076\n",
      "Epoch 220/250\n",
      "\u001b[1m72/72\u001b[0m \u001b[32m━━━━━━━━━━━━━━━━━━━━\u001b[0m\u001b[37m\u001b[0m \u001b[1m33s\u001b[0m 465ms/step - accuracy: 0.8833 - loss: 0.2792 - val_accuracy: 0.4965 - val_loss: 1.7056\n",
      "Epoch 221/250\n",
      "\u001b[1m72/72\u001b[0m \u001b[32m━━━━━━━━━━━━━━━━━━━━\u001b[0m\u001b[37m\u001b[0m \u001b[1m33s\u001b[0m 464ms/step - accuracy: 0.8776 - loss: 0.2789 - val_accuracy: 0.4948 - val_loss: 1.7053\n",
      "Epoch 222/250\n",
      "\u001b[1m72/72\u001b[0m \u001b[32m━━━━━━━━━━━━━━━━━━━━\u001b[0m\u001b[37m\u001b[0m \u001b[1m33s\u001b[0m 465ms/step - accuracy: 0.8968 - loss: 0.2637 - val_accuracy: 0.5035 - val_loss: 1.7045\n",
      "Epoch 223/250\n",
      "\u001b[1m72/72\u001b[0m \u001b[32m━━━━━━━━━━━━━━━━━━━━\u001b[0m\u001b[37m\u001b[0m \u001b[1m33s\u001b[0m 461ms/step - accuracy: 0.8888 - loss: 0.2712 - val_accuracy: 0.4965 - val_loss: 1.7043\n",
      "Epoch 224/250\n",
      "\u001b[1m72/72\u001b[0m \u001b[32m━━━━━━━━━━━━━━━━━━━━\u001b[0m\u001b[37m\u001b[0m \u001b[1m33s\u001b[0m 467ms/step - accuracy: 0.8837 - loss: 0.2793 - val_accuracy: 0.4983 - val_loss: 1.7051\n",
      "Epoch 225/250\n",
      "\u001b[1m72/72\u001b[0m \u001b[32m━━━━━━━━━━━━━━━━━━━━\u001b[0m\u001b[37m\u001b[0m \u001b[1m33s\u001b[0m 460ms/step - accuracy: 0.8876 - loss: 0.2679 - val_accuracy: 0.4948 - val_loss: 1.7043\n",
      "Epoch 226/250\n",
      "\u001b[1m72/72\u001b[0m \u001b[32m━━━━━━━━━━━━━━━━━━━━\u001b[0m\u001b[37m\u001b[0m \u001b[1m33s\u001b[0m 467ms/step - accuracy: 0.8991 - loss: 0.2584 - val_accuracy: 0.4965 - val_loss: 1.7049\n",
      "Epoch 227/250\n",
      "\u001b[1m72/72\u001b[0m \u001b[32m━━━━━━━━━━━━━━━━━━━━\u001b[0m\u001b[37m\u001b[0m \u001b[1m33s\u001b[0m 462ms/step - accuracy: 0.8980 - loss: 0.2612 - val_accuracy: 0.4983 - val_loss: 1.7044\n",
      "Epoch 228/250\n",
      "\u001b[1m72/72\u001b[0m \u001b[32m━━━━━━━━━━━━━━━━━━━━\u001b[0m\u001b[37m\u001b[0m \u001b[1m33s\u001b[0m 466ms/step - accuracy: 0.8863 - loss: 0.2588 - val_accuracy: 0.4948 - val_loss: 1.7008\n",
      "Epoch 229/250\n",
      "\u001b[1m72/72\u001b[0m \u001b[32m━━━━━━━━━━━━━━━━━━━━\u001b[0m\u001b[37m\u001b[0m \u001b[1m33s\u001b[0m 463ms/step - accuracy: 0.8858 - loss: 0.2698 - val_accuracy: 0.4983 - val_loss: 1.7009\n",
      "Epoch 230/250\n",
      "\u001b[1m72/72\u001b[0m \u001b[32m━━━━━━━━━━━━━━━━━━━━\u001b[0m\u001b[37m\u001b[0m \u001b[1m33s\u001b[0m 462ms/step - accuracy: 0.8878 - loss: 0.2578 - val_accuracy: 0.4983 - val_loss: 1.7007\n",
      "Epoch 231/250\n",
      "\u001b[1m72/72\u001b[0m \u001b[32m━━━━━━━━━━━━━━━━━━━━\u001b[0m\u001b[37m\u001b[0m \u001b[1m33s\u001b[0m 465ms/step - accuracy: 0.8925 - loss: 0.2522 - val_accuracy: 0.4948 - val_loss: 1.7009\n",
      "Epoch 232/250\n",
      "\u001b[1m72/72\u001b[0m \u001b[32m━━━━━━━━━━━━━━━━━━━━\u001b[0m\u001b[37m\u001b[0m \u001b[1m33s\u001b[0m 462ms/step - accuracy: 0.8956 - loss: 0.2513 - val_accuracy: 0.4948 - val_loss: 1.7000\n",
      "Epoch 233/250\n",
      "\u001b[1m72/72\u001b[0m \u001b[32m━━━━━━━━━━━━━━━━━━━━\u001b[0m\u001b[37m\u001b[0m \u001b[1m33s\u001b[0m 469ms/step - accuracy: 0.9098 - loss: 0.2425 - val_accuracy: 0.4930 - val_loss: 1.6982\n",
      "Epoch 234/250\n",
      "\u001b[1m72/72\u001b[0m \u001b[32m━━━━━━━━━━━━━━━━━━━━\u001b[0m\u001b[37m\u001b[0m \u001b[1m34s\u001b[0m 475ms/step - accuracy: 0.9060 - loss: 0.2419 - val_accuracy: 0.4913 - val_loss: 1.7005\n",
      "Epoch 235/250\n",
      "\u001b[1m72/72\u001b[0m \u001b[32m━━━━━━━━━━━━━━━━━━━━\u001b[0m\u001b[37m\u001b[0m \u001b[1m34s\u001b[0m 476ms/step - accuracy: 0.8983 - loss: 0.2513 - val_accuracy: 0.4983 - val_loss: 1.6998\n",
      "Epoch 236/250\n",
      "\u001b[1m72/72\u001b[0m \u001b[32m━━━━━━━━━━━━━━━━━━━━\u001b[0m\u001b[37m\u001b[0m \u001b[1m34s\u001b[0m 472ms/step - accuracy: 0.9025 - loss: 0.2349 - val_accuracy: 0.4983 - val_loss: 1.6983\n",
      "Epoch 237/250\n",
      "\u001b[1m72/72\u001b[0m \u001b[32m━━━━━━━━━━━━━━━━━━━━\u001b[0m\u001b[37m\u001b[0m \u001b[1m34s\u001b[0m 470ms/step - accuracy: 0.8964 - loss: 0.2524 - val_accuracy: 0.4983 - val_loss: 1.6978\n",
      "Epoch 238/250\n",
      "\u001b[1m72/72\u001b[0m \u001b[32m━━━━━━━━━━━━━━━━━━━━\u001b[0m\u001b[37m\u001b[0m \u001b[1m33s\u001b[0m 463ms/step - accuracy: 0.9042 - loss: 0.2409 - val_accuracy: 0.5000 - val_loss: 1.6951\n",
      "Epoch 239/250\n",
      "\u001b[1m72/72\u001b[0m \u001b[32m━━━━━━━━━━━━━━━━━━━━\u001b[0m\u001b[37m\u001b[0m \u001b[1m33s\u001b[0m 461ms/step - accuracy: 0.9115 - loss: 0.2465 - val_accuracy: 0.4983 - val_loss: 1.6948\n",
      "Epoch 240/250\n",
      "\u001b[1m72/72\u001b[0m \u001b[32m━━━━━━━━━━━━━━━━━━━━\u001b[0m\u001b[37m\u001b[0m \u001b[1m34s\u001b[0m 474ms/step - accuracy: 0.9065 - loss: 0.2423 - val_accuracy: 0.5052 - val_loss: 1.6949\n",
      "Epoch 241/250\n",
      "\u001b[1m72/72\u001b[0m \u001b[32m━━━━━━━━━━━━━━━━━━━━\u001b[0m\u001b[37m\u001b[0m \u001b[1m33s\u001b[0m 463ms/step - accuracy: 0.9197 - loss: 0.2302 - val_accuracy: 0.4983 - val_loss: 1.6950\n",
      "Epoch 242/250\n",
      "\u001b[1m72/72\u001b[0m \u001b[32m━━━━━━━━━━━━━━━━━━━━\u001b[0m\u001b[37m\u001b[0m \u001b[1m33s\u001b[0m 465ms/step - accuracy: 0.9176 - loss: 0.2230 - val_accuracy: 0.5017 - val_loss: 1.6954\n",
      "Epoch 243/250\n",
      "\u001b[1m72/72\u001b[0m \u001b[32m━━━━━━━━━━━━━━━━━━━━\u001b[0m\u001b[37m\u001b[0m \u001b[1m33s\u001b[0m 460ms/step - accuracy: 0.9104 - loss: 0.2240 - val_accuracy: 0.5035 - val_loss: 1.6937\n",
      "Epoch 244/250\n",
      "\u001b[1m72/72\u001b[0m \u001b[32m━━━━━━━━━━━━━━━━━━━━\u001b[0m\u001b[37m\u001b[0m \u001b[1m33s\u001b[0m 462ms/step - accuracy: 0.9145 - loss: 0.2250 - val_accuracy: 0.5035 - val_loss: 1.6926\n",
      "Epoch 245/250\n",
      "\u001b[1m72/72\u001b[0m \u001b[32m━━━━━━━━━━━━━━━━━━━━\u001b[0m\u001b[37m\u001b[0m \u001b[1m33s\u001b[0m 466ms/step - accuracy: 0.9155 - loss: 0.2246 - val_accuracy: 0.5035 - val_loss: 1.6922\n",
      "Epoch 246/250\n",
      "\u001b[1m72/72\u001b[0m \u001b[32m━━━━━━━━━━━━━━━━━━━━\u001b[0m\u001b[37m\u001b[0m \u001b[1m33s\u001b[0m 466ms/step - accuracy: 0.9050 - loss: 0.2371 - val_accuracy: 0.5052 - val_loss: 1.6908\n",
      "Epoch 247/250\n",
      "\u001b[1m72/72\u001b[0m \u001b[32m━━━━━━━━━━━━━━━━━━━━\u001b[0m\u001b[37m\u001b[0m \u001b[1m33s\u001b[0m 465ms/step - accuracy: 0.9082 - loss: 0.2286 - val_accuracy: 0.5035 - val_loss: 1.6909\n",
      "Epoch 248/250\n",
      "\u001b[1m72/72\u001b[0m \u001b[32m━━━━━━━━━━━━━━━━━━━━\u001b[0m\u001b[37m\u001b[0m \u001b[1m33s\u001b[0m 464ms/step - accuracy: 0.9081 - loss: 0.2310 - val_accuracy: 0.5035 - val_loss: 1.6888\n",
      "Epoch 249/250\n",
      "\u001b[1m72/72\u001b[0m \u001b[32m━━━━━━━━━━━━━━━━━━━━\u001b[0m\u001b[37m\u001b[0m \u001b[1m33s\u001b[0m 468ms/step - accuracy: 0.9121 - loss: 0.2225 - val_accuracy: 0.5052 - val_loss: 1.6889\n",
      "Epoch 250/250\n",
      "\u001b[1m72/72\u001b[0m \u001b[32m━━━━━━━━━━━━━━━━━━━━\u001b[0m\u001b[37m\u001b[0m \u001b[1m33s\u001b[0m 464ms/step - accuracy: 0.9265 - loss: 0.2129 - val_accuracy: 0.5035 - val_loss: 1.6911\n"
     ]
    }
   ],
   "source": [
    "from tensorflow.keras.optimizers import AdamW\n",
    "\n",
    "# Since using GPU, mixed precision can speed up training by ~2x\n",
    "from tensorflow.keras import mixed_precision\n",
    "mixed_precision.set_global_policy('mixed_float16')\n",
    "\n",
    "# 1) Create the training generator\n",
    "train_gen = custom_augment_generator(\n",
    "    df=train_df_final,\n",
    "    underrepresented_classes_encoded=underrepresented_classes_encoded,\n",
    "    baseline_aug_datagen=baseline_aug_datagen,\n",
    "    minority_aug_datagen=minority_aug_datagen,\n",
    "    base_dir=base_dir,  # e.g. \"/kaggle/input/bttai-ajl-2025/train/train\"\n",
    "    batch_size=16,\n",
    "    target_size=(224,224),\n",
    "    shuffle=True\n",
    ")\n",
    "\n",
    "# 2) Create the validation generator\n",
    "val_gen = simple_val_generator(\n",
    "    df=val_df,\n",
    "    base_dir=base_dir,\n",
    "    batch_size=16,\n",
    "    target_size=(224,224),\n",
    "    shuffle=False\n",
    ")\n",
    "\n",
    "# 3) Steps\n",
    "steps_per_epoch = math.ceil(len(train_df_final) / 16)\n",
    "validation_steps = math.ceil(len(val_df) / 16)\n",
    "\n",
    "# 4) Build a transfer learning model with ResNet18\n",
    "base_model = ResNet18(weights='imagenet', include_top=False, input_shape=(224,224,3))\n",
    "x = base_model.output\n",
    "x = GlobalAveragePooling2D()(x)\n",
    "x = Dropout(0.5)(x)  # 50% dropout\n",
    "num_classes = len(label_encoder.classes_)\n",
    "predictions = Dense(num_classes, activation='softmax')(x)\n",
    "model = Model(inputs=base_model.input, outputs=predictions)\n",
    "\n",
    "early_stop = EarlyStopping(\n",
    "    monitor='val_accuracy',\n",
    "    patience=50,  # stop if val_loss doesn't improve for 50 epochs\n",
    "    restore_best_weights=True\n",
    ")\n",
    "\n",
    "reduce_lr = ReduceLROnPlateau(\n",
    "    monitor='val_loss',\n",
    "    factor=0.5,\n",
    "    patience=10,\n",
    "    min_lr=1e-8\n",
    ")\n",
    "\n",
    "# # Freeze all layers initially\n",
    "# for layer in base_model.layers:\n",
    "#     layer.trainable = False\n",
    "# # Unfreeze the last 17 layers\n",
    "# for layer in base_model.layers[-17:]:\n",
    "#     layer.trainable = True\n",
    "\n",
    "# 5) Compile\n",
    "model.compile(\n",
    "    optimizer=AdamW(learning_rate=1e-4, weight_decay=1e-5),\n",
    "    loss='sparse_categorical_crossentropy',\n",
    "    metrics=['accuracy']\n",
    ")\n",
    "\n",
    "# 6) Fit with validation\n",
    "history = model.fit(\n",
    "    train_gen,\n",
    "    steps_per_epoch=steps_per_epoch,\n",
    "    epochs=250,\n",
    "    validation_data=val_gen,\n",
    "    validation_steps=validation_steps,\n",
    "    callbacks=[early_stop, reduce_lr]\n",
    ")"
   ]
  },
  {
   "cell_type": "markdown",
   "metadata": {},
   "source": [
    "# Hyperparameter Tuning (Finds the best hyperparameters)"
   ]
  },
  {
   "cell_type": "code",
   "execution_count": 32,
   "metadata": {
    "execution": {
     "iopub.execute_input": "2025-02-18T05:13:18.975043Z",
     "iopub.status.busy": "2025-02-18T05:13:18.974795Z",
     "iopub.status.idle": "2025-02-18T05:13:18.978622Z",
     "shell.execute_reply": "2025-02-18T05:13:18.977755Z",
     "shell.execute_reply.started": "2025-02-18T05:13:18.975021Z"
    },
    "trusted": true
   },
   "outputs": [],
   "source": [
    "# tuner = kt.RandomSearch(\n",
    "#     build_model,                      # The function we defined above\n",
    "#     objective='val_accuracy',         # Could also be 'val_loss'\n",
    "#     max_trials=5,                     # How many different combos to try\n",
    "#     executions_per_trial=1,           # How many times to train each combo\n",
    "#     directory='my_tuner_dir',         # Folder to save logs\n",
    "#     project_name='resnet_tuning'\n",
    "# )\n",
    "\n",
    "# # Start the search\n",
    "# tuner.search(\n",
    "#     train_gen,\n",
    "#     steps_per_epoch=steps_per_epoch,\n",
    "#     validation_data=val_gen,\n",
    "#     validation_steps=validation_steps,\n",
    "#     epochs=5  # or more\n",
    "# )"
   ]
  },
  {
   "cell_type": "markdown",
   "metadata": {},
   "source": [
    "# Model Definition & Training with Validation"
   ]
  },
  {
   "cell_type": "code",
   "execution_count": null,
   "metadata": {
    "trusted": true
   },
   "outputs": [],
   "source": [
    "# 1) Save model\n",
    "# model.save(\"my_model4.h5\", save_format=\"tf\")\n",
    "# print(\"✅ Model saved in TensorFlow format as my_model4.h5\")\n",
    "\n",
    "# 2) Load model\n",
    "# from tensorflow.keras.models import load_model\n",
    "# loaded_model = load_model(\"my_model4.h5\")\n",
    "# print(\"✅ Model loaded successfully.\")\n",
    "\n",
    "# 3) Build index-to-label mapping\n",
    "idx_to_label = {i: label for i, label in enumerate(label_encoder.classes_)}\n",
    "\n",
    "# 4) Predict on test data\n",
    "import numpy as np\n",
    "from tensorflow.keras.preprocessing.image import load_img, img_to_array\n",
    "\n",
    "predictions = []\n",
    "for idx, row in test_df.iterrows():\n",
    "    md5_name = row[\"md5hash\"]  # e.g. \"abc123.jpg\"\n",
    "    test_path = os.path.join(base_test_dir, md5_name)  # base_test_dir: \"/kaggle/input/bttai-ajl-2025/test/test\"\n",
    "    \n",
    "    if os.path.exists(test_path):\n",
    "        image = load_img(test_path, target_size=(224, 224))\n",
    "        img_array = img_to_array(image).astype(np.float32)\n",
    "        img_array /= 255.0\n",
    "        img_array = np.expand_dims(img_array, axis=0)\n",
    "        \n",
    "        pred = model.predict(img_array)\n",
    "        pred_idx = np.argmax(pred[0])\n",
    "        predicted_label = idx_to_label.get(pred_idx, \"unknown\")\n",
    "    else:\n",
    "        predicted_label = \"unknown\"\n",
    "    \n",
    "    predictions.append(predicted_label)\n",
    "\n",
    "# 5) Create submission file\n",
    "test_df[\"md5hash\"] = test_df[\"md5hash\"].str.replace(\".jpg\", \"\", regex=False)\n",
    "submission_df = pd.DataFrame({\n",
    "    \"md5hash\": test_df[\"md5hash\"],\n",
    "    \"label\": predictions\n",
    "})\n",
    "submission_file_path = \"submission4.csv\"\n",
    "submission_df.to_csv(submission_file_path, index=False)\n",
    "print(f\"✅ Submission file saved: {submission_file_path}\")"
   ]
  }
 ],
 "metadata": {
  "kaggle": {
   "accelerator": "nvidiaTeslaT4",
   "dataSources": [
    {
     "databundleVersionId": 10898385,
     "sourceId": 90489,
     "sourceType": "competition"
    },
    {
     "datasetId": 6675542,
     "sourceId": 10761933,
     "sourceType": "datasetVersion"
    },
    {
     "datasetId": 6675566,
     "sourceId": 10761976,
     "sourceType": "datasetVersion"
    },
    {
     "datasetId": 6675575,
     "sourceId": 10761989,
     "sourceType": "datasetVersion"
    },
    {
     "datasetId": 6675581,
     "sourceId": 10762000,
     "sourceType": "datasetVersion"
    }
   ],
   "dockerImageVersionId": 30839,
   "isGpuEnabled": true,
   "isInternetEnabled": true,
   "language": "python",
   "sourceType": "notebook"
  },
  "kernelspec": {
   "display_name": "Python 3",
   "language": "python",
   "name": "python3"
  },
  "language_info": {
   "codemirror_mode": {
    "name": "ipython",
    "version": 3
   },
   "file_extension": ".py",
   "mimetype": "text/x-python",
   "name": "python",
   "nbconvert_exporter": "python",
   "pygments_lexer": "ipython3",
   "version": "3.10.12"
  }
 },
 "nbformat": 4,
 "nbformat_minor": 4
}
