{
 "cells": [
  {
   "cell_type": "code",
   "execution_count": 96,
   "metadata": {},
   "outputs": [],
   "source": [
    "import os\n",
    "import pandas as pd\n",
    "import matplotlib.pyplot as plt\n",
    "import seaborn as sns\n",
    "from sklearn.model_selection import train_test_split\n",
    "from sklearn.preprocessing import LabelEncoder\n",
    "from tensorflow.keras.preprocessing.image import ImageDataGenerator\n",
    "from tensorflow.keras.models import Sequential\n",
    "from tensorflow.keras.layers import Conv2D, MaxPooling2D, Flatten, Dense, Dropout\n",
    "from tensorflow.keras.callbacks import EarlyStopping"
   ]
  },
  {
   "cell_type": "code",
   "execution_count": 97,
   "metadata": {},
   "outputs": [
    {
     "name": "stdout",
     "output_type": "stream",
     "text": [
      "Train Data Sample:\n",
      "                                md5hash  fitzpatrick_scale  \\\n",
      "0  fd06d13de341cc75ad679916c5d7e6a6.jpg                  4   \n",
      "1  a4bb4e5206c4e89a303f470576fc5253.jpg                  1   \n",
      "2  c94ce27e389f96bda998e7c3fa5c4a2e.jpg                  5   \n",
      "3  ebcf2b50dd943c700d4e2b586fcd4425.jpg                  3   \n",
      "4  c77d6c895f05fea73a8f3704307036c0.jpg                  1   \n",
      "\n",
      "   fitzpatrick_centaur                             label nine_partition_label  \\\n",
      "0                    4                 prurigo-nodularis     benign-epidermal   \n",
      "1                    1  basal-cell-carcinoma-morpheiform  malignant-epidermal   \n",
      "2                    5                            keloid         inflammatory   \n",
      "3                    3              basal-cell-carcinoma  malignant-epidermal   \n",
      "4                    1                 prurigo-nodularis     benign-epidermal   \n",
      "\n",
      "  three_partition_label            qc  ddi_scale  \\\n",
      "0                benign           NaN         34   \n",
      "1             malignant           NaN         12   \n",
      "2        non-neoplastic  1 Diagnostic         56   \n",
      "3             malignant           NaN         34   \n",
      "4                benign           NaN         12   \n",
      "\n",
      "                                           file_path  \n",
      "0  prurigo-nodularis/fd06d13de341cc75ad679916c5d7...  \n",
      "1  basal-cell-carcinoma-morpheiform/a4bb4e5206c4e...  \n",
      "2        keloid/c94ce27e389f96bda998e7c3fa5c4a2e.jpg  \n",
      "3  basal-cell-carcinoma/ebcf2b50dd943c700d4e2b586...  \n",
      "4  prurigo-nodularis/c77d6c895f05fea73a8f37043070...  \n",
      "\n",
      "Test Data Sample:\n",
      "                                md5hash  fitzpatrick_scale  \\\n",
      "0  0844ae634f0e6e7ef1f73c2aeecbae0e.jpg                  2   \n",
      "1  3b290d262098f761d719aa07cf36c040.jpg                  4   \n",
      "2  cf561d08ac46d0fda678bff6621005ee.jpg                  2   \n",
      "3  e6371069be05c6b0a95b4b3f1bacc9a5.jpg                  4   \n",
      "4  f76cddb37265f97508f159078dcc7e7c.jpg                  5   \n",
      "\n",
      "   fitzpatrick_centaur   qc  ddi_scale  \n",
      "0                    2  NaN         12  \n",
      "1                    3  NaN         34  \n",
      "2                    3  NaN         12  \n",
      "3                    3  NaN         34  \n",
      "4                    5  NaN         56  \n"
     ]
    }
   ],
   "source": [
    "# Loading the Data \n",
    "train_df = pd.read_csv(\"C:/Users/Manik/Desktop/BTT Project/BTAI-AJL-Team-2/bttai-ajl-2025/train.csv\")\n",
    "test_df = pd.read_csv(\"C:/Users/Manik/Desktop/BTT Project/BTAI-AJL-Team-2/bttai-ajl-2025/test.csv\")\n",
    "\n",
    "# Add .jpg extension to md5hash column to reference the file_name\n",
    "train_df['md5hash'] = train_df['md5hash'].astype(str) + '.jpg'\n",
    "test_df['md5hash'] = test_df['md5hash'].astype(str) + '.jpg'\n",
    "\n",
    "# Combine label and md5hash to form the correct path\n",
    "train_df['file_path'] = train_df['label'] + '/' + train_df['md5hash']\n",
    "\n",
    "print(\"Train Data Sample:\")\n",
    "print(train_df.head())\n",
    "\n",
    "print(\"\\nTest Data Sample:\")\n",
    "print(test_df.head())"
   ]
  },
  {
   "cell_type": "markdown",
   "metadata": {},
   "source": [
    "The total number of images given is 4,500 images. <br>\n",
    "`qc` column has only 500 known responses in the full dataset. <br>\n",
    "In the training set, only 90 observations have `qc` values <br>"
   ]
  },
  {
   "cell_type": "code",
   "execution_count": 98,
   "metadata": {},
   "outputs": [
    {
     "name": "stdout",
     "output_type": "stream",
     "text": [
      "Number of Rows: 2860\n",
      "Number of Columns: 9\n"
     ]
    }
   ],
   "source": [
    "num_rows = (train_df.shape[0])\n",
    "num_columns = (train_df.shape[1])\n",
    "print(f\"Number of Rows: {num_rows}\")\n",
    "print(f\"Number of Columns: {num_columns}\")"
   ]
  },
  {
   "cell_type": "code",
   "execution_count": 99,
   "metadata": {},
   "outputs": [
    {
     "name": "stdout",
     "output_type": "stream",
     "text": [
      "md5hash                     0\n",
      "fitzpatrick_scale           0\n",
      "fitzpatrick_centaur         0\n",
      "label                       0\n",
      "nine_partition_label        0\n",
      "three_partition_label       0\n",
      "qc                       2770\n",
      "ddi_scale                   0\n",
      "file_path                   0\n",
      "dtype: int64\n"
     ]
    }
   ],
   "source": [
    "print(train_df.isna().sum())"
   ]
  },
  {
   "cell_type": "markdown",
   "metadata": {},
   "source": [
    "## QC Values and Normalized Weighting Plan\n",
    "\n",
    "The **qc** (quality control) column provides insight into the reliability of the dataset's labels. Instead of discarding uncertain or missing values, I will use a **normalized weighting strategy (0 to 1)** to influence how each image contributes to training.\n",
    "\n",
    "### Weight Assignment Strategy\n",
    "\n",
    "Since only **90 observations** have responses for **qc**, I will apply the following weight assignments:\n",
    "\n",
    "1. Highest Confidence (Full Influence)\n",
    "   - **`qc = 1`** → Diagnostic images (**Weight: 1.0**)  \n",
    "     _These are high-quality images that best represent the labeled condition._\n",
    "\n",
    "2. Medium Confidence (Partial Influence)\n",
    "   - **`qc = 5`** → Potentially diagnostic images (**Weight: 0.7**)  \n",
    "     _These images could still provide valuable learning but require fine-tuning._\n",
    "\n",
    "3. Low Confidence (No Contribution to Learning)\n",
    "   - **`qc = 2`** → Characteristic but non-diagnostic (**Weight: 0.0**)  \n",
    "     _These may not accurately represent the labeled condition._\n",
    "   - **`qc = 3`** → Wrongly labeled (**Weight: 0.0**)  \n",
    "     _Keeping these would introduce noise into the model._\n",
    "   - **`qc = 4`** → Undecided (**Weight: 0.0**)  \n",
    "     _These images lack clear diagnostic value._\n",
    "\n",
    "4. Unknown Values (Minimal Influence)\n",
    "   - **`qc = NaN`** → Missing quality control (**Weight: 0.2**)  \n",
    "     _Since most images do not have a `qc` value, I will assign a small weight to avoid completely ignoring them._\n",
    "\n",
    "## Why am I using this approach?\n",
    "-  **Preserves more training data** As most of the data has no qc value\n",
    "-  **Allows fine-tuning of `qc = 5` later** to determine the best contribution level.\n",
    "-  **Ensures high-quality images (`qc = 1`) contribute the most** while reducing the impact of uncertain/mislabeled ones."
   ]
  },
  {
   "cell_type": "code",
   "execution_count": 100,
   "metadata": {},
   "outputs": [
    {
     "name": "stdout",
     "output_type": "stream",
     "text": [
      "[nan '1 Diagnostic' '3 Wrongly labelled' '5 Potentially' '4 Other'\n",
      " '2 Characteristic']\n",
      "2770\n"
     ]
    }
   ],
   "source": [
    "print(train_df[\"qc\"].unique())\n",
    "print(train_df[\"qc\"].isna().sum())"
   ]
  },
  {
   "cell_type": "code",
   "execution_count": 101,
   "metadata": {},
   "outputs": [
    {
     "name": "stdout",
     "output_type": "stream",
     "text": [
      "    qc  qc_weight\n",
      "0  NaN        0.2\n",
      "1  NaN        0.2\n",
      "2  1.0        1.0\n",
      "3  NaN        0.2\n",
      "4  NaN        0.2\n",
      "5  NaN        0.2\n",
      "6  NaN        0.2\n",
      "7  NaN        0.2\n",
      "8  NaN        0.2\n",
      "9  NaN        0.2\n",
      "qc_weight\n",
      "0.2    2770\n",
      "1.0      76\n",
      "0.0       7\n",
      "0.7       7\n",
      "Name: count, dtype: int64\n"
     ]
    }
   ],
   "source": [
    "# Define a dictionary to map QC values to weights\n",
    "qc_weight_map = {\n",
    "    1: 1.0,  # Diagnostic\n",
    "    5: 0.7,  # Potentially diagnostic (can experiment with 0.8 or 0.9)\n",
    "    2: 0.0,  # Characteristic but non-diagnostic\n",
    "    3: 0.0,  # Wrongly labeled\n",
    "    4: 0.0   # Other\n",
    "}\n",
    "\n",
    "# Extract numeric values from the qc column\n",
    "train_df[\"qc\"] = train_df[\"qc\"].astype(str).str.extract(r\"(\\d+)\").astype(float)\n",
    "\n",
    "# Assign weights dynamically\n",
    "train_df[\"qc_weight\"] = train_df[\"qc\"].map(qc_weight_map).fillna(0.2)  # Default 0.2 for NaNs\n",
    "\n",
    "# Checking\n",
    "print(train_df[[\"qc\", \"qc_weight\"]].head(10))\n",
    "print(train_df[\"qc_weight\"].value_counts())\n"
   ]
  },
  {
   "cell_type": "markdown",
   "metadata": {},
   "source": [
    "### Dropped the orignal column qc from the training data \n",
    "#### Have to do the same on the test dataset while evaluating"
   ]
  },
  {
   "cell_type": "code",
   "execution_count": 102,
   "metadata": {},
   "outputs": [],
   "source": [
    "# Dropping the original qc column \n",
    "train_df.drop('qc', axis = 1, inplace=True)"
   ]
  },
  {
   "cell_type": "code",
   "execution_count": 103,
   "metadata": {},
   "outputs": [
    {
     "data": {
      "image/png": "[encoded data removed]",
      "text/plain": [
       "<Figure size 800x500 with 1 Axes>"
      ]
     },
     "metadata": {},
     "output_type": "display_data"
    }
   ],
   "source": [
    "plt.figure(figsize=(8, 5))\n",
    "sns.histplot(train_df[\"qc_weight\"], bins=15, kde=True)\n",
    "plt.title(\"Distribution of QC Weights\")\n",
    "plt.show()\n"
   ]
  },
  {
   "cell_type": "markdown",
   "metadata": {},
   "source": [
    "#### There is a distribution imbalance in qc_weight. Might consider data augmentation techniques later. Also need to play around with the `qc_weight` values for `qc = 5` later. "
   ]
  },
  {
   "cell_type": "code",
   "execution_count": 104,
   "metadata": {},
   "outputs": [
    {
     "name": "stdout",
     "output_type": "stream",
     "text": [
      "<class 'pandas.core.frame.DataFrame'>\n",
      "RangeIndex: 2860 entries, 0 to 2859\n",
      "Data columns (total 9 columns):\n",
      " #   Column                 Non-Null Count  Dtype  \n",
      "---  ------                 --------------  -----  \n",
      " 0   md5hash                2860 non-null   object \n",
      " 1   fitzpatrick_scale      2860 non-null   int64  \n",
      " 2   fitzpatrick_centaur    2860 non-null   int64  \n",
      " 3   label                  2860 non-null   object \n",
      " 4   nine_partition_label   2860 non-null   object \n",
      " 5   three_partition_label  2860 non-null   object \n",
      " 6   ddi_scale              2860 non-null   int64  \n",
      " 7   file_path              2860 non-null   object \n",
      " 8   qc_weight              2860 non-null   float64\n",
      "dtypes: float64(1), int64(3), object(5)\n",
      "memory usage: 201.2+ KB\n",
      "None\n",
      "       fitzpatrick_scale  fitzpatrick_centaur    ddi_scale    qc_weight\n",
      "count        2860.000000          2860.000000  2860.000000  2860.000000\n",
      "mean            2.524476             2.095455    23.547552     0.221993\n",
      "std             1.474428             1.510942    15.530522     0.131298\n",
      "min            -1.000000            -1.000000    -1.000000     0.000000\n",
      "25%             2.000000             1.000000    12.000000     0.200000\n",
      "50%             2.000000             2.000000    12.000000     0.200000\n",
      "75%             3.000000             3.000000    34.000000     0.200000\n",
      "max             6.000000             6.000000    56.000000     1.000000\n"
     ]
    }
   ],
   "source": [
    "# Display basic info\n",
    "print(train_df.info())\n",
    "print(train_df.describe())"
   ]
  },
  {
   "cell_type": "markdown",
   "metadata": {},
   "source": [
    "Dropping the `md5hash` and `file_path` (Unnecessary text columns)"
   ]
  },
  {
   "cell_type": "code",
   "execution_count": 106,
   "metadata": {},
   "outputs": [],
   "source": [
    "label_encoder = LabelEncoder()\n",
    "train_df[\"label_encoded\"] = label_encoder.fit_transform(train_df[\"label\"])\n",
    "train_df[\"nine_partition_label_encoded\"] = label_encoder.fit_transform(train_df[\"nine_partition_label\"])\n",
    "train_df[\"three_partition_label_encoded\"] = label_encoder.fit_transform(train_df[\"three_partition_label\"])"
   ]
  },
  {
   "cell_type": "code",
   "execution_count": 107,
   "metadata": {},
   "outputs": [],
   "source": [
    "train_df.drop(columns=[\"md5hash\", \"file_path\", \"label\", \"nine_partition_label\", \"three_partition_label\"], inplace=True)"
   ]
  },
  {
   "cell_type": "markdown",
   "metadata": {},
   "source": [
    "#### I'm assuming that the (-1) values in the fitzpatrick scale are missing values. "
   ]
  },
  {
   "cell_type": "markdown",
   "metadata": {},
   "source": []
  }
 ],
 "metadata": {
  "kernelspec": {
   "display_name": ".venv",
   "language": "python",
   "name": "python3"
  },
  "language_info": {
   "codemirror_mode": {
    "name": "ipython",
    "version": 3
   },
   "file_extension": ".py",
   "mimetype": "text/x-python",
   "name": "python",
   "nbconvert_exporter": "python",
   "pygments_lexer": "ipython3",
   "version": "3.12.1"
  }
 },
 "nbformat": 4,
 "nbformat_minor": 2
}
