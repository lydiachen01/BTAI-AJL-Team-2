{
 "cells": [
  {
   "cell_type": "code",
   "execution_count": 58,
   "metadata": {},
   "outputs": [],
   "source": [
    "import os\n",
    "import numpy as np\n",
    "import pandas as pd\n",
    "import matplotlib.pyplot as plt\n",
    "import seaborn as sns\n",
    "import tensorflow as tf\n",
    "from sklearn.model_selection import train_test_split\n",
    "from sklearn.preprocessing import LabelEncoder\n",
    "from tensorflow.keras.preprocessing.image import ImageDataGenerator\n",
    "from tensorflow.keras.models import Sequential\n",
    "from tensorflow.keras.layers import Conv2D, MaxPooling2D, Flatten, Dense, Dropout\n",
    "from tensorflow.keras.callbacks import EarlyStopping"
   ]
  },
  {
   "cell_type": "code",
   "execution_count": 59,
   "metadata": {},
   "outputs": [
    {
     "name": "stdout",
     "output_type": "stream",
     "text": [
      "Train Data Sample:\n",
      "                                md5hash  fitzpatrick_scale  \\\n",
      "0  fd06d13de341cc75ad679916c5d7e6a6.jpg                  4   \n",
      "1  a4bb4e5206c4e89a303f470576fc5253.jpg                  1   \n",
      "2  c94ce27e389f96bda998e7c3fa5c4a2e.jpg                  5   \n",
      "3  ebcf2b50dd943c700d4e2b586fcd4425.jpg                  3   \n",
      "4  c77d6c895f05fea73a8f3704307036c0.jpg                  1   \n",
      "\n",
      "   fitzpatrick_centaur                             label nine_partition_label  \\\n",
      "0                    4                 prurigo-nodularis     benign-epidermal   \n",
      "1                    1  basal-cell-carcinoma-morpheiform  malignant-epidermal   \n",
      "2                    5                            keloid         inflammatory   \n",
      "3                    3              basal-cell-carcinoma  malignant-epidermal   \n",
      "4                    1                 prurigo-nodularis     benign-epidermal   \n",
      "\n",
      "  three_partition_label            qc  ddi_scale  \\\n",
      "0                benign           NaN         34   \n",
      "1             malignant           NaN         12   \n",
      "2        non-neoplastic  1 Diagnostic         56   \n",
      "3             malignant           NaN         34   \n",
      "4                benign           NaN         12   \n",
      "\n",
      "                                           file_path  \n",
      "0  prurigo-nodularis/fd06d13de341cc75ad679916c5d7...  \n",
      "1  basal-cell-carcinoma-morpheiform/a4bb4e5206c4e...  \n",
      "2        keloid/c94ce27e389f96bda998e7c3fa5c4a2e.jpg  \n",
      "3  basal-cell-carcinoma/ebcf2b50dd943c700d4e2b586...  \n",
      "4  prurigo-nodularis/c77d6c895f05fea73a8f37043070...  \n",
      "\n",
      "Test Data Sample:\n",
      "                                md5hash  fitzpatrick_scale  \\\n",
      "0  0844ae634f0e6e7ef1f73c2aeecbae0e.jpg                  2   \n",
      "1  3b290d262098f761d719aa07cf36c040.jpg                  4   \n",
      "2  cf561d08ac46d0fda678bff6621005ee.jpg                  2   \n",
      "3  e6371069be05c6b0a95b4b3f1bacc9a5.jpg                  4   \n",
      "4  f76cddb37265f97508f159078dcc7e7c.jpg                  5   \n",
      "\n",
      "   fitzpatrick_centaur   qc  ddi_scale  \n",
      "0                    2  NaN         12  \n",
      "1                    3  NaN         34  \n",
      "2                    3  NaN         12  \n",
      "3                    3  NaN         34  \n",
      "4                    5  NaN         56  \n"
     ]
    }
   ],
   "source": [
    "# Loading the Data \n",
    "train_df = pd.read_csv(\"C:/Users/Manik/Desktop/BTT Project/BTAI-AJL-Team-2/bttai-ajl-2025/train.csv\")\n",
    "test_df = pd.read_csv(\"C:/Users/Manik/Desktop/BTT Project/BTAI-AJL-Team-2/bttai-ajl-2025/test.csv\")\n",
    "\n",
    "# Add .jpg extension to md5hash column to reference the file_name\n",
    "train_df['md5hash'] = train_df['md5hash'].astype(str) + '.jpg'\n",
    "test_df['md5hash'] = test_df['md5hash'].astype(str) + '.jpg'\n",
    "\n",
    "# Combine label and md5hash to form the correct path\n",
    "train_df['file_path'] = train_df['label'] + '/' + train_df['md5hash']\n",
    "\n",
    "print(\"Train Data Sample:\")\n",
    "print(train_df.head())\n",
    "\n",
    "print(\"\\nTest Data Sample:\")\n",
    "print(test_df.head())"
   ]
  },
  {
   "cell_type": "markdown",
   "metadata": {},
   "source": [
    "The total number of images given is 4,500 images. <br>\n",
    "`qc` column has only 500 known responses in the full dataset. <br>\n",
    "In the training set, only 90 observations have `qc` values <br>"
   ]
  },
  {
   "cell_type": "code",
   "execution_count": 60,
   "metadata": {},
   "outputs": [
    {
     "name": "stdout",
     "output_type": "stream",
     "text": [
      "Number of Rows: 2860\n",
      "Number of Columns: 9\n"
     ]
    }
   ],
   "source": [
    "num_rows = (train_df.shape[0])\n",
    "num_columns = (train_df.shape[1])\n",
    "print(f\"Number of Rows: {num_rows}\")\n",
    "print(f\"Number of Columns: {num_columns}\")"
   ]
  },
  {
   "cell_type": "code",
   "execution_count": 61,
   "metadata": {},
   "outputs": [
    {
     "name": "stdout",
     "output_type": "stream",
     "text": [
      "md5hash                     0\n",
      "fitzpatrick_scale           0\n",
      "fitzpatrick_centaur         0\n",
      "label                       0\n",
      "nine_partition_label        0\n",
      "three_partition_label       0\n",
      "qc                       2770\n",
      "ddi_scale                   0\n",
      "file_path                   0\n",
      "dtype: int64\n"
     ]
    }
   ],
   "source": [
    "print(train_df.isna().sum())"
   ]
  },
  {
   "cell_type": "markdown",
   "metadata": {},
   "source": [
    "## QC Values and Normalized Weighting Plan\n",
    "\n",
    "The **qc** (quality control) column provides insight into the reliability of the dataset's labels. Instead of discarding uncertain or missing values, I will use a **normalized weighting strategy (0 to 1)** to influence how each image contributes to training.\n",
    "\n",
    "### Weight Assignment Strategy\n",
    "\n",
    "Since only **90 observations** have responses for **qc**, I will apply the following weight assignments:\n",
    "\n",
    "1. Highest Confidence (Full Influence)\n",
    "   - **`qc = 1`** → Diagnostic images (**Weight: 1.0**)  \n",
    "     _These are high-quality images that best represent the labeled condition._\n",
    "\n",
    "2. Medium Confidence (Partial Influence)\n",
    "   - **`qc = 5`** → Potentially diagnostic images (**Weight: 0.7**)  \n",
    "     _These images could still provide valuable learning but require fine-tuning._\n",
    "\n",
    "3. Low Confidence (No Contribution to Learning)\n",
    "   - **`qc = 2`** → Characteristic but non-diagnostic (**Weight: 0.0**)  \n",
    "     _These may not accurately represent the labeled condition._\n",
    "   - **`qc = 3`** → Wrongly labeled (**Weight: 0.0**)  \n",
    "     _Keeping these would introduce noise into the model._\n",
    "   - **`qc = 4`** → Undecided (**Weight: 0.0**)  \n",
    "     _These images lack clear diagnostic value._\n",
    "\n",
    "4. Unknown Values (Minimal Influence)\n",
    "   - **`qc = NaN`** → Missing quality control (**Weight: 0.2**)  \n",
    "     _Since most images do not have a `qc` value, I will assign a small weight to avoid completely ignoring them._\n",
    "\n",
    "## Why am I using this approach?\n",
    "-  **Preserves more training data** As most of the data has no qc value\n",
    "-  **Allows fine-tuning of `qc = 5` later** to determine the best contribution level.\n",
    "-  **Ensures high-quality images (`qc = 1`) contribute the most** while reducing the impact of uncertain/mislabeled ones."
   ]
  },
  {
   "cell_type": "code",
   "execution_count": 62,
   "metadata": {},
   "outputs": [
    {
     "name": "stdout",
     "output_type": "stream",
     "text": [
      "[nan '1 Diagnostic' '3 Wrongly labelled' '5 Potentially' '4 Other'\n",
      " '2 Characteristic']\n",
      "2770\n"
     ]
    }
   ],
   "source": [
    "print(train_df[\"qc\"].unique())\n",
    "print(train_df[\"qc\"].isna().sum())"
   ]
  },
  {
   "cell_type": "code",
   "execution_count": 63,
   "metadata": {},
   "outputs": [
    {
     "name": "stdout",
     "output_type": "stream",
     "text": [
      "    qc  qc_weight\n",
      "0  NaN        0.2\n",
      "1  NaN        0.2\n",
      "2  1.0        1.0\n",
      "3  NaN        0.2\n",
      "4  NaN        0.2\n",
      "5  NaN        0.2\n",
      "6  NaN        0.2\n",
      "7  NaN        0.2\n",
      "8  NaN        0.2\n",
      "9  NaN        0.2\n",
      "qc_weight\n",
      "0.2    2770\n",
      "1.0      76\n",
      "0.0       7\n",
      "0.7       7\n",
      "Name: count, dtype: int64\n"
     ]
    }
   ],
   "source": [
    "# Define a dictionary to map QC values to weights\n",
    "qc_weight_map = {\n",
    "    1: 1.0,  # Diagnostic\n",
    "    5: 0.7,  # Potentially diagnostic (can experiment with 0.8 or 0.9)\n",
    "    2: 0.0,  # Characteristic but non-diagnostic\n",
    "    3: 0.0,  # Wrongly labeled\n",
    "    4: 0.0   # Other\n",
    "}\n",
    "\n",
    "# Extract numeric values from the qc column\n",
    "train_df[\"qc\"] = train_df[\"qc\"].astype(str).str.extract(r\"(\\d+)\").astype(float)\n",
    "\n",
    "# Assign weights dynamically\n",
    "train_df[\"qc_weight\"] = train_df[\"qc\"].map(qc_weight_map).fillna(0.2)  # Default 0.2 for NaNs\n",
    "\n",
    "# Checking\n",
    "print(train_df[[\"qc\", \"qc_weight\"]].head(10))\n",
    "print(train_df[\"qc_weight\"].value_counts())\n"
   ]
  },
  {
   "cell_type": "markdown",
   "metadata": {},
   "source": [
    "### Dropped the orignal column qc from the training data \n",
    "#### Have to do the same on the test dataset while evaluating"
   ]
  },
  {
   "cell_type": "code",
   "execution_count": 64,
   "metadata": {},
   "outputs": [],
   "source": [
    "# Dropping the original qc column \n",
    "train_df.drop('qc', axis = 1, inplace=True)"
   ]
  },
  {
   "cell_type": "code",
   "execution_count": 65,
   "metadata": {},
   "outputs": [
    {
     "data": {
      "image/png": "[encoded data removed]",
      "text/plain": [
       "<Figure size 800x500 with 1 Axes>"
      ]
     },
     "metadata": {},
     "output_type": "display_data"
    }
   ],
   "source": [
    "plt.figure(figsize=(8, 5))\n",
    "sns.histplot(train_df[\"qc_weight\"], bins=15, kde=True)\n",
    "plt.title(\"Distribution of QC Weights\")\n",
    "plt.show()\n"
   ]
  },
  {
   "cell_type": "markdown",
   "metadata": {},
   "source": [
    "#### There is a distribution imbalance in qc_weight. Might consider data augmentation techniques later. Also need to play around with the `qc_weight` values for `qc = 5` later. "
   ]
  },
  {
   "cell_type": "code",
   "execution_count": 66,
   "metadata": {},
   "outputs": [
    {
     "name": "stdout",
     "output_type": "stream",
     "text": [
      "<class 'pandas.core.frame.DataFrame'>\n",
      "RangeIndex: 2860 entries, 0 to 2859\n",
      "Data columns (total 9 columns):\n",
      " #   Column                 Non-Null Count  Dtype  \n",
      "---  ------                 --------------  -----  \n",
      " 0   md5hash                2860 non-null   object \n",
      " 1   fitzpatrick_scale      2860 non-null   int64  \n",
      " 2   fitzpatrick_centaur    2860 non-null   int64  \n",
      " 3   label                  2860 non-null   object \n",
      " 4   nine_partition_label   2860 non-null   object \n",
      " 5   three_partition_label  2860 non-null   object \n",
      " 6   ddi_scale              2860 non-null   int64  \n",
      " 7   file_path              2860 non-null   object \n",
      " 8   qc_weight              2860 non-null   float64\n",
      "dtypes: float64(1), int64(3), object(5)\n",
      "memory usage: 201.2+ KB\n",
      "None\n",
      "       fitzpatrick_scale  fitzpatrick_centaur    ddi_scale    qc_weight\n",
      "count        2860.000000          2860.000000  2860.000000  2860.000000\n",
      "mean            2.524476             2.095455    23.547552     0.221993\n",
      "std             1.474428             1.510942    15.530522     0.131298\n",
      "min            -1.000000            -1.000000    -1.000000     0.000000\n",
      "25%             2.000000             1.000000    12.000000     0.200000\n",
      "50%             2.000000             2.000000    12.000000     0.200000\n",
      "75%             3.000000             3.000000    34.000000     0.200000\n",
      "max             6.000000             6.000000    56.000000     1.000000\n"
     ]
    }
   ],
   "source": [
    "# Display basic info\n",
    "print(train_df.info())\n",
    "print(train_df.describe())"
   ]
  },
  {
   "cell_type": "markdown",
   "metadata": {},
   "source": [
    "#### Handling the Fitzpatrick Data \n",
    "##### I'm assuming that the (-1) values in the fitzpatrick scale are missing values. "
   ]
  },
  {
   "cell_type": "code",
   "execution_count": 67,
   "metadata": {},
   "outputs": [
    {
     "name": "stderr",
     "output_type": "stream",
     "text": [
      "C:\\Users\\Manik\\AppData\\Local\\Temp\\ipykernel_12940\\122721436.py:1: FutureWarning: A value is trying to be set on a copy of a DataFrame or Series through chained assignment using an inplace method.\n",
      "The behavior will change in pandas 3.0. This inplace method will never work because the intermediate object on which we are setting values always behaves as a copy.\n",
      "\n",
      "For example, when doing 'df[col].method(value, inplace=True)', try using 'df.method({col: value}, inplace=True)' or df[col] = df[col].method(value) instead, to perform the operation inplace on the original object.\n",
      "\n",
      "\n",
      "  train_df[\"fitzpatrick_scale\"].replace(-1, np.nan, inplace=True)\n",
      "C:\\Users\\Manik\\AppData\\Local\\Temp\\ipykernel_12940\\122721436.py:2: FutureWarning: A value is trying to be set on a copy of a DataFrame or Series through chained assignment using an inplace method.\n",
      "The behavior will change in pandas 3.0. This inplace method will never work because the intermediate object on which we are setting values always behaves as a copy.\n",
      "\n",
      "For example, when doing 'df[col].method(value, inplace=True)', try using 'df.method({col: value}, inplace=True)' or df[col] = df[col].method(value) instead, to perform the operation inplace on the original object.\n",
      "\n",
      "\n",
      "  train_df[\"fitzpatrick_centaur\"].replace(-1, np.nan, inplace=True)\n"
     ]
    }
   ],
   "source": [
    "train_df[\"fitzpatrick_scale\"].replace(-1, np.nan, inplace=True)\n",
    "train_df[\"fitzpatrick_centaur\"].replace(-1, np.nan, inplace=True)"
   ]
  },
  {
   "cell_type": "markdown",
   "metadata": {},
   "source": [
    "### Splitting the data into features and label "
   ]
  },
  {
   "cell_type": "code",
   "execution_count": 68,
   "metadata": {},
   "outputs": [],
   "source": [
    "# Define the features (excluding the target variable for now)\n",
    "features = train_df.drop(columns=[\"label\"])  # Keep label separate for now\n",
    "target = train_df[\"label\"]  # This is the classification target\n",
    "\n",
    "# Perform the train-validation split (80% train, 20% validation) (Also added stratification)\n",
    "X_train, X_val, y_train, y_val = train_test_split(features, target, test_size=0.2, random_state=42, stratify=target)"
   ]
  },
  {
   "cell_type": "markdown",
   "metadata": {},
   "source": [
    "### Why I Used Median? \n",
    "The fitzpatrick data is discrete ordered data. <br>\n",
    "The median preserves the order of rank better than the mean. <br>\n",
    "Also, the median is less sensitive than the mean. \n",
    "\n",
    "#### But also to re-explore -> (Mode might also work)\n",
    "Using the median might misrepresent skin types if the data is imbalanced. <br>\n",
    "I need to figure out if the data is highly imbalanced, for example, if 80% are type-4, the median will impute to the dominant category. <br>\n",
    "\n",
    "##### Perhaps training another model to Predict Missing Fitzpatrick Values??? "
   ]
  },
  {
   "cell_type": "code",
   "execution_count": 69,
   "metadata": {},
   "outputs": [
    {
     "name": "stdout",
     "output_type": "stream",
     "text": [
      "82\n",
      "fitzpatrick_scale\n",
      "2.0    0.352675\n",
      "3.0    0.203989\n",
      "1.0    0.187670\n",
      "4.0    0.136899\n",
      "5.0    0.085675\n",
      "6.0    0.033092\n",
      "Name: proportion, dtype: float64\n"
     ]
    }
   ],
   "source": [
    "print(X_train[\"fitzpatrick_scale\"].isna().sum())  # Check how many are missing\n",
    "print(X_train[\"fitzpatrick_scale\"].value_counts(normalize=True))  # Check class distribution"
   ]
  },
  {
   "cell_type": "code",
   "execution_count": 70,
   "metadata": {},
   "outputs": [
    {
     "name": "stderr",
     "output_type": "stream",
     "text": [
      "C:\\Users\\Manik\\AppData\\Local\\Temp\\ipykernel_12940\\1687364552.py:2: FutureWarning: \n",
      "\n",
      "Passing `palette` without assigning `hue` is deprecated and will be removed in v0.14.0. Assign the `x` variable to `hue` and set `legend=False` for the same effect.\n",
      "\n",
      "  sns.countplot(x=X_train[\"fitzpatrick_scale\"], palette=\"coolwarm\",)\n"
     ]
    },
    {
     "data": {
      "image/png": "[encoded data removed]",
      "text/plain": [
       "<Figure size 1000x500 with 1 Axes>"
      ]
     },
     "metadata": {},
     "output_type": "display_data"
    }
   ],
   "source": [
    "plt.figure(figsize=(10,5))\n",
    "sns.countplot(x=X_train[\"fitzpatrick_scale\"], palette=\"coolwarm\",)\n",
    "plt.title(\"Fitzpatrick Skin Type Distribution\")\n",
    "plt.xlabel(\"Fitzpatrick Scale (1-6)\")\n",
    "plt.ylabel(\"Count\")\n",
    "plt.show()"
   ]
  },
  {
   "cell_type": "markdown",
   "metadata": {},
   "source": [
    "#### Interpretation of Fitzpatrick scale distribution\n",
    "Type 2 (37.6%) is most common. Type 3 (19.6%), Type 1 (18%), and Type 4 (13.1%) follow <br>\n",
    "Type 5 (8.2%) and Type 6 (3.2%) are far less common. <br>\n",
    "`Type 6 is 10 times less frequent than Type 2`"
   ]
  },
  {
   "cell_type": "code",
   "execution_count": 71,
   "metadata": {},
   "outputs": [
    {
     "name": "stdout",
     "output_type": "stream",
     "text": [
      "label\n",
      "squamous-cell-carcinoma               0.142483\n",
      "basal-cell-carcinoma                  0.114948\n",
      "folliculitis                          0.083479\n",
      "acne-vulgaris                         0.081731\n",
      "melanoma                              0.063374\n",
      "eczema                                0.050262\n",
      "acne                                  0.045017\n",
      "mycosis-fungoides                     0.044580\n",
      "actinic-keratosis                     0.042832\n",
      "prurigo-nodularis                     0.041521\n",
      "kaposi-sarcoma                        0.038024\n",
      "keloid                                0.038024\n",
      "dermatomyositis                       0.037150\n",
      "superficial-spreading-melanoma-ssm    0.028846\n",
      "pyogenic-granuloma                    0.027535\n",
      "malignant-melanoma                    0.027098\n",
      "epidermal-nevus                       0.022290\n",
      "dyshidrotic-eczema                    0.020105\n",
      "dermatofibroma                        0.019231\n",
      "seborrheic-keratosis                  0.016608\n",
      "basal-cell-carcinoma-morpheiform      0.014860\n",
      "Name: proportion, dtype: float64\n"
     ]
    }
   ],
   "source": [
    "print(y_train.value_counts(normalize=True))"
   ]
  },
  {
   "cell_type": "markdown",
   "metadata": {},
   "source": [
    "### Data Augmentation for Fitzpatrick Type 3, 4, and 6"
   ]
  },
  {
   "cell_type": "code",
   "execution_count": null,
   "metadata": {},
   "outputs": [],
   "source": [
    "from tensorflow.keras.preprocessing.image import load_img, img_to_array\n",
    "\n",
    "# Define paths based on the correct structure\n",
    "base_dir = \"C:/Users/Manik/Desktop/BTT Project/BTAI-AJL-Team-2/bttai-ajl-2025\"\n",
    "train_images_dir = os.path.join(base_dir, \"train\", \"train\")  # Path to original images\n",
    "augmented_images_dir = os.path.join(base_dir, \"train\", \"augmented_train\")  # Path for augmented images\n",
    "\n",
    "# Ensure augmented_train directory exists\n",
    "os.makedirs(augmented_images_dir, exist_ok=True)\n",
    "\n",
    "# Define underrepresented Fitzpatrick skin types\n",
    "underrepresented_types = [4, 5, 6]\n",
    "\n",
    "# Filter the dataset for these Fitzpatrick types\n",
    "filtered_df = train_df[train_df[\"fitzpatrick_scale\"].isin(underrepresented_types)]\n",
    "\n",
    "print(f\"Found {len(filtered_df)} images to augment.\")\n",
    "\n",
    "# Define augmentation transformations\n",
    "datagen = ImageDataGenerator(\n",
    "    rotation_range=30,\n",
    "    width_shift_range=0.2,\n",
    "    height_shift_range=0.2,\n",
    "    shear_range=0.2,\n",
    "    zoom_range=0.2,\n",
    "    horizontal_flip=True,\n",
    "    brightness_range=(0.8, 1.2),\n",
    "    fill_mode='nearest'\n",
    ")\n",
    "\n",
    "# Augment selected images\n",
    "for index, row in filtered_df.iterrows():\n",
    "    file_name = row[\"md5hash\"]\n",
    "    label = row[\"label\"]\n",
    "\n",
    "    # Construct paths\n",
    "    source_path = os.path.join(train_images_dir, label, file_name)\n",
    "    dest_folder = os.path.join(augmented_images_dir, label)\n",
    "\n",
    "    # Ensure destination folder exists\n",
    "    os.makedirs(dest_folder, exist_ok=True)\n",
    "\n",
    "    if os.path.exists(source_path):\n",
    "        # Load and preprocess image\n",
    "        image = load_img(source_path)\n",
    "        image_array = img_to_array(image)\n",
    "        image_array = np.expand_dims(image_array, axis=0)\n",
    "\n",
    "        # Generate 5 augmented images per original image\n",
    "        for i, batch in enumerate(datagen.flow(image_array, batch_size=1, save_to_dir=dest_folder, save_prefix=\"aug\", save_format=\"jpg\")):\n",
    "            if i >= 5:  # Limit to 5 new images per input\n",
    "                break\n",
    "\n",
    "        print(f\"Saved augmented images in {dest_folder}\")\n",
    "    else:\n",
    "        print(f\"⚠ Warning: Image {source_path} not found! Check filename or path.\")\n",
    "\n",
    "# Combine Augmented Data with Original Train Data\n",
    "combined_train_images_dir = os.path.join(base_dir, \"train\", \"combined_train\")\n",
    "\n",
    "# Merge original and augmented data into one folder\n",
    "if not os.path.exists(combined_train_images_dir):\n",
    "    os.makedirs(combined_train_images_dir)\n",
    "\n",
    "# Copy original images\n",
    "for label_folder in os.listdir(train_images_dir):\n",
    "    src_folder = os.path.join(train_images_dir, label_folder)\n",
    "    dest_folder = os.path.join(combined_train_images_dir, label_folder)\n",
    "\n",
    "    os.makedirs(dest_folder, exist_ok=True)\n",
    "\n",
    "    for file in os.listdir(src_folder):\n",
    "        src_file = os.path.join(src_folder, file)\n",
    "        dest_file = os.path.join(dest_folder, file)\n",
    "\n",
    "        if not os.path.exists(dest_file):\n",
    "            os.system(f'copy \"{src_file}\" \"{dest_file}\"')\n",
    "\n",
    "# Copy augmented images\n",
    "for label_folder in os.listdir(augmented_images_dir):\n",
    "    src_folder = os.path.join(augmented_images_dir, label_folder)\n",
    "    dest_folder = os.path.join(combined_train_images_dir, label_folder)\n",
    "\n",
    "    os.makedirs(dest_folder, exist_ok=True)\n",
    "\n",
    "    for file in os.listdir(src_folder):\n",
    "        src_file = os.path.join(src_folder, file)\n",
    "        dest_file = os.path.join(dest_folder, file)\n",
    "\n",
    "        if not os.path.exists(dest_file):\n",
    "            os.system(f'copy \"{src_file}\" \"{dest_file}\"')\n",
    "\n",
    "print(\"Merged original and augmented images into:\", combined_train_images_dir)\n",
    "\n",
    "# ==== Train-Validation Split ====\n",
    "features = train_df.drop(columns=[\"label\"])  # Features\n",
    "target = train_df[\"label\"]  # Classification Target\n",
    "\n",
    "X_train, X_val, y_train, y_val = train_test_split(\n",
    "    features, target, test_size=0.2, random_state=42, stratify=target\n",
    ")\n",
    "\n",
    "print(f\"Training set size: {X_train.shape[0]}\")\n",
    "print(f\"Validation set size: {X_val.shape[0]}\")"
   ]
  },
  {
   "cell_type": "code",
   "execution_count": 73,
   "metadata": {},
   "outputs": [
    {
     "name": "stdout",
     "output_type": "stream",
     "text": [
      "✅ Successfully merged images into: C:/Users/Manik/Desktop/BTT Project/BTAI-AJL-Team-2/bttai-ajl-2025\\train\\combined_train\n"
     ]
    }
   ],
   "source": [
    "import os\n",
    "import shutil\n",
    "\n",
    "# Define paths\n",
    "base_dir = \"C:/Users/Manik/Desktop/BTT Project/BTAI-AJL-Team-2/bttai-ajl-2025\"\n",
    "train_images_dir = os.path.join(base_dir, \"train\", \"train\")  # Original images\n",
    "augmented_images_dir = os.path.join(base_dir, \"train\", \"augmented_train\")  # Augmented images\n",
    "combined_train_images_dir = os.path.join(base_dir, \"train\", \"combined_train\")  # Destination for merged data\n",
    "\n",
    "# Ensure the combined_train directory exists\n",
    "os.makedirs(combined_train_images_dir, exist_ok=True)\n",
    "\n",
    "def merge_folders(source_dir, destination_dir):\n",
    "    \"\"\"\n",
    "    Copies all files from subfolders in source_dir to matching subfolders in destination_dir.\n",
    "    Creates subfolders if they do not exist.\n",
    "    \"\"\"\n",
    "    for label_folder in os.listdir(source_dir):\n",
    "        src_folder = os.path.join(source_dir, label_folder)\n",
    "        dest_folder = os.path.join(destination_dir, label_folder)\n",
    "\n",
    "        # Ensure subfolder exists in destination\n",
    "        os.makedirs(dest_folder, exist_ok=True)\n",
    "\n",
    "        # Copy files from source to destination\n",
    "        for file in os.listdir(src_folder):\n",
    "            src_file = os.path.join(src_folder, file)\n",
    "            dest_file = os.path.join(dest_folder, file)\n",
    "\n",
    "            if not os.path.exists(dest_file):  # Avoid duplicate copies\n",
    "                shutil.copy2(src_file, dest_file)  # Preserves metadata (timestamps)\n",
    "\n",
    "# Merge original images into combined_train\n",
    "merge_folders(train_images_dir, combined_train_images_dir)\n",
    "\n",
    "# Merge augmented images into combined_train\n",
    "merge_folders(augmented_images_dir, combined_train_images_dir)\n",
    "\n",
    "print(f\"✅ Successfully merged images into: {combined_train_images_dir}\")\n"
   ]
  },
  {
   "cell_type": "code",
   "execution_count": 74,
   "metadata": {},
   "outputs": [
    {
     "name": "stderr",
     "output_type": "stream",
     "text": [
      "C:\\Users\\Manik\\AppData\\Local\\Temp\\ipykernel_12940\\2181385114.py:2: FutureWarning: \n",
      "\n",
      "Passing `palette` without assigning `hue` is deprecated and will be removed in v0.14.0. Assign the `y` variable to `hue` and set `legend=False` for the same effect.\n",
      "\n",
      "  sns.countplot(y=y_train, order=y_train.value_counts().index, palette=\"coolwarm\")\n"
     ]
    },
    {
     "data": {
      "image/png": "[encoded data removed]",
      "text/plain": [
       "<Figure size 1200x600 with 1 Axes>"
      ]
     },
     "metadata": {},
     "output_type": "display_data"
    }
   ],
   "source": [
    "plt.figure(figsize=(12, 6))\n",
    "sns.countplot(y=y_train, order=y_train.value_counts().index, palette=\"coolwarm\")\n",
    "plt.title(\"Distribution of Disease Labels in Training Set\")\n",
    "plt.xlabel(\"Count\")\n",
    "plt.ylabel(\"Disease Labels\")\n",
    "plt.show()"
   ]
  },
  {
   "cell_type": "markdown",
   "metadata": {},
   "source": [
    "#### Interpretation of Disease labels \n",
    "Squamous-cell carcinoma (14.2%) and Basal-cell carcinoma (11.5%) are most common. <br>\n",
    "Basal-cell carcinoma-morpheiform (1.5%) is the least common.<br>\n",
    "Many rare diseases (seborrheic keratosis, dermatofibroma) have less than 2% representation. <br>\n",
    "`This possibly might lead to poor model generalization for rare conditions`"
   ]
  },
  {
   "cell_type": "code",
   "execution_count": null,
   "metadata": {},
   "outputs": [],
   "source": [
    "# Label Encoding (Only Fit on Train Labels)\n",
    "label_encoder = LabelEncoder()\n",
    "y_train_encoded = label_encoder.fit_transform(y_train)\n",
    "y_val_encoded = label_encoder.transform(y_val)\n",
    "\n",
    "# Encoding Categorical Features Separately for Train & Val\n",
    "for col in [\"nine_partition_label\", \"three_partition_label\"]:\n",
    "    encoder = LabelEncoder()\n",
    "    X_train[col] = encoder.fit_transform(X_train[col])\n",
    "    X_val[col] = encoder.transform(X_val[col])  # Use same encoding as train\n",
    "\n",
    "# Drop Unnecessary Columns\n",
    "X_train.drop(columns=[\"md5hash\", \"file_path\", \"ddi_scale\"], inplace=True)\n",
    "X_val.drop(columns=[\"md5hash\", \"file_path\", \"ddi_scale\"], inplace=True)\n",
    "\n",
    "# Imputing Missing Values in Fitzpatrick Scale (After Split)\n",
    "X_train[\"fitzpatrick_scale\"].fillna(X_train[\"fitzpatrick_scale\"].median(), inplace=True)\n",
    "X_val[\"fitzpatrick_scale\"].fillna(X_train[\"fitzpatrick_scale\"].median(), inplace=True)  # Use train median for consistency\n",
    "\n",
    "X_train[\"fitzpatrick_centaur\"].fillna(X_train[\"fitzpatrick_centaur\"].median(), inplace=True)\n",
    "X_val[\"fitzpatrick_centaur\"].fillna(X_train[\"fitzpatrick_centaur\"].median(), inplace=True)  # Use train median"
   ]
  },
  {
   "cell_type": "markdown",
   "metadata": {},
   "source": [
    "# Model - Simple CNN for now...\n",
    "#### Image Data Preprocessing ->"
   ]
  },
  {
   "cell_type": "code",
   "execution_count": 81,
   "metadata": {},
   "outputs": [
    {
     "name": "stdout",
     "output_type": "stream",
     "text": [
      "Found 5597 images belonging to 21 classes.\n",
      "Found 1387 images belonging to 21 classes.\n"
     ]
    }
   ],
   "source": [
    "train_dir = \"C:/Users/Manik/Desktop/BTT Project/BTAI-AJL-Team-2/bttai-ajl-2025/train/combined_train/\"\n",
    "test_dir = \"C:/Users/Manik/Desktop/BTT Project/BTAI-AJL-Team-2/bttai-ajl-2025/test/test/\"\n",
    "\n",
    "# Image Data Augmentation for Training\n",
    "train_datagen = ImageDataGenerator(\n",
    "    rescale=1./255,         # Normalize pixel values between 0 and 1\n",
    "    validation_split=0.2    # Splitting data (80% train, 20% validation)\n",
    ")\n",
    "\n",
    "# Load Training and Validation Data\n",
    "train_generator = train_datagen.flow_from_directory(\n",
    "    train_dir,\n",
    "    target_size=(224, 224),\n",
    "    batch_size=32,\n",
    "    class_mode='sparse',  # Since we have multiple classes\n",
    "    subset='training'\n",
    ")\n",
    "\n",
    "val_generator = train_datagen.flow_from_directory(\n",
    "    train_dir,\n",
    "    target_size=(224, 224),\n",
    "    batch_size=32,\n",
    "    class_mode='sparse',\n",
    "    subset='validation'\n",
    ")"
   ]
  },
  {
   "cell_type": "markdown",
   "metadata": {},
   "source": [
    "#### Defining and Compiling CNN Model "
   ]
  },
  {
   "cell_type": "code",
   "execution_count": 82,
   "metadata": {},
   "outputs": [
    {
     "name": "stderr",
     "output_type": "stream",
     "text": [
      "c:\\Users\\Manik\\AppData\\Local\\Programs\\Python\\Python310\\lib\\site-packages\\keras\\src\\layers\\convolutional\\base_conv.py:107: UserWarning: Do not pass an `input_shape`/`input_dim` argument to a layer. When using Sequential models, prefer using an `Input(shape)` object as the first layer in the model instead.\n",
      "  super().__init__(activity_regularizer=activity_regularizer, **kwargs)\n"
     ]
    }
   ],
   "source": [
    "# Define CNN Model\n",
    "model = Sequential([\n",
    "    Conv2D(32, (3,3), activation='relu', input_shape=(224, 224, 3)),\n",
    "    MaxPooling2D(2,2),\n",
    "\n",
    "    Conv2D(64, (3,3), activation='relu'),\n",
    "    MaxPooling2D(2,2),\n",
    "\n",
    "    Conv2D(128, (3,3), activation='relu'),\n",
    "    MaxPooling2D(2,2),\n",
    "\n",
    "    Flatten(),\n",
    "    Dense(128, activation='relu'),\n",
    "    Dropout(0.5),  # Regularization to prevent overfitting\n",
    "    Dense(len(train_generator.class_indices), activation='softmax')  # Output layer with softmax\n",
    "])\n",
    "\n",
    "# Compile the model\n",
    "model.compile(optimizer='adam',\n",
    "              loss='sparse_categorical_crossentropy',\n",
    "              metrics=['accuracy'])"
   ]
  },
  {
   "cell_type": "markdown",
   "metadata": {},
   "source": [
    "#### Model Training \n",
    "### Specifying to use GPU\n",
    "Use the following code -> (In git bash) <br>\n",
    " "
   ]
  },
  {
   "cell_type": "code",
   "execution_count": 78,
   "metadata": {},
   "outputs": [],
   "source": [
    "# alias conda='C:/Users/Manik/miniconda3/Scripts/conda.exe'\n",
    "# alias activate='source C:/Users/Manik/miniconda3/Scripts/activate'\n",
    "# activate tf_gpu"
   ]
  },
  {
   "cell_type": "markdown",
   "metadata": {},
   "source": [
    "#### Model Performance Evaluation"
   ]
  },
  {
   "cell_type": "code",
   "execution_count": 83,
   "metadata": {},
   "outputs": [
    {
     "name": "stderr",
     "output_type": "stream",
     "text": [
      "c:\\Users\\Manik\\AppData\\Local\\Programs\\Python\\Python310\\lib\\site-packages\\keras\\src\\trainers\\data_adapters\\py_dataset_adapter.py:121: UserWarning: Your `PyDataset` class should call `super().__init__(**kwargs)` in its constructor. `**kwargs` can include `workers`, `use_multiprocessing`, `max_queue_size`. Do not pass these arguments to `fit()`, as they will be ignored.\n",
      "  self._warn_if_super_not_called()\n"
     ]
    },
    {
     "name": "stdout",
     "output_type": "stream",
     "text": [
      "Epoch 1/5\n",
      "\u001b[1m175/175\u001b[0m \u001b[32m━━━━━━━━━━━━━━━━━━━━\u001b[0m\u001b[37m\u001b[0m \u001b[1m0s\u001b[0m 784ms/step - accuracy: 0.1054 - loss: 3.0234"
     ]
    },
    {
     "name": "stderr",
     "output_type": "stream",
     "text": [
      "WARNING:absl:You are saving your model as an HDF5 file via `model.save()` or `keras.saving.save_model(model)`. This file format is considered legacy. We recommend using instead the native Keras format, e.g. `model.save('my_model.keras')` or `keras.saving.save_model(model, 'my_model.keras')`. \n"
     ]
    },
    {
     "name": "stdout",
     "output_type": "stream",
     "text": [
      "\u001b[1m175/175\u001b[0m \u001b[32m━━━━━━━━━━━━━━━━━━━━\u001b[0m\u001b[37m\u001b[0m \u001b[1m161s\u001b[0m 913ms/step - accuracy: 0.1055 - loss: 3.0226 - val_accuracy: 0.1168 - val_loss: 2.7812\n",
      "Epoch 2/5\n",
      "\u001b[1m175/175\u001b[0m \u001b[32m━━━━━━━━━━━━━━━━━━━━\u001b[0m\u001b[37m\u001b[0m \u001b[1m0s\u001b[0m 496ms/step - accuracy: 0.1535 - loss: 2.8003"
     ]
    },
    {
     "name": "stderr",
     "output_type": "stream",
     "text": [
      "WARNING:absl:You are saving your model as an HDF5 file via `model.save()` or `keras.saving.save_model(model)`. This file format is considered legacy. We recommend using instead the native Keras format, e.g. `model.save('my_model.keras')` or `keras.saving.save_model(model, 'my_model.keras')`. \n"
     ]
    },
    {
     "name": "stdout",
     "output_type": "stream",
     "text": [
      "\u001b[1m175/175\u001b[0m \u001b[32m━━━━━━━━━━━━━━━━━━━━\u001b[0m\u001b[37m\u001b[0m \u001b[1m97s\u001b[0m 552ms/step - accuracy: 0.1535 - loss: 2.8002 - val_accuracy: 0.1702 - val_loss: 2.7087\n",
      "Epoch 3/5\n",
      "\u001b[1m175/175\u001b[0m \u001b[32m━━━━━━━━━━━━━━━━━━━━\u001b[0m\u001b[37m\u001b[0m \u001b[1m0s\u001b[0m 511ms/step - accuracy: 0.1794 - loss: 2.6862"
     ]
    },
    {
     "name": "stderr",
     "output_type": "stream",
     "text": [
      "WARNING:absl:You are saving your model as an HDF5 file via `model.save()` or `keras.saving.save_model(model)`. This file format is considered legacy. We recommend using instead the native Keras format, e.g. `model.save('my_model.keras')` or `keras.saving.save_model(model, 'my_model.keras')`. \n"
     ]
    },
    {
     "name": "stdout",
     "output_type": "stream",
     "text": [
      "\u001b[1m175/175\u001b[0m \u001b[32m━━━━━━━━━━━━━━━━━━━━\u001b[0m\u001b[37m\u001b[0m \u001b[1m100s\u001b[0m 570ms/step - accuracy: 0.1793 - loss: 2.6862 - val_accuracy: 0.1673 - val_loss: 2.6607\n",
      "Epoch 4/5\n",
      "\u001b[1m175/175\u001b[0m \u001b[32m━━━━━━━━━━━━━━━━━━━━\u001b[0m\u001b[37m\u001b[0m \u001b[1m0s\u001b[0m 531ms/step - accuracy: 0.2017 - loss: 2.5710"
     ]
    },
    {
     "name": "stderr",
     "output_type": "stream",
     "text": [
      "WARNING:absl:You are saving your model as an HDF5 file via `model.save()` or `keras.saving.save_model(model)`. This file format is considered legacy. We recommend using instead the native Keras format, e.g. `model.save('my_model.keras')` or `keras.saving.save_model(model, 'my_model.keras')`. \n"
     ]
    },
    {
     "name": "stdout",
     "output_type": "stream",
     "text": [
      "\u001b[1m175/175\u001b[0m \u001b[32m━━━━━━━━━━━━━━━━━━━━\u001b[0m\u001b[37m\u001b[0m \u001b[1m103s\u001b[0m 590ms/step - accuracy: 0.2017 - loss: 2.5710 - val_accuracy: 0.1983 - val_loss: 2.6238\n",
      "Epoch 5/5\n",
      "\u001b[1m175/175\u001b[0m \u001b[32m━━━━━━━━━━━━━━━━━━━━\u001b[0m\u001b[37m\u001b[0m \u001b[1m101s\u001b[0m 579ms/step - accuracy: 0.2546 - loss: 2.4357 - val_accuracy: 0.2206 - val_loss: 2.6473\n"
     ]
    }
   ],
   "source": [
    "from tensorflow.keras.callbacks import EarlyStopping, ModelCheckpoint\n",
    "\n",
    "# Define callbacks\n",
    "early_stopping = EarlyStopping(monitor='val_loss', patience=5, restore_best_weights=True)\n",
    "model_checkpoint = ModelCheckpoint('best_model.h5', save_best_only=True, monitor='val_loss')\n",
    "\n",
    "# Train the model\n",
    "history = model.fit(\n",
    "    train_generator,\n",
    "    validation_data=val_generator,\n",
    "    epochs=5,\n",
    "    callbacks=[early_stopping, model_checkpoint]\n",
    ")"
   ]
  },
  {
   "cell_type": "code",
   "execution_count": 88,
   "metadata": {},
   "outputs": [],
   "source": [
    "# from sklearn.metrics import classification_report, confusion_matrix\n",
    "\n",
    "# # Get true labels and predictions\n",
    "# y_true = val_generator.classes\n",
    "# y_pred_probs = model.predict(val_generator)\n",
    "# y_pred = np.argmax(y_pred_probs, axis=1)  # Convert softmax output to class index\n",
    "\n",
    "# # Print Precision, Recall, F1-score\n",
    "# print(classification_report(y_true, y_pred, target_names=train_generator.class_indices.keys()))\n",
    "\n",
    "# # Plot Confusion Matrix\n",
    "# cm = confusion_matrix(y_true, y_pred)\n",
    "# plt.figure(figsize=(12,8))\n",
    "# sns.heatmap(cm, annot=True, fmt='d', xticklabels=train_generator.class_indices.keys(), yticklabels=train_generator.class_indices.keys())\n",
    "# plt.xlabel('Predicted Label')\n",
    "# plt.ylabel('True Label')\n",
    "# plt.title('Confusion Matrix')\n",
    "# plt.show()"
   ]
  },
  {
   "cell_type": "code",
   "execution_count": null,
   "metadata": {},
   "outputs": [],
   "source": []
  }
 ],
 "metadata": {
  "kernelspec": {
   "display_name": "Python 3",
   "language": "python",
   "name": "python3"
  },
  "language_info": {
   "codemirror_mode": {
    "name": "ipython",
    "version": 3
   },
   "file_extension": ".py",
   "mimetype": "text/x-python",
   "name": "python",
   "nbconvert_exporter": "python",
   "pygments_lexer": "ipython3",
   "version": "3.10.11"
  }
 },
 "nbformat": 4,
 "nbformat_minor": 2
}
