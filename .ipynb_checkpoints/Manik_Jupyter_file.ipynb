{
 "cells": [
  {
   "cell_type": "code",
   "execution_count": 1,
   "metadata": {},
   "outputs": [],
   "source": [
    "import os\n",
    "import pandas as pd\n",
    "import matplotlib.pyplot as plt\n",
    "import seaborn as sns\n",
    "from sklearn.model_selection import train_test_split\n",
    "from sklearn.preprocessing import LabelEncoder\n",
    "from tensorflow.keras.preprocessing.image import ImageDataGenerator\n",
    "from tensorflow.keras.models import Sequential\n",
    "from tensorflow.keras.layers import Conv2D, MaxPooling2D, Flatten, Dense, Dropout\n",
    "from tensorflow.keras.callbacks import EarlyStopping"
   ]
  },
  {
   "cell_type": "code",
   "execution_count": 8,
   "metadata": {},
   "outputs": [
    {
     "name": "stdout",
     "output_type": "stream",
     "text": [
      "Train Data Sample:\n",
      "                                md5hash  fitzpatrick_scale  \\\n",
      "0  fd06d13de341cc75ad679916c5d7e6a6.jpg                  4   \n",
      "1  a4bb4e5206c4e89a303f470576fc5253.jpg                  1   \n",
      "2  c94ce27e389f96bda998e7c3fa5c4a2e.jpg                  5   \n",
      "3  ebcf2b50dd943c700d4e2b586fcd4425.jpg                  3   \n",
      "4  c77d6c895f05fea73a8f3704307036c0.jpg                  1   \n",
      "\n",
      "   fitzpatrick_centaur                             label nine_partition_label  \\\n",
      "0                    4                 prurigo-nodularis     benign-epidermal   \n",
      "1                    1  basal-cell-carcinoma-morpheiform  malignant-epidermal   \n",
      "2                    5                            keloid         inflammatory   \n",
      "3                    3              basal-cell-carcinoma  malignant-epidermal   \n",
      "4                    1                 prurigo-nodularis     benign-epidermal   \n",
      "\n",
      "  three_partition_label            qc  ddi_scale  \\\n",
      "0                benign           NaN         34   \n",
      "1             malignant           NaN         12   \n",
      "2        non-neoplastic  1 Diagnostic         56   \n",
      "3             malignant           NaN         34   \n",
      "4                benign           NaN         12   \n",
      "\n",
      "                                           file_path  \n",
      "0  prurigo-nodularis/fd06d13de341cc75ad679916c5d7...  \n",
      "1  basal-cell-carcinoma-morpheiform/a4bb4e5206c4e...  \n",
      "2        keloid/c94ce27e389f96bda998e7c3fa5c4a2e.jpg  \n",
      "3  basal-cell-carcinoma/ebcf2b50dd943c700d4e2b586...  \n",
      "4  prurigo-nodularis/c77d6c895f05fea73a8f37043070...  \n",
      "\n",
      "Test Data Sample:\n",
      "                                md5hash  fitzpatrick_scale  \\\n",
      "0  0844ae634f0e6e7ef1f73c2aeecbae0e.jpg                  2   \n",
      "1  3b290d262098f761d719aa07cf36c040.jpg                  4   \n",
      "2  cf561d08ac46d0fda678bff6621005ee.jpg                  2   \n",
      "3  e6371069be05c6b0a95b4b3f1bacc9a5.jpg                  4   \n",
      "4  f76cddb37265f97508f159078dcc7e7c.jpg                  5   \n",
      "\n",
      "   fitzpatrick_centaur   qc  ddi_scale  \n",
      "0                    2  NaN         12  \n",
      "1                    3  NaN         34  \n",
      "2                    3  NaN         12  \n",
      "3                    3  NaN         34  \n",
      "4                    5  NaN         56  \n"
     ]
    }
   ],
   "source": [
    "# Loading the Data \n",
    "train_df = pd.read_csv(\"C:/Users/Manik/Desktop/BTT Project/BTAI-AJL-Team-2/bttai-ajl-2025/train.csv\")\n",
    "test_df = pd.read_csv(\"C:/Users/Manik/Desktop/BTT Project/BTAI-AJL-Team-2/bttai-ajl-2025/test.csv\")\n",
    "\n",
    "# Add .jpg extension to md5hash column to reference the file_name\n",
    "train_df['md5hash'] = train_df['md5hash'].astype(str) + '.jpg'\n",
    "test_df['md5hash'] = test_df['md5hash'].astype(str) + '.jpg'\n",
    "\n",
    "# Combine label and md5hash to form the correct path\n",
    "train_df['file_path'] = train_df['label'] + '/' + train_df['md5hash']\n",
    "\n",
    "print(\"Train Data Sample:\")\n",
    "print(train_df.head())\n",
    "\n",
    "print(\"\\nTest Data Sample:\")\n",
    "print(test_df.head())"
   ]
  },
  {
   "cell_type": "code",
   "execution_count": null,
   "metadata": {},
   "outputs": [
    {
     "name": "stdout",
     "output_type": "stream",
     "text": [
      "Hello World\n"
     ]
    }
   ],
   "source": []
  },
  {
   "cell_type": "code",
   "execution_count": null,
   "metadata": {},
   "outputs": [],
   "source": []
  }
 ],
 "metadata": {
  "kernelspec": {
   "display_name": ".venv",
   "language": "python",
   "name": "python3"
  },
  "language_info": {
   "codemirror_mode": {
    "name": "ipython",
    "version": 3
   },
   "file_extension": ".py",
   "mimetype": "text/x-python",
   "name": "python",
   "nbconvert_exporter": "python",
   "pygments_lexer": "ipython3",
   "version": "3.12.1"
  }
 },
 "nbformat": 4,
 "nbformat_minor": 2
}
